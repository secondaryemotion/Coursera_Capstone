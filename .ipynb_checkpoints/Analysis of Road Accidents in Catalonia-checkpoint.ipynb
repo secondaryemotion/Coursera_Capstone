{
 "cells": [
  {
   "cell_type": "markdown",
   "metadata": {},
   "source": [
    "## Capstone Project: Analysis of Road Accidents in Catalonia"
   ]
  },
  {
   "cell_type": "markdown",
   "metadata": {},
   "source": [
    "#### Applied Data Science Capstone by IBM/Coursera"
   ]
  },
  {
   "cell_type": "markdown",
   "metadata": {},
   "source": [
    "### Table of Contents\n",
    "1. Introduction\n",
    "2. Data\n",
    "3. Methodology\n",
    "4. Results \n",
    "5. Discussion\n",
    "6. Conclusion"
   ]
  },
  {
   "cell_type": "markdown",
   "metadata": {},
   "source": [
    "### Introduction"
   ]
  },
  {
   "cell_type": "markdown",
   "metadata": {},
   "source": [
    "The number of people driving the roads every day is enormous. This leads to the high importance of road safety since road injuries are one of the most common causes of accidental death. However, improving road conditions also requires a lot of resources, which makes it necessary to take a systematic approach to determine which roads are more dangerous and need immediate attention.\n",
    "\n",
    "An effective way to define the actual riskiness of the specific road is to analyze data about road accidents. This project aims to **find features that affect road safety negatively, weigh their importance, conduct a statistical analysis of the current state of the roads, as well as suggest options for improvements**. \n",
    "\n",
    "It is obviously interesting for car drivers and citizens in general. Besides, this analysis can be useful for people responsible for future road improvements. The traffic police also may be interested in this analysis, since it identifies the conditions that require additional attention.\n"
   ]
  },
  {
   "cell_type": "markdown",
   "metadata": {},
   "source": [
    "### Data"
   ]
  },
  {
   "cell_type": "markdown",
   "metadata": {},
   "source": [
    "For this analysis, I have used Catalonia Road Traffic Injuries & Deaths dataset from Kaggle ([link](https://www.kaggle.com/jordigarciacastillon/road-traffic-injuries-deaths-catalonia-201020)), which consists of data from 2010 to 2020. For convenience, this dataset, as well as the results of its processing, will be placed in my GitHub repository.\n",
    "\n",
    "First of all, this dataset needs to be translated."
   ]
  },
  {
   "cell_type": "code",
   "execution_count": 94,
   "metadata": {},
   "outputs": [
    {
     "name": "stdout",
     "output_type": "stream",
     "text": [
      "Done!\n"
     ]
    }
   ],
   "source": [
    "import pandas as pd\n",
    "df=pd.read_csv(\"https://raw.githubusercontent.com/secondaryemotion/Coursera_Capstone/master/acc_catalonia_data.csv\")\n",
    "df.columns=['YEAR', 'AREA', 'DATE', 'ROAD', 'KM', 'CITY', 'COUNTY', 'DEMARCATION','N_DEATHS', 'N_MAJ_INJURIES', 'N_MIN_INJURIES', 'N_VICTIMS','N_VEHICLES', 'N_PEDESTRIANS','N_BICYCLES', 'N_MOPEDS','N_MOTORCYCLES', 'N_LIGHT_VEHICLES','N_HEAVY_VEHICLES', 'N_OTHER_TYPES','N_UNKNOWN_TYPE', 'ALLOWED_SPEED', 'LEAK','FOG', 'TERRAIN', 'SPECIAL_LANE','SPECIAL_MEASURES', 'CLIMATOLOGY', 'SPECIAL_FUNCTION','SEVERITY', 'FOG_INFLUENCE', 'TERRAIN_INFLUENCE','TRAFFIC_INFLUENCE', 'WEATHER_INFLUENCE', 'WIND_INFLUENCE','LUMINOSITY_INFLUENCE', 'SPECIAL_MEASURES_INFLUENCE', 'OBJECT_INFLUENCE','FURROWS_INFLUENCE', 'VISIBILITY_INFLUENCE', 'INTERSECTION','SPEED_LIMIT_DISPLAY', 'LIGHT_CONDITIONS', 'REGULATION_OF_PRIORITY','TRACK_TRAJECTORIES', 'ACC_CLASSIFICATION', 'TYPE_OF_SECTION', 'AREA_CLASSIFICATION','ROAD_STATE', 'ROAD_TYPE', 'ROAD_OWNERSHIP','ALTIMETRIC_LAYOUT', 'WIND_CLASSIFICATION', 'WORKING_DAY', 'TIME', 'TIME_SLOT','ACC_TYPE', 'WEEKDAY']\n",
    "df=df.replace({'No':'No','Si':'Yes','Sense especificar':'Not specified',\"No n'hi ha\":\"No\",'Sense Especificar':'Not specified'})\n",
    "df[\"AREA\"]=df[\"AREA\"].replace({'Zona urbana': 'Urban area','Carretera': 'Road'})\n",
    "df[\"TERRAIN\"]=df[\"TERRAIN\"].replace({'Desmunt':'Disassembled','A nivell':'Plane','Sense Especificar':'Not specified','Mixt':'Mixed','Terraplé':'Embankment'})\n",
    "df[\"SPECIAL_LANE\"]=df[\"SPECIAL_LANE\"].replace({\"No n'hi ha\":\"No\", 'Carril habilitat en sentit contrari habitual':'Lane enabled in the opposite direction than usual','Habilitació voral/carril addicional':'Additional curb / lane clearance','Carril lent':'Slow lane', \"Carril d'alentiment\":'Slowdown lane','Altres':'Others','Carril bus':'Bus lane','Carril central':'Central lane','Carril bici':'Cycling lane','Carril avançament':'Overtaking lane','Carril reversible':'Reversible lane','Carril acceleració':'Acceleration lane'})\n",
    "df[\"SPECIAL_MEASURES\"]=df[\"SPECIAL_MEASURES\"].replace({\"No n'hi ha\":\"No\",'Obres':'Works','Serveis de neteja o manteniment':'Cleaning or maintenance services','Esdeveniment extraordinari':'Extraordinary event','Accident trànsit anterior':'Previous traffic accident','Cons':'Built','Control policial':'Police control'})\n",
    "df[\"CLIMATOLOGY\"]=df[\"CLIMATOLOGY\"].replace({'Bon temps':'Good weather','Pluja forta':'Heavy rain','Pluja dèbil':'Light rain','Nevant':'Snowing','Calamarsa':'Hail'})\n",
    "df[\"SPECIAL_FUNCTION\"]=df[\"SPECIAL_FUNCTION\"].replace({'Sense funció especial':'No special function','Variant':'Alternative','Travessera':'Crossing','Ronda, cinturo o circumval.lacio':'Round, waist or circumvallation'})\n",
    "df[\"SEVERITY\"]=df[\"SEVERITY\"].replace({'Accident greu':'Serious accident','Accident mortal':'Fatal accident'})\n",
    "df[\"INTERSECTION\"]=df[\"INTERSECTION\"].replace({'Arribant o eixint intersecció fins 50m':'Arriving or leaving intersection up to 50m','Dintre intersecció':'Inside intersection','En secció':'In section'})\n",
    "df[\"SPEED_LIMIT_DISPLAY\"]=df[\"SPEED_LIMIT_DISPLAY\"].replace({'Genérica via':'Generic way','Senyal velocitat':'Speed signal'})\n",
    "df[\"LIGHT_CONDITIONS\"]=df[\"LIGHT_CONDITIONS\"].replace({'De nit, il·luminació artificial suficient':'At night, enough artificial lighting','De dia, dia clar':'Day, clear day','De nit, sense llum artificial':'At night, without artificial light','De dia, dia fosc':'Day, dark day','Alba o capvespre':'Dawn or dusk','De nit, il·luminació artificial insuficient':'At night, insufficient artificial lighting'})\n",
    "df[\"REGULATION_OF_PRIORITY\"]=df[\"REGULATION_OF_PRIORITY\"].replace({'Sols norma prioritat de pas':'Only standart way','Senyal Stop o cedeix pas':'Stop signal or give way','Semàfor':'Traffic light','Sols marques viàries (inclou pas vianants)':'Road markings only (includes pedestrian crossing)','Persona autoritzada':'Authorized person','Altres':'Others'})\n",
    "df[\"TRACK_TRAJECTORIES\"]=df[\"TRACK_TRAJECTORIES\"].replace({'Un sol sentit':'One way','Doble sentit':'Double way'})\n",
    "df[\"ACC_CLASSIFICATION\"]=df[\"ACC_CLASSIFICATION\"].replace({'Encalç':'Chase','Resta sortides de via':'Other road departures','Col·lisió frontal':'Front collision','Envestida (frontal lateral)':'Onslaught (front side)','Caiguda en la via':'Fall on the road','Atropellament':'Run over','Fregament o col·lisió lateral':'Friction or side collision','Xoc contra objecte/obstacle sense sortida prèvia de via':'Collision against object / obstacle without previous derailment','Altres':'Others','Sortida de via amb xoc o col·lisió':'Derailment with collision or clash','Sortida de via amb bolcada':'Derailment with dump','Sortida de via amb atropellament':'Derailment with collision','Xoc amb animal a la calçada':'Collision with animal on the road'})\n",
    "df[\"TYPE_OF_SECTION\"]=df[\"TYPE_OF_SECTION\"].replace({'Intersecció en T o Y':'T or Y intersection','Giratòria':'Rotary','Encreuament o intersecció en X o +':'Crossing or intersection at X or +',\"Enllaç d'entrada o eixida\":\"Entry or exit\",'Pas a nivell':'Level crossing'})\n",
    "df[\"AREA_CLASSIFICATION\"]=df[\"AREA_CLASSIFICATION\"].replace({'Zona urbana': 'Urban area','Carretera': 'Road','Travessera':'Crossing'})\n",
    "df[\"ROAD_STATE\"]=df[\"ROAD_STATE\"].replace({'Sec i net':'Dry and clean','Relliscós':'Slippery','Mullat':'Wet','Inundat':'Flooded','Nevat':'Snowy','Gelat':'Icy'})\n",
    "df[\"ROAD_TYPE\"]=df[\"ROAD_TYPE\"].replace({'Via urbana( inclou carrer i carrer residencial)':'Urban road (includes street and residential street)','Carretera convencional':'Conventional road','Altres':'Others','Autopista':'Highway', 'Autovia':'Freeway', 'Camí rural/pista forestal':'Rural road / forest track'})\n",
    "df['ROAD_OWNERSHIP']=df['ROAD_OWNERSHIP'].replace({'Estatal':'State','Municipal':'Municipal','Autonòmica':'Autonomous','Provincial':'Provincial','Altres':'Others'})\n",
    "df[\"ALTIMETRIC_LAYOUT\"]=df[\"ALTIMETRIC_LAYOUT\"].replace({'Pla':'Flat','Rampa o pendent':'Ramp or slope','Canvi rasant':'Ground change', 'Gual':'Ford'})\n",
    "df[\"WIND_CLASSIFICATION\"]=df[\"WIND_CLASSIFICATION\"].replace({'Calma, vent molt suau':'Calm, very gentle wind','Vent moderat':'Moderate wind','Vent fort':'Strong wind'})\n",
    "df[\"WORKING_DAY\"]=df[\"WORKING_DAY\"].replace({'Feiners':'Workdays','CapDeSetmana':'Weekend'})\n",
    "df[\"TIME_SLOT\"]=df[\"TIME_SLOT\"].replace({'Nit':'Night', 'Tarda':'Afternoon','Matí':'Morning'})\n",
    "df[\"ACC_TYPE\"]=df[\"ACC_TYPE\"].replace({'Col.lisió de vehicles en marxa':'Collision of vehicles in motion','Sortida de la calcada sense especificar':'Unspecified track exit','Bolcada a la calcada':'Dump on the track', 'Atropellament':'Run over',\"Col.lisió d'un vehicle contra un obstacle de la calcada\":\"Collision of a vehicle against a road obstacle\",'Altres':'Others'})\n",
    "df[\"WEEKDAY\"]=df[\"WEEKDAY\"].replace({'dill-dij':'mon-thu','dg':'sun','dis':'sat','div':'fri'})\n",
    "print('Done!')"
   ]
  },
  {
   "cell_type": "markdown",
   "metadata": {},
   "source": [
    "There is a lot of missing values in some additional attributes like allowed speed, regulation of priority, type of section and so on. they need to be replaced with 'Not specified'. Then we change the datatype of *‘ALLOWED_SPEED’* column from float to string. Also, value '999' in the *‘ALLOWED_SPEED’* needs to be replaced with ‘Not specified’."
   ]
  },
  {
   "cell_type": "code",
   "execution_count": 100,
   "metadata": {},
   "outputs": [
    {
     "name": "stdout",
     "output_type": "stream",
     "text": [
      "Done!\n"
     ]
    }
   ],
   "source": [
    "df['ALLOWED_SPEED']=df['ALLOWED_SPEED'].astype(str)\n",
    "df['ALLOWED_SPEED']=df['ALLOWED_SPEED'].replace({'999.0':'Not specified'})\n",
    "df=df.replace({'nan':'Not specified'})\n",
    "df=df.fillna('Not specified')\n",
    "print('Done!')"
   ]
  },
  {
   "cell_type": "markdown",
   "metadata": {},
   "source": [
    "This dataset has a huge number of features, so an important task is to sort essential features from irrelevant ones. We can do it by finding the number of unique values in each column."
   ]
  },
  {
   "cell_type": "code",
   "execution_count": 101,
   "metadata": {},
   "outputs": [
    {
     "data": {
      "text/plain": [
       "(16774, 59)"
      ]
     },
     "execution_count": 101,
     "metadata": {},
     "output_type": "execute_result"
    }
   ],
   "source": [
    "df.shape"
   ]
  },
  {
   "cell_type": "code",
   "execution_count": 102,
   "metadata": {},
   "outputs": [
    {
     "data": {
      "text/plain": [
       "YEAR                             9\n",
       "AREA                             2\n",
       "DATE                          3257\n",
       "ROAD                           679\n",
       "KM                            2150\n",
       "CITY                           854\n",
       "COUNTY                          42\n",
       "DEMARCATION                      4\n",
       "N_DEATHS                         8\n",
       "N_MAJ_INJURIES                  11\n",
       "N_MIN_INJURIES                  19\n",
       "N_VICTIMS                       21\n",
       "N_VEHICLES                      15\n",
       "N_PEDESTRIANS                    7\n",
       "N_BICYCLES                       9\n",
       "N_MOPEDS                         4\n",
       "N_MOTORCYCLES                    7\n",
       "N_LIGHT_VEHICLES                12\n",
       "N_HEAVY_VEHICLES                 7\n",
       "N_OTHER_TYPES                    4\n",
       "N_UNKNOWN_TYPE                   1\n",
       "ALLOWED_SPEED                   16\n",
       "LEAK                             3\n",
       "FOG                              2\n",
       "TERRAIN                          5\n",
       "SPECIAL_LANE                    13\n",
       "SPECIAL_MEASURES                 8\n",
       "CLIMATOLOGY                      6\n",
       "SPECIAL_FUNCTION                 5\n",
       "SEVERITY                         2\n",
       "FOG_INFLUENCE                    3\n",
       "TERRAIN_INFLUENCE                3\n",
       "TRAFFIC_INFLUENCE                3\n",
       "WEATHER_INFLUENCE                3\n",
       "WIND_INFLUENCE                   3\n",
       "LUMINOSITY_INFLUENCE             3\n",
       "SPECIAL_MEASURES_INFLUENCE       3\n",
       "OBJECT_INFLUENCE                 3\n",
       "FURROWS_INFLUENCE                3\n",
       "VISIBILITY_INFLUENCE             3\n",
       "INTERSECTION                     3\n",
       "SPEED_LIMIT_DISPLAY              2\n",
       "LIGHT_CONDITIONS                 7\n",
       "REGULATION_OF_PRIORITY           7\n",
       "TRACK_TRAJECTORIES               3\n",
       "ACC_CLASSIFICATION              13\n",
       "TYPE_OF_SECTION                  6\n",
       "AREA_CLASSIFICATION              3\n",
       "ROAD_STATE                       7\n",
       "ROAD_TYPE                        6\n",
       "ROAD_OWNERSHIP                   6\n",
       "ALTIMETRIC_LAYOUT                5\n",
       "WIND_CLASSIFICATION              4\n",
       "WORKING_DAY                      2\n",
       "TIME                          1298\n",
       "TIME_SLOT                        3\n",
       "ACC_TYPE                         6\n",
       "WEEKDAY                          4\n",
       "MONTH                           12\n",
       "dtype: int64"
      ]
     },
     "execution_count": 102,
     "metadata": {},
     "output_type": "execute_result"
    }
   ],
   "source": [
    "df.nunique()"
   ]
  },
  {
   "cell_type": "markdown",
   "metadata": {},
   "source": [
    "Since the total number of entries in this dataset is 16774, there is no benefit in using features *‘CITY’*, *‘TIME’*, *‘KM’* in further analysis. *'ROAD'* feature will be useful later, so we'll save it in a different copy of this dataset.\n",
    "\n",
    "*'DATE'* will be replaced with *'MONTH'*, and a list of features with data, which can be obtained only after the accident, will be dropped."
   ]
  },
  {
   "cell_type": "code",
   "execution_count": 183,
   "metadata": {},
   "outputs": [
    {
     "name": "stdout",
     "output_type": "stream",
     "text": [
      "Done!\n"
     ]
    }
   ],
   "source": [
    "pd.options.mode.chained_assignment = None\n",
    "df['DATE'] = pd.to_datetime(df['DATE'],format='%d/%m/%Y')\n",
    "df['MONTH']=pd.Series(int)\n",
    "for id,item in enumerate(df['DATE']):\n",
    "    df['MONTH'].iloc[id]=item.month\n",
    "    \n",
    "roaddf=df[['AREA', 'MONTH','ROAD', 'COUNTY', 'DEMARCATION','N_DEATHS', 'N_MAJ_INJURIES', 'ALLOWED_SPEED', 'LEAK','FOG', 'TERRAIN', 'SPECIAL_LANE','SPECIAL_MEASURES', 'CLIMATOLOGY', 'SPECIAL_FUNCTION','INTERSECTION', 'LIGHT_CONDITIONS', 'REGULATION_OF_PRIORITY','TRACK_TRAJECTORIES', 'TYPE_OF_SECTION', 'AREA_CLASSIFICATION','ROAD_STATE', 'ROAD_TYPE', 'ROAD_OWNERSHIP','ALTIMETRIC_LAYOUT', 'WIND_CLASSIFICATION', 'TIME_SLOT','WEEKDAY']]\n",
    "maindf=df[['AREA', 'MONTH','COUNTY', 'DEMARCATION','N_DEATHS', 'N_MAJ_INJURIES', 'ALLOWED_SPEED', 'LEAK','FOG', 'TERRAIN', 'SPECIAL_LANE','SPECIAL_MEASURES', 'CLIMATOLOGY', 'SPECIAL_FUNCTION','INTERSECTION', 'LIGHT_CONDITIONS', 'REGULATION_OF_PRIORITY','TRACK_TRAJECTORIES', 'TYPE_OF_SECTION', 'AREA_CLASSIFICATION','ROAD_STATE', 'ROAD_TYPE', 'ROAD_OWNERSHIP','ALTIMETRIC_LAYOUT', 'WIND_CLASSIFICATION', 'TIME_SLOT','WEEKDAY']]\n",
    "print('Done!')"
   ]
  },
  {
   "cell_type": "code",
   "execution_count": 184,
   "metadata": {},
   "outputs": [
    {
     "data": {
      "text/html": [
       "<div>\n",
       "<style scoped>\n",
       "    .dataframe tbody tr th:only-of-type {\n",
       "        vertical-align: middle;\n",
       "    }\n",
       "\n",
       "    .dataframe tbody tr th {\n",
       "        vertical-align: top;\n",
       "    }\n",
       "\n",
       "    .dataframe thead th {\n",
       "        text-align: right;\n",
       "    }\n",
       "</style>\n",
       "<table border=\"1\" class=\"dataframe\">\n",
       "  <thead>\n",
       "    <tr style=\"text-align: right;\">\n",
       "      <th></th>\n",
       "      <th>AREA</th>\n",
       "      <th>MONTH</th>\n",
       "      <th>COUNTY</th>\n",
       "      <th>DEMARCATION</th>\n",
       "      <th>N_DEATHS</th>\n",
       "      <th>N_MAJ_INJURIES</th>\n",
       "      <th>ALLOWED_SPEED</th>\n",
       "      <th>LEAK</th>\n",
       "      <th>FOG</th>\n",
       "      <th>TERRAIN</th>\n",
       "      <th>...</th>\n",
       "      <th>TRACK_TRAJECTORIES</th>\n",
       "      <th>TYPE_OF_SECTION</th>\n",
       "      <th>AREA_CLASSIFICATION</th>\n",
       "      <th>ROAD_STATE</th>\n",
       "      <th>ROAD_TYPE</th>\n",
       "      <th>ROAD_OWNERSHIP</th>\n",
       "      <th>ALTIMETRIC_LAYOUT</th>\n",
       "      <th>WIND_CLASSIFICATION</th>\n",
       "      <th>TIME_SLOT</th>\n",
       "      <th>WEEKDAY</th>\n",
       "    </tr>\n",
       "  </thead>\n",
       "  <tbody>\n",
       "    <tr>\n",
       "      <th>0</th>\n",
       "      <td>Urban area</td>\n",
       "      <td>1</td>\n",
       "      <td>Valles Oriental</td>\n",
       "      <td>Barcelona</td>\n",
       "      <td>0</td>\n",
       "      <td>1</td>\n",
       "      <td>100.0</td>\n",
       "      <td>No</td>\n",
       "      <td>No</td>\n",
       "      <td>Disassembled</td>\n",
       "      <td>...</td>\n",
       "      <td>One way</td>\n",
       "      <td>T or Y intersection</td>\n",
       "      <td>Urban area</td>\n",
       "      <td>Dry and clean</td>\n",
       "      <td>Urban road (includes street and residential st...</td>\n",
       "      <td>Not specified</td>\n",
       "      <td>Not specified</td>\n",
       "      <td>Calm, very gentle wind</td>\n",
       "      <td>Night</td>\n",
       "      <td>mon-thu</td>\n",
       "    </tr>\n",
       "    <tr>\n",
       "      <th>1</th>\n",
       "      <td>Road</td>\n",
       "      <td>10</td>\n",
       "      <td>Segria</td>\n",
       "      <td>Lleida</td>\n",
       "      <td>0</td>\n",
       "      <td>1</td>\n",
       "      <td>40.0</td>\n",
       "      <td>No</td>\n",
       "      <td>No</td>\n",
       "      <td>Plane</td>\n",
       "      <td>...</td>\n",
       "      <td>Double way</td>\n",
       "      <td>Rotary</td>\n",
       "      <td>Road</td>\n",
       "      <td>Dry and clean</td>\n",
       "      <td>Conventional road</td>\n",
       "      <td>State</td>\n",
       "      <td>Flat</td>\n",
       "      <td>Calm, very gentle wind</td>\n",
       "      <td>Night</td>\n",
       "      <td>sun</td>\n",
       "    </tr>\n",
       "    <tr>\n",
       "      <th>2</th>\n",
       "      <td>Road</td>\n",
       "      <td>5</td>\n",
       "      <td>Girones</td>\n",
       "      <td>Girona</td>\n",
       "      <td>1</td>\n",
       "      <td>0</td>\n",
       "      <td>80.0</td>\n",
       "      <td>No</td>\n",
       "      <td>No</td>\n",
       "      <td>Plane</td>\n",
       "      <td>...</td>\n",
       "      <td>Double way</td>\n",
       "      <td>Not specified</td>\n",
       "      <td>Road</td>\n",
       "      <td>Dry and clean</td>\n",
       "      <td>Conventional road</td>\n",
       "      <td>State</td>\n",
       "      <td>Ramp or slope</td>\n",
       "      <td>Calm, very gentle wind</td>\n",
       "      <td>Afternoon</td>\n",
       "      <td>mon-thu</td>\n",
       "    </tr>\n",
       "    <tr>\n",
       "      <th>3</th>\n",
       "      <td>Urban area</td>\n",
       "      <td>8</td>\n",
       "      <td>Barcelones</td>\n",
       "      <td>Barcelona</td>\n",
       "      <td>0</td>\n",
       "      <td>2</td>\n",
       "      <td>100.0</td>\n",
       "      <td>No</td>\n",
       "      <td>No</td>\n",
       "      <td>Not specified</td>\n",
       "      <td>...</td>\n",
       "      <td>One way</td>\n",
       "      <td>Crossing or intersection at X or +</td>\n",
       "      <td>Urban area</td>\n",
       "      <td>Dry and clean</td>\n",
       "      <td>Urban road (includes street and residential st...</td>\n",
       "      <td>Not specified</td>\n",
       "      <td>Not specified</td>\n",
       "      <td>Calm, very gentle wind</td>\n",
       "      <td>Night</td>\n",
       "      <td>sat</td>\n",
       "    </tr>\n",
       "    <tr>\n",
       "      <th>4</th>\n",
       "      <td>Urban area</td>\n",
       "      <td>5</td>\n",
       "      <td>Barcelones</td>\n",
       "      <td>Barcelona</td>\n",
       "      <td>0</td>\n",
       "      <td>1</td>\n",
       "      <td>100.0</td>\n",
       "      <td>No</td>\n",
       "      <td>No</td>\n",
       "      <td>Not specified</td>\n",
       "      <td>...</td>\n",
       "      <td>One way</td>\n",
       "      <td>Crossing or intersection at X or +</td>\n",
       "      <td>Urban area</td>\n",
       "      <td>Dry and clean</td>\n",
       "      <td>Urban road (includes street and residential st...</td>\n",
       "      <td>Not specified</td>\n",
       "      <td>Not specified</td>\n",
       "      <td>Calm, very gentle wind</td>\n",
       "      <td>Afternoon</td>\n",
       "      <td>fri</td>\n",
       "    </tr>\n",
       "  </tbody>\n",
       "</table>\n",
       "<p>5 rows × 27 columns</p>\n",
       "</div>"
      ],
      "text/plain": [
       "         AREA MONTH           COUNTY DEMARCATION  N_DEATHS  N_MAJ_INJURIES  \\\n",
       "0  Urban area     1  Valles Oriental   Barcelona         0               1   \n",
       "1        Road    10           Segria      Lleida         0               1   \n",
       "2        Road     5          Girones      Girona         1               0   \n",
       "3  Urban area     8       Barcelones   Barcelona         0               2   \n",
       "4  Urban area     5       Barcelones   Barcelona         0               1   \n",
       "\n",
       "  ALLOWED_SPEED LEAK FOG        TERRAIN  ... TRACK_TRAJECTORIES  \\\n",
       "0         100.0   No  No   Disassembled  ...            One way   \n",
       "1          40.0   No  No          Plane  ...         Double way   \n",
       "2          80.0   No  No          Plane  ...         Double way   \n",
       "3         100.0   No  No  Not specified  ...            One way   \n",
       "4         100.0   No  No  Not specified  ...            One way   \n",
       "\n",
       "                      TYPE_OF_SECTION AREA_CLASSIFICATION     ROAD_STATE  \\\n",
       "0                 T or Y intersection          Urban area  Dry and clean   \n",
       "1                              Rotary                Road  Dry and clean   \n",
       "2                       Not specified                Road  Dry and clean   \n",
       "3  Crossing or intersection at X or +          Urban area  Dry and clean   \n",
       "4  Crossing or intersection at X or +          Urban area  Dry and clean   \n",
       "\n",
       "                                           ROAD_TYPE ROAD_OWNERSHIP  \\\n",
       "0  Urban road (includes street and residential st...  Not specified   \n",
       "1                                  Conventional road          State   \n",
       "2                                  Conventional road          State   \n",
       "3  Urban road (includes street and residential st...  Not specified   \n",
       "4  Urban road (includes street and residential st...  Not specified   \n",
       "\n",
       "  ALTIMETRIC_LAYOUT     WIND_CLASSIFICATION  TIME_SLOT  WEEKDAY  \n",
       "0     Not specified  Calm, very gentle wind      Night  mon-thu  \n",
       "1              Flat  Calm, very gentle wind      Night      sun  \n",
       "2     Ramp or slope  Calm, very gentle wind  Afternoon  mon-thu  \n",
       "3     Not specified  Calm, very gentle wind      Night      sat  \n",
       "4     Not specified  Calm, very gentle wind  Afternoon      fri  \n",
       "\n",
       "[5 rows x 27 columns]"
      ]
     },
     "execution_count": 184,
     "metadata": {},
     "output_type": "execute_result"
    }
   ],
   "source": [
    "maindf.head()"
   ]
  },
  {
   "cell_type": "markdown",
   "metadata": {},
   "source": [
    "To determine the strength of correlation between values, we need to convert them to a numerical format using LabelEncoder from sklearn library, calculate the Pearson coefficient and represent it as a heatmap. Also, we will show a list of the found relationships with the absolute value of the Pearson coefficient exceeding 0.7."
   ]
  },
  {
   "cell_type": "code",
   "execution_count": 205,
   "metadata": {},
   "outputs": [
    {
     "name": "stdout",
     "output_type": "stream",
     "text": [
      "0.7232024920201996 0.0 AREA AREA_CLASSIFICATION\n",
      "0.8843542220096519 0.0 AREA ROAD_TYPE\n",
      "0.7232024920201996 0.0 AREA_CLASSIFICATION AREA\n",
      "0.8735443956409672 0.0 AREA_CLASSIFICATION ROAD_TYPE\n",
      "0.8843542220096519 0.0 ROAD_TYPE AREA\n",
      "0.8735443956409672 0.0 ROAD_TYPE AREA_CLASSIFICATION\n"
     ]
    },
    {
     "data": {
      "image/png": "[encoded data removed]",
      "text/plain": [
       "<Figure size 720x504 with 2 Axes>"
      ]
     },
     "metadata": {
      "needs_background": "light"
     },
     "output_type": "display_data"
    }
   ],
   "source": [
    "from sklearn import preprocessing\n",
    "import seaborn as sns\n",
    "import scipy.stats as stats\n",
    "from scipy.stats.stats import pearsonr\n",
    "import matplotlib as mpl\n",
    "import matplotlib.pyplot as plt\n",
    "%matplotlib inline \n",
    "from matplotlib.pyplot import figure\n",
    "\n",
    "subdf = maindf.copy()\n",
    "subdf.drop(columns=['N_DEATHS', 'N_MAJ_INJURIES'],inplace=True)\n",
    "le = preprocessing.LabelEncoder()\n",
    "for id,item in enumerate(subdf):\n",
    "    le.fit(subdf[item])\n",
    "    subdf[item]=le.transform(subdf[item])\n",
    "\n",
    "subdf_cols=subdf.columns\n",
    "size=(subdf_cols).size\n",
    "coef=[[0 for i in range(size)] for j in range(size)]\n",
    "pval=[[0 for i in range(size)] for j in range(size)]\n",
    "for id,item in enumerate(subdf_cols):\n",
    "    i=id\n",
    "    for id,item2 in enumerate(subdf_cols):\n",
    "        pcoef, p_value=stats.pearsonr(subdf[item],subdf[item2])\n",
    "        coef[i][id]=pcoef\n",
    "        pval[i][id]=p_value\n",
    "        if (abs(pcoef)>0.7) & (item!=item2):\n",
    "            print(pcoef, p_value, item, item2)\n",
    "            \n",
    "ax = plt.subplots(figsize=(10,7)) \n",
    "ax = sns.heatmap(\n",
    "    coef, \n",
    "    vmin=-1, vmax=1, center=0,\n",
    "    cmap=sns.diverging_palette(250, 15, n=200),\n",
    "    square=True\n",
    ")\n",
    "ax.set_xticklabels(subdf, rotation=90, horizontalalignment='right')\n",
    "ax.set_yticklabels(subdf, rotation=0, horizontalalignment='right')\n",
    "xticks=range(size)\n",
    "ax.set_yticks=range(size)"
   ]
  },
  {
   "cell_type": "markdown",
   "metadata": {},
   "source": [
    "All three features are related. Values of *‘AREA’* and *‘AREA_CLASSIFICATION’* columns are close. Thus, the *‘AREA’* column can be dropped. The *‘ROAD_TYPE’* column can be dropped, too."
   ]
  },
  {
   "cell_type": "code",
   "execution_count": 106,
   "metadata": {},
   "outputs": [
    {
     "name": "stdout",
     "output_type": "stream",
     "text": [
      "Done!\n"
     ]
    }
   ],
   "source": [
    "maindf.drop(columns=['AREA', 'ROAD_TYPE'], inplace=True)\n",
    "print('Done!')"
   ]
  },
  {
   "cell_type": "markdown",
   "metadata": {},
   "source": [
    "After all, there should be 23 features and 2 target variables in the dataset."
   ]
  },
  {
   "cell_type": "code",
   "execution_count": 108,
   "metadata": {},
   "outputs": [
    {
     "data": {
      "text/plain": [
       "(16774, 25)"
      ]
     },
     "execution_count": 108,
     "metadata": {},
     "output_type": "execute_result"
    }
   ],
   "source": [
    "maindf.shape"
   ]
  },
  {
   "cell_type": "markdown",
   "metadata": {},
   "source": [
    "### Methodology"
   ]
  },
  {
   "cell_type": "markdown",
   "metadata": {},
   "source": [
    "First, we need to determine the contribution of each road feature to the overall hazard ratio. We'll add a temporary column *'count'* to track the number of entries for every unique value of the features. Also, we need to pick out maximum values of hazard coefficient."
   ]
  },
  {
   "cell_type": "code",
   "execution_count": 169,
   "metadata": {},
   "outputs": [],
   "source": [
    "hazard_coefs={}\n",
    "maindf['count']=1\n",
    "df_col=maindf.columns.drop(labels=['N_DEATHS', 'N_MAJ_INJURIES','count'])\n",
    "max_hazard=[0]*len(df_col)\n",
    "for id,item in enumerate(df_col):\n",
    "    hazard_coefs[id]=maindf.groupby([item],as_index=False).sum()\n",
    "    hazard_coefs[id]['coef_deaths']=(hazard_coefs[id]['N_DEATHS'])/(hazard_coefs[id]['count'])\n",
    "    hazard_coefs[id]['coef_maj_inj']=(hazard_coefs[id]['N_MAJ_INJURIES'])/(hazard_coefs[id]['count'])\n",
    "    hazard_coefs[id]['hazard_coef']=hazard_coefs[id]['coef_deaths']+hazard_coefs[id]['coef_maj_inj']\n",
    "    hazard_coefs[id].drop(labels=['N_DEATHS', 'N_MAJ_INJURIES','count','coef_maj_inj','coef_deaths'],axis=1,inplace=True)\n",
    "    for i in range(len(hazard_coefs[id]['hazard_coef'])):\n",
    "        if (hazard_coefs[id]['hazard_coef'][i] > max_hazard[id]):\n",
    "            max_hazard[id]=hazard_coefs[id]['hazard_coef'][i].copy()"
   ]
  },
  {
   "cell_type": "markdown",
   "metadata": {},
   "source": [
    "From the maximum values of the coefficients, we determine the maximum possible value of the hazard coefficient, carry out normalization and use its results to determine the weight of each component of the coefficient. Individual values of hazard coefficient for each value are normalized to the weight of the coefficient component."
   ]
  },
  {
   "cell_type": "code",
   "execution_count": 170,
   "metadata": {},
   "outputs": [],
   "source": [
    "max_haz_coef=sum(max_hazard)\n",
    "weighted_max_hazard=[0]*len(df_col)\n",
    "for i in range(len(df_col)):\n",
    "    weighted_max_hazard[i]=max_hazard[i]/max_haz_coef\n",
    "\n",
    "for i in range(len(df_col)):\n",
    "    for j in range(len(hazard_coefs[i]['hazard_coef'])):\n",
    "        hazard_coefs[i]['hazard_coef'][j] = hazard_coefs[i]['hazard_coef'][j]/max_hazard[i]*weighted_max_hazard[i]"
   ]
  },
  {
   "cell_type": "markdown",
   "metadata": {},
   "source": [
    "We now have hazard coefficient values for all road features."
   ]
  },
  {
   "cell_type": "code",
   "execution_count": 171,
   "metadata": {},
   "outputs": [
    {
     "data": {
      "text/plain": [
       "{0:     MONTH  hazard_coef\n",
       " 0       1     0.037543\n",
       " 1       2     0.036599\n",
       " 2       3     0.038224\n",
       " 3       4     0.037224\n",
       " 4       5     0.036396\n",
       " 5       6     0.037824\n",
       " 6       7     0.038408\n",
       " 7       8     0.039868\n",
       " 8       9     0.037214\n",
       " 9      10     0.036748\n",
       " 10     11     0.037371\n",
       " 11     12     0.037592,\n",
       " 1:                COUNTY  hazard_coef\n",
       " 0            Alt Camp     0.037613\n",
       " 1         Alt Emporda     0.039892\n",
       " 2         Alt Penedes     0.037273\n",
       " 3          Alt Urgell     0.043434\n",
       " 4      Alta Ribagorca     0.033979\n",
       " 5               Anoia     0.039971\n",
       " 6               Bages     0.041059\n",
       " 7           Baix Camp     0.037426\n",
       " 8           Baix Ebre     0.041962\n",
       " 9        Baix Emporda     0.038584\n",
       " 10     Baix Llobregat     0.035357\n",
       " 11       Baix Penedes     0.036645\n",
       " 12         Barcelones     0.035171\n",
       " 13           Bergueda     0.043434\n",
       " 14           Cerdanya     0.041596\n",
       " 15   Conca de Barbera     0.043844\n",
       " 16             Garraf     0.036400\n",
       " 17          Garrigues     0.045109\n",
       " 18           Garrotxa     0.038299\n",
       " 19            Girones     0.037683\n",
       " 20            Maresme     0.035477\n",
       " 21            Moianès     0.038729\n",
       " 22            Montsia     0.046247\n",
       " 23            Noguera     0.043222\n",
       " 24              Osona     0.037953\n",
       " 25      Pallars Jussa     0.043507\n",
       " 26     Pallars Sobira     0.039229\n",
       " 27       Pla d'Urgell     0.037428\n",
       " 28    Pla de l'Estany     0.039207\n",
       " 29            Priorat     0.036910\n",
       " 30      Ribera d'Ebre     0.041330\n",
       " 31           Ripolles     0.039460\n",
       " 32            Segarra     0.049879\n",
       " 33             Segria     0.037231\n",
       " 34              Selva     0.039736\n",
       " 35           Solsones     0.041190\n",
       " 36         Tarragones     0.036517\n",
       " 37         Terra Alta     0.037755\n",
       " 38             Urgell     0.041358\n",
       " 39         Val d'Aran     0.042810\n",
       " 40  Valles Occidental     0.035861\n",
       " 41    Valles Oriental     0.037318,\n",
       " 2:   DEMARCATION  hazard_coef\n",
       " 0   Barcelona     0.036434\n",
       " 1      Girona     0.039102\n",
       " 2      Lleida     0.040498\n",
       " 3   Tarragona     0.038970,\n",
       " 3:     ALLOWED_SPEED  hazard_coef\n",
       " 0             0.0     0.032883\n",
       " 1            10.0     0.032883\n",
       " 2           100.0     0.038182\n",
       " 3           110.0     0.051152\n",
       " 4           120.0     0.041515\n",
       " 5            20.0     0.033870\n",
       " 6            30.0     0.035018\n",
       " 7            40.0     0.036537\n",
       " 8            45.0     0.032883\n",
       " 9            50.0     0.036151\n",
       " 10           60.0     0.042288\n",
       " 11           70.0     0.040120\n",
       " 12           80.0     0.041213\n",
       " 13           90.0     0.046249\n",
       " 14           99.0     0.032883\n",
       " 15  Not specified     0.034589,\n",
       " 4:             LEAK  hazard_coef\n",
       " 0             No     0.037667\n",
       " 1  Not specified     0.033987\n",
       " 2            Yes     0.035299,\n",
       " 5:    FOG  hazard_coef\n",
       " 0   No     0.037614\n",
       " 1  Yes     0.036806,\n",
       " 6:          TERRAIN  hazard_coef\n",
       " 0   Disassembled     0.040546\n",
       " 1     Embankment     0.042516\n",
       " 2          Mixed     0.041993\n",
       " 3  Not specified     0.035437\n",
       " 4          Plane     0.037074,\n",
       " 7:                                          SPECIAL_LANE  hazard_coef\n",
       " 0                                   Acceleration lane     0.041634\n",
       " 1                    Additional curb / lane clearance     0.035151\n",
       " 2                                            Bus lane     0.034809\n",
       " 3                                        Central lane     0.041522\n",
       " 4                                        Cycling lane     0.034449\n",
       " 5   Lane enabled in the opposite direction than usual     0.041104\n",
       " 6                                                  No     0.037669\n",
       " 7                                       Not specified     0.035008\n",
       " 8                                              Others     0.037092\n",
       " 9                                     Overtaking lane     0.052978\n",
       " 10                                    Reversible lane     0.042555\n",
       " 11                                          Slow lane     0.044940\n",
       " 12                                      Slowdown lane     0.038660,\n",
       " 8:                    SPECIAL_MEASURES  hazard_coef\n",
       " 0                             Built     0.038364\n",
       " 1  Cleaning or maintenance services     0.034938\n",
       " 2               Extraordinary event     0.034345\n",
       " 3                                No     0.037560\n",
       " 4                     Not specified     0.034710\n",
       " 5                    Police control     0.032883\n",
       " 6         Previous traffic accident     0.039582\n",
       " 7                             Works     0.040759,\n",
       " 9:      CLIMATOLOGY  hazard_coef\n",
       " 0   Good weather     0.037350\n",
       " 1           Hail     0.047498\n",
       " 2     Heavy rain     0.042320\n",
       " 3     Light rain     0.041082\n",
       " 4  Not specified     0.032883\n",
       " 5        Snowing     0.045214,\n",
       " 10:                   SPECIAL_FUNCTION  hazard_coef\n",
       " 0                      Alternative     0.044998\n",
       " 1                         Crossing     0.035821\n",
       " 2              No special function     0.037585\n",
       " 3                    Not specified     0.065766\n",
       " 4  Round, waist or circumvallation     0.038686,\n",
       " 11:                                  INTERSECTION  hazard_coef\n",
       " 0  Arriving or leaving intersection up to 50m     0.035562\n",
       " 1                                  In section     0.038680\n",
       " 2                         Inside intersection     0.035410,\n",
       " 12:                              LIGHT_CONDITIONS  hazard_coef\n",
       " 0        At night, enough artificial lighting     0.035747\n",
       " 1  At night, insufficient artificial lighting     0.037715\n",
       " 2          At night, without artificial light     0.043229\n",
       " 3                                Dawn or dusk     0.038527\n",
       " 4                              Day, clear day     0.036932\n",
       " 5                               Day, dark day     0.043124\n",
       " 6                               Not specified     0.032883,\n",
       " 13:                               REGULATION_OF_PRIORITY  hazard_coef\n",
       " 0                                  Authorized person     0.032883\n",
       " 1                                      Not specified     0.038538\n",
       " 2                                  Only standart way     0.035070\n",
       " 3                                             Others     0.043844\n",
       " 4  Road markings only (includes pedestrian crossing)     0.034983\n",
       " 5                            Stop signal or give way     0.035798\n",
       " 6                                      Traffic light     0.035261,\n",
       " 14:   TRACK_TRAJECTORIES  hazard_coef\n",
       " 0         Double way     0.038712\n",
       " 1      Not specified     0.035921\n",
       " 2            One way     0.035741,\n",
       " 15:                       TYPE_OF_SECTION  hazard_coef\n",
       " 0  Crossing or intersection at X or +     0.035070\n",
       " 1                       Entry or exit     0.036606\n",
       " 2                      Level crossing     0.032883\n",
       " 3                       Not specified     0.038673\n",
       " 4                              Rotary     0.035083\n",
       " 5                 T or Y intersection     0.035852,\n",
       " 16:   AREA_CLASSIFICATION  hazard_coef\n",
       " 0            Crossing     0.035729\n",
       " 1                Road     0.041079\n",
       " 2          Urban area     0.034556,\n",
       " 17:       ROAD_STATE  hazard_coef\n",
       " 0  Dry and clean     0.037634\n",
       " 1        Flooded     0.034378\n",
       " 2            Icy     0.035075\n",
       " 3  Not specified     0.032883\n",
       " 4       Slippery     0.035623\n",
       " 5          Snowy     0.032883\n",
       " 6            Wet     0.037438,\n",
       " 18:   ROAD_OWNERSHIP  hazard_coef\n",
       " 0     Autonomous     0.042497\n",
       " 1      Municipal     0.035199\n",
       " 2  Not specified     0.035082\n",
       " 3         Others     0.035804\n",
       " 4     Provincial     0.037795\n",
       " 5          State     0.043113,\n",
       " 19:   ALTIMETRIC_LAYOUT  hazard_coef\n",
       " 0              Flat     0.040684\n",
       " 1              Ford     0.038862\n",
       " 2     Ground change     0.041960\n",
       " 3     Not specified     0.035069\n",
       " 4     Ramp or slope     0.040629,\n",
       " 20:       WIND_CLASSIFICATION  hazard_coef\n",
       " 0  Calm, very gentle wind     0.037510\n",
       " 1           Moderate wind     0.040665\n",
       " 2           Not specified     0.032883\n",
       " 3             Strong wind     0.045837,\n",
       " 21:    TIME_SLOT  hazard_coef\n",
       " 0  Afternoon     0.037537\n",
       " 1    Morning     0.037059\n",
       " 2      Night     0.039630,\n",
       " 22:    WEEKDAY  hazard_coef\n",
       " 0      fri     0.037259\n",
       " 1  mon-thu     0.036309\n",
       " 2      sat     0.039189\n",
       " 3      sun     0.041413}"
      ]
     },
     "execution_count": 171,
     "metadata": {},
     "output_type": "execute_result"
    }
   ],
   "source": [
    "hazard_coefs"
   ]
  },
  {
   "cell_type": "markdown",
   "metadata": {},
   "source": [
    "Let's represent the influence of each feature on the total coefficient in the form of a graph."
   ]
  },
  {
   "cell_type": "code",
   "execution_count": 181,
   "metadata": {},
   "outputs": [
    {
     "data": {
      "image/png": "[encoded data removed]",
      "text/plain": [
       "<Figure size 720x576 with 1 Axes>"
      ]
     },
     "metadata": {
      "needs_background": "light"
     },
     "output_type": "display_data"
    }
   ],
   "source": [
    "plt.figure(figsize=((10,8)))\n",
    "plt.bar(df_col, weighted_max_hazard)\n",
    "plt.xticks(rotation=90)\n",
    "plt.show()"
   ]
  },
  {
   "cell_type": "code",
   "execution_count": null,
   "metadata": {},
   "outputs": [],
   "source": []
  }
 ],
 "metadata": {
  "kernelspec": {
   "display_name": "Python 3",
   "language": "python",
   "name": "python3"
  },
  "language_info": {
   "codemirror_mode": {
    "name": "ipython",
    "version": 3
   },
   "file_extension": ".py",
   "mimetype": "text/x-python",
   "name": "python",
   "nbconvert_exporter": "python",
   "pygments_lexer": "ipython3",
   "version": "3.8.3"
  }
 },
 "nbformat": 4,
 "nbformat_minor": 4
}
