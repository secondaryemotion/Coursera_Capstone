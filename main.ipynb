{
 "cells": [
  {
   "cell_type": "markdown",
   "metadata": {},
   "source": [
    "This Notebook is for my Coursera Capstone Project. I'll be using Catalonia collisions data from Kaggle ([link](https://www.kaggle.com/jordigarciacastillon/road-traffic-injuries-deaths-catalonia-201020))."
   ]
  },
  {
   "cell_type": "code",
   "execution_count": 208,
   "metadata": {},
   "outputs": [],
   "source": [
    "import pandas as pd\n",
    "import numpy as np\n",
    "%matplotlib inline \n",
    "import matplotlib as mpl\n",
    "import matplotlib.pyplot as plt\n",
    "import seaborn as sns\n",
    "from sklearn import preprocessing\n",
    "import datetime\n",
    "import itertools\n",
    "from matplotlib.ticker import NullFormatter\n",
    "import matplotlib.ticker as ticker\n",
    "from sklearn import metrics\n",
    "from sklearn.metrics import jaccard_score\n",
    "from sklearn.metrics import f1_score\n",
    "from sklearn.metrics import log_loss\n",
    "import scipy.stats as stats\n",
    "from scipy.stats.stats import pearsonr\n",
    "from matplotlib.pyplot import figure\n"
   ]
  },
  {
   "cell_type": "markdown",
   "metadata": {},
   "source": [
    "Let's download and get familiar with the database."
   ]
  },
  {
   "cell_type": "code",
   "execution_count": 30,
   "metadata": {},
   "outputs": [],
   "source": [
    "df=pd.read_csv(r\"C:\\Users\\Iana\\Dropbox\\acc_catalonia_data.csv\")"
   ]
  },
  {
   "cell_type": "code",
   "execution_count": 31,
   "metadata": {},
   "outputs": [
    {
     "data": {
      "text/plain": [
       "(16774, 58)"
      ]
     },
     "execution_count": 31,
     "metadata": {},
     "output_type": "execute_result"
    }
   ],
   "source": [
    "df.shape"
   ]
  },
  {
   "cell_type": "code",
   "execution_count": 32,
   "metadata": {},
   "outputs": [
    {
     "data": {
      "text/html": [
       "<div>\n",
       "<style scoped>\n",
       "    .dataframe tbody tr th:only-of-type {\n",
       "        vertical-align: middle;\n",
       "    }\n",
       "\n",
       "    .dataframe tbody tr th {\n",
       "        vertical-align: top;\n",
       "    }\n",
       "\n",
       "    .dataframe thead th {\n",
       "        text-align: right;\n",
       "    }\n",
       "</style>\n",
       "<table border=\"1\" class=\"dataframe\">\n",
       "  <thead>\n",
       "    <tr style=\"text-align: right;\">\n",
       "      <th></th>\n",
       "      <th>Any</th>\n",
       "      <th>zona</th>\n",
       "      <th>dat</th>\n",
       "      <th>via</th>\n",
       "      <th>pk</th>\n",
       "      <th>nomMun</th>\n",
       "      <th>nomCom</th>\n",
       "      <th>nomDem</th>\n",
       "      <th>F_MORTS</th>\n",
       "      <th>F_FERITS_GREUS</th>\n",
       "      <th>...</th>\n",
       "      <th>D_SUPERFICIE</th>\n",
       "      <th>D_TIPUS_VIA</th>\n",
       "      <th>D_TITULARITAT_VIA</th>\n",
       "      <th>D_TRACAT_ALTIMETRIC</th>\n",
       "      <th>D_VENT</th>\n",
       "      <th>grupDiaLab</th>\n",
       "      <th>hor</th>\n",
       "      <th>grupHor</th>\n",
       "      <th>tipAcc</th>\n",
       "      <th>tipDia</th>\n",
       "    </tr>\n",
       "  </thead>\n",
       "  <tbody>\n",
       "    <tr>\n",
       "      <th>0</th>\n",
       "      <td>2010</td>\n",
       "      <td>Zona urbana</td>\n",
       "      <td>25/01/2010</td>\n",
       "      <td>SE</td>\n",
       "      <td>999999.0</td>\n",
       "      <td>CANOVES I SAMALUS</td>\n",
       "      <td>Valles Oriental</td>\n",
       "      <td>Barcelona</td>\n",
       "      <td>0</td>\n",
       "      <td>1</td>\n",
       "      <td>...</td>\n",
       "      <td>Sec i net</td>\n",
       "      <td>Via urbana( inclou carrer i carrer residencial)</td>\n",
       "      <td>NaN</td>\n",
       "      <td>NaN</td>\n",
       "      <td>Calma, vent molt suau</td>\n",
       "      <td>Feiners</td>\n",
       "      <td>2333</td>\n",
       "      <td>Nit</td>\n",
       "      <td>Col.lisió de vehicles en marxa</td>\n",
       "      <td>dill-dij</td>\n",
       "    </tr>\n",
       "    <tr>\n",
       "      <th>1</th>\n",
       "      <td>2010</td>\n",
       "      <td>Carretera</td>\n",
       "      <td>31/10/2010</td>\n",
       "      <td>N-240</td>\n",
       "      <td>999.0</td>\n",
       "      <td>LLEIDA</td>\n",
       "      <td>Segria</td>\n",
       "      <td>Lleida</td>\n",
       "      <td>0</td>\n",
       "      <td>1</td>\n",
       "      <td>...</td>\n",
       "      <td>Sec i net</td>\n",
       "      <td>Carretera convencional</td>\n",
       "      <td>Estatal</td>\n",
       "      <td>Pla</td>\n",
       "      <td>Calma, vent molt suau</td>\n",
       "      <td>CapDeSetmana</td>\n",
       "      <td>1</td>\n",
       "      <td>Nit</td>\n",
       "      <td>Sortida de la calcada sense especificar</td>\n",
       "      <td>dg</td>\n",
       "    </tr>\n",
       "    <tr>\n",
       "      <th>2</th>\n",
       "      <td>2010</td>\n",
       "      <td>Carretera</td>\n",
       "      <td>17/05/2010</td>\n",
       "      <td>N-II</td>\n",
       "      <td>7087.0</td>\n",
       "      <td>FORNELLS DE LA SELVA</td>\n",
       "      <td>Girones</td>\n",
       "      <td>Girona</td>\n",
       "      <td>1</td>\n",
       "      <td>0</td>\n",
       "      <td>...</td>\n",
       "      <td>Sec i net</td>\n",
       "      <td>Carretera convencional</td>\n",
       "      <td>Estatal</td>\n",
       "      <td>Rampa o pendent</td>\n",
       "      <td>Calma, vent molt suau</td>\n",
       "      <td>Feiners</td>\n",
       "      <td>1527</td>\n",
       "      <td>Tarda</td>\n",
       "      <td>Col.lisió de vehicles en marxa</td>\n",
       "      <td>dill-dij</td>\n",
       "    </tr>\n",
       "  </tbody>\n",
       "</table>\n",
       "<p>3 rows × 58 columns</p>\n",
       "</div>"
      ],
      "text/plain": [
       "    Any         zona         dat    via        pk                nomMun  \\\n",
       "0  2010  Zona urbana  25/01/2010     SE  999999.0     CANOVES I SAMALUS   \n",
       "1  2010    Carretera  31/10/2010  N-240     999.0                LLEIDA   \n",
       "2  2010    Carretera  17/05/2010   N-II    7087.0  FORNELLS DE LA SELVA   \n",
       "\n",
       "            nomCom     nomDem  F_MORTS  F_FERITS_GREUS  ...  D_SUPERFICIE  \\\n",
       "0  Valles Oriental  Barcelona        0               1  ...     Sec i net   \n",
       "1           Segria     Lleida        0               1  ...     Sec i net   \n",
       "2          Girones     Girona        1               0  ...     Sec i net   \n",
       "\n",
       "                                       D_TIPUS_VIA  D_TITULARITAT_VIA  \\\n",
       "0  Via urbana( inclou carrer i carrer residencial)                NaN   \n",
       "1                           Carretera convencional            Estatal   \n",
       "2                           Carretera convencional            Estatal   \n",
       "\n",
       "   D_TRACAT_ALTIMETRIC                 D_VENT    grupDiaLab   hor  grupHor  \\\n",
       "0                  NaN  Calma, vent molt suau       Feiners  2333      Nit   \n",
       "1                  Pla  Calma, vent molt suau  CapDeSetmana     1      Nit   \n",
       "2      Rampa o pendent  Calma, vent molt suau       Feiners  1527    Tarda   \n",
       "\n",
       "                                    tipAcc    tipDia  \n",
       "0           Col.lisió de vehicles en marxa  dill-dij  \n",
       "1  Sortida de la calcada sense especificar        dg  \n",
       "2           Col.lisió de vehicles en marxa  dill-dij  \n",
       "\n",
       "[3 rows x 58 columns]"
      ]
     },
     "execution_count": 32,
     "metadata": {},
     "output_type": "execute_result"
    }
   ],
   "source": [
    "df.head(3)"
   ]
  },
  {
   "cell_type": "markdown",
   "metadata": {},
   "source": [
    "It'd be better if we translate columns from Catalan to English."
   ]
  },
  {
   "cell_type": "code",
   "execution_count": 33,
   "metadata": {},
   "outputs": [],
   "source": [
    "df.columns=['YEAR', 'AREA', 'DATE', 'ROAD', 'KM', 'CITY', 'COUNTY', 'DEMARCATION','N_DEATHS', 'N_MAJ_INJURIES', 'N_MIN_INJURIES', 'N_VICTIMS','N_VEHICLES', 'N_PEDESTRIANS','N_BICYCLES', 'N_MOPEDS','N_MOTORCYCLES', 'N_LIGHT_VEHICLES','N_HEAVY_VEHICLES', 'N_OTHER_TYPES','N_UNKNOWN_TYPE', 'ALLOWED_SPEED', 'LEAK','FOG', 'TERRAIN', 'SPECIAL_LANE','SPECIAL_MEASURES', 'CLIMATOLOGY', 'SPECIAL_FUNCTION','SEVERITY', 'FOG_INFLUENCE', 'TERRAIN_INFLUENCE','TRAFFIC_INFLUENCE', 'WEATHER_INFLUENCE', 'WIND_INFLUENCE','LUMINOSITY_INFLUENCE', 'SPECIAL_MEASURES_INFLUENCE', 'OBJECT_INFLUENCE','FURROWS_INFLUENCE', 'VISIBILITY_INFLUENCE', 'INTERSECTION','SPEED_LIMIT_DISPLAY', 'LIGHT_CONDITIONS', 'REGULATION_OF_PRIORITY','TRACK_TRAJECTORIES', 'ACC_CLASSIFICATION', 'TYPE_OF_SECTION', 'AREA_CLASSIFICATION','ROAD_STATE', 'ROAD_TYPE', 'ROAD_OWNERSHIP','ALTIMETRIC_LAYOUT', 'WIND_CLASSIFICATION', 'WORKING_DAY', 'TIME', 'TIME_SLOT','ACC_TYPE', 'WEEKDAY']"
   ]
  },
  {
   "cell_type": "markdown",
   "metadata": {},
   "source": [
    "Translating rows and cleaning up!"
   ]
  },
  {
   "cell_type": "code",
   "execution_count": 34,
   "metadata": {},
   "outputs": [],
   "source": [
    "df=df.replace({'No':'No','Si':'Yes','Sense especificar':'Not specified',\"No n'hi ha\":\"No\",'Sense Especificar':'Not specified'})\n",
    "df[\"AREA\"]=df[\"AREA\"].replace({'Zona urbana': 'Urban area','Carretera': 'Road'})\n",
    "df[\"TERRAIN\"]=df[\"TERRAIN\"].replace({'Desmunt':'Disassembled','A nivell':'Plane','Sense Especificar':'Not specified','Mixt':'Mixed','Terraplé':'Embankment'})\n",
    "df[\"SPECIAL_LANE\"]=df[\"SPECIAL_LANE\"].replace({\"No n'hi ha\":\"No\", 'Carril habilitat en sentit contrari habitual':'Lane enabled in the opposite direction than usual','Habilitació voral/carril addicional':'Additional curb / lane clearance','Carril lent':'Slow lane', \"Carril d'alentiment\":'Slowdown lane','Altres':'Others','Carril bus':'Bus lane','Carril central':'Central lane','Carril bici':'Cycling lane','Carril avançament':'Overtaking lane','Carril reversible':'Reversible lane','Carril acceleració':'Acceleration lane'})\n",
    "df[\"SPECIAL_MEASURES\"]=df[\"SPECIAL_MEASURES\"].replace({\"No n'hi ha\":\"No\",'Obres':'Works','Serveis de neteja o manteniment':'Cleaning or maintenance services','Esdeveniment extraordinari':'Extraordinary event','Accident trànsit anterior':'Previous traffic accident','Cons':'Built','Control policial':'Police control'})\n",
    "df[\"CLIMATOLOGY\"]=df[\"CLIMATOLOGY\"].replace({'Bon temps':'Good weather','Pluja forta':'Heavy rain','Pluja dèbil':'Light rain','Nevant':'Snowing','Calamarsa':'Hail'})\n",
    "df[\"SPECIAL_FUNCTION\"]=df[\"SPECIAL_FUNCTION\"].replace({'Sense funció especial':'No special function','Variant':'Alternative','Travessera':'Crossing','Ronda, cinturo o circumval.lacio':'Round, waist or circumvallation'})\n",
    "df[\"SEVERITY\"]=df[\"SEVERITY\"].replace({'Accident greu':'Serious accident','Accident mortal':'Fatal accident'})\n",
    "df[\"INTERSECTION\"]=df[\"INTERSECTION\"].replace({'Arribant o eixint intersecció fins 50m':'Arriving or leaving intersection up to 50m','Dintre intersecció':'Inside intersection','En secció':'In section'})\n",
    "df[\"SPEED_LIMIT_DISPLAY\"]=df[\"SPEED_LIMIT_DISPLAY\"].replace({'Genérica via':'Generic way','Senyal velocitat':'Speed signal'})\n",
    "df[\"LIGHT_CONDITIONS\"]=df[\"LIGHT_CONDITIONS\"].replace({'De nit, il·luminació artificial suficient':'At night, enough artificial lighting','De dia, dia clar':'Day, clear day','De nit, sense llum artificial':'At night, without artificial light','De dia, dia fosc':'Day, dark day','Alba o capvespre':'Dawn or dusk','De nit, il·luminació artificial insuficient':'At night, insufficient artificial lighting'})\n",
    "df[\"REGULATION_OF_PRIORITY\"]=df[\"REGULATION_OF_PRIORITY\"].replace({'Sols norma prioritat de pas':'Only standart way','Senyal Stop o cedeix pas':'Stop signal or give way','Semàfor':'Traffic light','Sols marques viàries (inclou pas vianants)':'Road markings only (includes pedestrian crossing)','Persona autoritzada':'Authorized person','Altres':'Others'})\n",
    "df[\"TRACK_TRAJECTORIES\"]=df[\"TRACK_TRAJECTORIES\"].replace({'Un sol sentit':'One way','Doble sentit':'Double way'})\n",
    "df[\"ACC_CLASSIFICATION\"]=df[\"ACC_CLASSIFICATION\"].replace({'Encalç':'Chase','Resta sortides de via':'Other road departures','Col·lisió frontal':'Front collision','Envestida (frontal lateral)':'Onslaught (front side)','Caiguda en la via':'Fall on the road','Atropellament':'Run over','Fregament o col·lisió lateral':'Friction or side collision','Xoc contra objecte/obstacle sense sortida prèvia de via':'Collision against object / obstacle without previous derailment','Altres':'Others','Sortida de via amb xoc o col·lisió':'Derailment with collision or clash','Sortida de via amb bolcada':'Derailment with dump','Sortida de via amb atropellament':'Derailment with collision','Xoc amb animal a la calçada':'Collision with animal on the road'})\n",
    "df[\"TYPE_OF_SECTION\"]=df[\"TYPE_OF_SECTION\"].replace({'Intersecció en T o Y':'T or Y intersection','Giratòria':'Rotary','Encreuament o intersecció en X o +':'Crossing or intersection at X or +',\"Enllaç d'entrada o eixida\":\"Entry or exit\",'Pas a nivell':'Level crossing'})\n",
    "df[\"AREA_CLASSIFICATION\"]=df[\"AREA_CLASSIFICATION\"].replace({'Zona urbana': 'Urban area','Carretera': 'Road','Travessera':'Crossing'})\n",
    "df[\"ROAD_STATE\"]=df[\"ROAD_STATE\"].replace({'Sec i net':'Dry and clean','Relliscós':'Slippery','Mullat':'Wet','Inundat':'Flooded','Nevat':'Snowy','Gelat':'Icy'})\n",
    "df[\"ROAD_TYPE\"]=df[\"ROAD_TYPE\"].replace({'Via urbana( inclou carrer i carrer residencial)':'Urban road (includes street and residential street)','Carretera convencional':'Conventional road','Altres':'Others','Autopista':'Highway', 'Autovia':'Freeway', 'Camí rural/pista forestal':'Rural road / forest track'})\n",
    "df['ROAD_OWNERSHIP']=df['ROAD_OWNERSHIP'].replace({'Estatal':'State','Municipal':'Municipal','Autonòmica':'Autonomous','Provincial':'Provincial','Altres':'Others'})\n",
    "df[\"ALTIMETRIC_LAYOUT\"]=df[\"ALTIMETRIC_LAYOUT\"].replace({'Pla':'Flat','Rampa o pendent':'Ramp or slope','Canvi rasant':'Ground change', 'Gual':'Ford'})\n",
    "df[\"WIND_CLASSIFICATION\"]=df[\"WIND_CLASSIFICATION\"].replace({'Calma, vent molt suau':'Calm, very gentle wind','Vent moderat':'Moderate wind','Vent fort':'Strong wind'})\n",
    "df[\"WORKING_DAY\"]=df[\"WORKING_DAY\"].replace({'Feiners':'Workdays','CapDeSetmana':'Weekend'})\n",
    "df[\"TIME_SLOT\"]=df[\"TIME_SLOT\"].replace({'Nit':'Night', 'Tarda':'Afternoon','Matí':'Morning'})\n",
    "df[\"ACC_TYPE\"]=df[\"ACC_TYPE\"].replace({'Col.lisió de vehicles en marxa':'Collision of vehicles in motion','Sortida de la calcada sense especificar':'Unspecified track exit','Bolcada a la calcada':'Dump on the track', 'Atropellament':'Run over',\"Col.lisió d'un vehicle contra un obstacle de la calcada\":\"Collision of a vehicle against a road obstacle\",'Altres':'Others'})\n",
    "df[\"WEEKDAY\"]=df[\"WEEKDAY\"].replace({'dill-dij':'mon-thu','dg':'sun','dis':'sat','div':'fri'})"
   ]
  },
  {
   "cell_type": "code",
   "execution_count": 1,
   "metadata": {},
   "outputs": [
    {
     "ename": "NameError",
     "evalue": "name 'df' is not defined",
     "output_type": "error",
     "traceback": [
      "\u001b[1;31m---------------------------------------------------------------------------\u001b[0m",
      "\u001b[1;31mNameError\u001b[0m                                 Traceback (most recent call last)",
      "\u001b[1;32m<ipython-input-1-d71e036535f1>\u001b[0m in \u001b[0;36m<module>\u001b[1;34m\u001b[0m\n\u001b[1;32m----> 1\u001b[1;33m \u001b[0mdf\u001b[0m\u001b[1;33m.\u001b[0m\u001b[0mto_csv\u001b[0m\u001b[1;33m(\u001b[0m\u001b[1;34m\"https://raw.githubusercontent.com/secondaryemotion/Coursera_Capstone/master/en_ac_catalonia_data.csv\"\u001b[0m\u001b[1;33m)\u001b[0m\u001b[1;33m\u001b[0m\u001b[1;33m\u001b[0m\u001b[0m\n\u001b[0m",
      "\u001b[1;31mNameError\u001b[0m: name 'df' is not defined"
     ]
    }
   ],
   "source": [
    "df.to_csv(r\"C:\\Users\\Iana\\Dropbox\\en_acc_catalonia_data.csv\")"
   ]
  },
  {
   "cell_type": "code",
   "execution_count": 59,
   "metadata": {},
   "outputs": [],
   "source": [
    "df=pd.read_csv(r\"C:\\Users\\Iana\\Dropbox\\en_acc_catalonia_data.csv\")"
   ]
  },
  {
   "cell_type": "code",
   "execution_count": 60,
   "metadata": {},
   "outputs": [],
   "source": [
    "df['DATE'] = pd.to_datetime(df['DATE'],format='%d/%m/%Y')"
   ]
  },
  {
   "cell_type": "code",
   "execution_count": 61,
   "metadata": {},
   "outputs": [],
   "source": [
    "df['ALLOWED_SPEED']=df['ALLOWED_SPEED'].astype(str)\n",
    "df=df.replace({'nan':'Not specified'})\n",
    "df=df.fillna('Not specified')"
   ]
  },
  {
   "cell_type": "code",
   "execution_count": 64,
   "metadata": {},
   "outputs": [
    {
     "data": {
      "text/plain": [
       "Index(['Unnamed: 0', 'YEAR', 'AREA', 'DATE', 'ROAD', 'KM', 'CITY', 'COUNTY',\n",
       "       'DEMARCATION', 'N_DEATHS', 'N_MAJ_INJURIES', 'N_MIN_INJURIES',\n",
       "       'N_VICTIMS', 'N_VEHICLES', 'N_PEDESTRIANS', 'N_BICYCLES', 'N_MOPEDS',\n",
       "       'N_MOTORCYCLES', 'N_LIGHT_VEHICLES', 'N_HEAVY_VEHICLES',\n",
       "       'N_OTHER_TYPES', 'N_UNKNOWN_TYPE', 'ALLOWED_SPEED', 'LEAK', 'FOG',\n",
       "       'TERRAIN', 'SPECIAL_LANE', 'SPECIAL_MEASURES', 'CLIMATOLOGY',\n",
       "       'SPECIAL_FUNCTION', 'SEVERITY', 'FOG_INFLUENCE', 'TERRAIN_INFLUENCE',\n",
       "       'TRAFFIC_INFLUENCE', 'WEATHER_INFLUENCE', 'WIND_INFLUENCE',\n",
       "       'LUMINOSITY_INFLUENCE', 'SPECIAL_MEASURES_INFLUENCE',\n",
       "       'OBJECT_INFLUENCE', 'FURROWS_INFLUENCE', 'VISIBILITY_INFLUENCE',\n",
       "       'INTERSECTION', 'SPEED_LIMIT_DISPLAY', 'LIGHT_CONDITIONS',\n",
       "       'REGULATION_OF_PRIORITY', 'TRACK_TRAJECTORIES', 'ACC_CLASSIFICATION',\n",
       "       'TYPE_OF_SECTION', 'AREA_CLASSIFICATION', 'ROAD_STATE', 'ROAD_TYPE',\n",
       "       'ROAD_OWNERSHIP', 'ALTIMETRIC_LAYOUT', 'WIND_CLASSIFICATION',\n",
       "       'WORKING_DAY', 'TIME', 'TIME_SLOT', 'ACC_TYPE', 'WEEKDAY', 'MONTH'],\n",
       "      dtype='object')"
      ]
     },
     "execution_count": 64,
     "metadata": {},
     "output_type": "execute_result"
    }
   ],
   "source": [
    "df.columns"
   ]
  },
  {
   "cell_type": "code",
   "execution_count": 66,
   "metadata": {},
   "outputs": [],
   "source": [
    "df_col=df[['AREA', 'MONTH', 'COUNTY', 'DEMARCATION',\n",
    "'N_DEATHS', 'N_MAJ_INJURIES', 'ALLOWED_SPEED', 'LEAK',\n",
    "'FOG', 'TERRAIN', 'SPECIAL_LANE',\n",
    "'SPECIAL_MEASURES', 'CLIMATOLOGY', 'SPECIAL_FUNCTION',\n",
    "'INTERSECTION', 'LIGHT_CONDITIONS', 'REGULATION_OF_PRIORITY',\n",
    "'TRACK_TRAJECTORIES', 'TYPE_OF_SECTION', 'AREA_CLASSIFICATION',\n",
    "'ROAD_STATE', 'ROAD_TYPE', 'ROAD_OWNERSHIP',\n",
    "'ALTIMETRIC_LAYOUT', 'WIND_CLASSIFICATION', 'TIME_SLOT',\n",
    "'WEEKDAY']]"
   ]
  },
  {
   "cell_type": "code",
   "execution_count": 74,
   "metadata": {},
   "outputs": [],
   "source": [
    "pd.options.mode.chained_assignment = None  # default='warn'"
   ]
  },
  {
   "cell_type": "code",
   "execution_count": 255,
   "metadata": {},
   "outputs": [
    {
     "data": {
      "text/plain": [
       "Urban road (includes street and residential street)    8465\n",
       "Conventional road                                      6987\n",
       "Others                                                  498\n",
       "Freeway                                                 462\n",
       "Highway                                                 221\n",
       "Rural road / forest track                               141\n",
       "Name: ROAD_TYPE, dtype: int64"
      ]
     },
     "execution_count": 255,
     "metadata": {},
     "output_type": "execute_result"
    }
   ],
   "source": [
    "df['ROAD_TYPE'].value_counts()"
   ]
  },
  {
   "cell_type": "code",
   "execution_count": 75,
   "metadata": {},
   "outputs": [],
   "source": [
    "le = preprocessing.LabelEncoder()\n",
    "for id,item in enumerate(df_col):\n",
    "    le.fit(df_col[item])\n",
    "    df_col[item]=le.transform(df_col[item])"
   ]
  },
  {
   "cell_type": "code",
   "execution_count": 248,
   "metadata": {},
   "outputs": [
    {
     "name": "stdout",
     "output_type": "stream",
     "text": [
      "0.7232024920201996 0.0 AREA AREA_CLASSIFICATION\n",
      "0.8843542220096519 0.0 AREA ROAD_TYPE\n",
      "0.7232024920201996 0.0 AREA_CLASSIFICATION AREA\n",
      "0.8735443956409672 0.0 AREA_CLASSIFICATION ROAD_TYPE\n",
      "0.8843542220096519 0.0 ROAD_TYPE AREA\n",
      "0.8735443956409672 0.0 ROAD_TYPE AREA_CLASSIFICATION\n"
     ]
    }
   ],
   "source": [
    "size=(df_col.columns.drop(labels=['N_DEATHS', 'N_MAJ_INJURIES'])).size\n",
    "coef=[[0 for i in range(size)] for j in range(size)]\n",
    "pval=[[0 for i in range(size)] for j in range(size)]\n",
    "df_ccol=df_col.columns.drop(labels=['N_DEATHS', 'N_MAJ_INJURIES'])\n",
    "for id,item in enumerate(df_ccol):\n",
    "    i=id\n",
    "    for id,item2 in enumerate(df_ccol):\n",
    "        pcoef, p_value=stats.pearsonr(df_col[item],df_col[item2])\n",
    "        coef[i][id]=pcoef\n",
    "        pval[i][id]=p_value\n",
    "        if (abs(pcoef)>0.7) & (item!=item2):\n",
    "            print(pcoef, p_value, item, item2)"
   ]
  },
  {
   "cell_type": "code",
   "execution_count": 1,
   "metadata": {},
   "outputs": [
    {
     "ename": "NameError",
     "evalue": "name 'plt' is not defined",
     "output_type": "error",
     "traceback": [
      "\u001b[1;31m---------------------------------------------------------------------------\u001b[0m",
      "\u001b[1;31mNameError\u001b[0m                                 Traceback (most recent call last)",
      "\u001b[1;32m<ipython-input-1-275e4cb4ba42>\u001b[0m in \u001b[0;36m<module>\u001b[1;34m\u001b[0m\n\u001b[1;32m----> 1\u001b[1;33m \u001b[0max\u001b[0m \u001b[1;33m=\u001b[0m \u001b[0mplt\u001b[0m\u001b[1;33m.\u001b[0m\u001b[0msubplots\u001b[0m\u001b[1;33m(\u001b[0m\u001b[0mfigsize\u001b[0m\u001b[1;33m=\u001b[0m\u001b[1;33m(\u001b[0m\u001b[1;36m10\u001b[0m\u001b[1;33m,\u001b[0m\u001b[1;36m7\u001b[0m\u001b[1;33m)\u001b[0m\u001b[1;33m)\u001b[0m\u001b[1;33m\u001b[0m\u001b[1;33m\u001b[0m\u001b[0m\n\u001b[0m\u001b[0;32m      2\u001b[0m ax = sns.heatmap(\n\u001b[0;32m      3\u001b[0m     \u001b[0mcoef\u001b[0m\u001b[1;33m,\u001b[0m\u001b[1;33m\u001b[0m\u001b[1;33m\u001b[0m\u001b[0m\n\u001b[0;32m      4\u001b[0m     \u001b[0mvmin\u001b[0m\u001b[1;33m=\u001b[0m\u001b[1;33m-\u001b[0m\u001b[1;36m1\u001b[0m\u001b[1;33m,\u001b[0m \u001b[0mvmax\u001b[0m\u001b[1;33m=\u001b[0m\u001b[1;36m1\u001b[0m\u001b[1;33m,\u001b[0m \u001b[0mcenter\u001b[0m\u001b[1;33m=\u001b[0m\u001b[1;36m0\u001b[0m\u001b[1;33m,\u001b[0m\u001b[1;33m\u001b[0m\u001b[1;33m\u001b[0m\u001b[0m\n\u001b[0;32m      5\u001b[0m     \u001b[0mcmap\u001b[0m\u001b[1;33m=\u001b[0m\u001b[0msns\u001b[0m\u001b[1;33m.\u001b[0m\u001b[0mdiverging_palette\u001b[0m\u001b[1;33m(\u001b[0m\u001b[1;36m250\u001b[0m\u001b[1;33m,\u001b[0m \u001b[1;36m15\u001b[0m\u001b[1;33m,\u001b[0m \u001b[0mn\u001b[0m\u001b[1;33m=\u001b[0m\u001b[1;36m200\u001b[0m\u001b[1;33m)\u001b[0m\u001b[1;33m,\u001b[0m\u001b[1;33m\u001b[0m\u001b[1;33m\u001b[0m\u001b[0m\n",
      "\u001b[1;31mNameError\u001b[0m: name 'plt' is not defined"
     ]
    }
   ],
   "source": [
    "ax = plt.subplots(figsize=(10,7)) \n",
    "ax = sns.heatmap(\n",
    "    coef, \n",
    "    vmin=-1, vmax=1, center=0,\n",
    "    cmap=sns.diverging_palette(250, 15, n=200),\n",
    "    square=True\n",
    ")\n",
    "ax.set_xticklabels(df_ccol, rotation=90, horizontalalignment='right')\n",
    "ax.set_yticklabels(df_ccol, rotation=0, horizontalalignment='right')\n",
    "xticks=range(size)\n",
    "ax.set_yticks=range(size)\n",
    "ax.figure.savefig('full_figure.png')"
   ]
  },
  {
   "cell_type": "code",
   "execution_count": null,
   "metadata": {},
   "outputs": [],
   "source": [
    "x_labels = [v for v in sorted(df_ccol)]\n",
    "y_labels = [v for v in sorted(df_ccol)]\n",
    "x_to_num = {p[1]:p[0] for p in enumerate(x_labels)} \n",
    "y_to_num = {p[1]:p[0] for p in enumerate(y_labels)} \n",
    "ax.set_xticks([x_to_num[v] for v in x_labels])\n",
    "ax.set_yticks([y_to_num[v] for v in y_labels])"
   ]
  },
  {
   "cell_type": "code",
   "execution_count": 162,
   "metadata": {},
   "outputs": [
    {
     "data": {
      "text/plain": [
       "Index(['AREA', 'MONTH', 'COUNTY', 'DEMARCATION', 'N_DEATHS', 'N_MAJ_INJURIES',\n",
       "       'ALLOWED_SPEED', 'LEAK', 'FOG', 'TERRAIN', 'SPECIAL_LANE',\n",
       "       'SPECIAL_MEASURES', 'CLIMATOLOGY', 'SPECIAL_FUNCTION', 'INTERSECTION',\n",
       "       'LIGHT_CONDITIONS', 'REGULATION_OF_PRIORITY', 'TRACK_TRAJECTORIES',\n",
       "       'TYPE_OF_SECTION', 'AREA_CLASSIFICATION', 'ROAD_STATE', 'ROAD_TYPE',\n",
       "       'ROAD_OWNERSHIP', 'ALTIMETRIC_LAYOUT', 'WIND_CLASSIFICATION',\n",
       "       'TIME_SLOT', 'WEEKDAY'],\n",
       "      dtype='object')"
      ]
     },
     "execution_count": 162,
     "metadata": {},
     "output_type": "execute_result"
    }
   ],
   "source": [
    "df_col.columns"
   ]
  },
  {
   "cell_type": "code",
   "execution_count": 157,
   "metadata": {},
   "outputs": [
    {
     "data": {
      "text/plain": [
       "RangeIndex(start=0, stop=16774, step=1)"
      ]
     },
     "execution_count": 157,
     "metadata": {},
     "output_type": "execute_result"
    }
   ],
   "source": [
    "tickvalues"
   ]
  },
  {
   "cell_type": "markdown",
   "metadata": {},
   "source": [
    "# LET'S START"
   ]
  },
  {
   "cell_type": "code",
   "execution_count": 63,
   "metadata": {},
   "outputs": [],
   "source": [
    "df['MONTH']=pd.Series(int)\n",
    "for id,item in enumerate(df['DATE']):\n",
    "    df['MONTH'].iloc[id]=item.month"
   ]
  },
  {
   "cell_type": "code",
   "execution_count": 41,
   "metadata": {},
   "outputs": [],
   "source": [
    "df_stack={}\n",
    "years=df['YEAR'].unique()\n",
    "for id,item in enumerate(years):\n",
    "    df_stack[id]=df.where(df['YEAR']==(item))\n",
    "    df_stack[id].dropna(how='all',inplace=True)\n",
    "    df_stack[id].reset_index(inplace=True)\n",
    "    df_stack[id].drop(df_stack[id].columns[1],axis=1,inplace=True)"
   ]
  },
  {
   "cell_type": "code",
   "execution_count": 46,
   "metadata": {},
   "outputs": [],
   "source": [
    "df.drop(['YEAR','DATE', 'ROAD', 'KM','N_VICTIMS','N_VEHICLES', 'N_PEDESTRIANS',\n",
    "       'N_BICYCLES', 'N_MOPEDS',\n",
    "       'N_MOTORCYCLES', 'N_LIGHT_VEHICLES',\n",
    "       'N_HEAVY_VEHICLES', 'N_OTHER_TYPES',\n",
    "       'N_UNKNOWN_TYPE','TIME','SEVERITY', 'FOG_INFLUENCE', 'TERRAIN_INFLUENCE',\n",
    "       'TRAFFIC_INFLUENCE', 'WEATHER_INFLUENCE', 'WIND_INFLUENCE',\n",
    "       'LUMINOSITY_INFLUENCE', 'SPECIAL_MEASURES_INFLUENCE', 'OBJECT_INFLUENCE',\n",
    "       'FURROWS_INFLUENCE', 'VISIBILITY_INFLUENCE',\"ALTIMETRIC_LAYOUT\"],axis=1,inplace=True)\n",
    "df['count']=1"
   ]
  },
  {
   "cell_type": "code",
   "execution_count": 47,
   "metadata": {},
   "outputs": [
    {
     "data": {
      "text/plain": [
       "{1:          AREA  Unnamed: 0  N_DEATHS  N_MAJ_INJURIES  N_MIN_INJURIES  count  \\\n",
       " 0        Road    65041636      1647            7936            4506   7671   \n",
       " 1  Urban area    75633515       700            8892            2330   9103   \n",
       " \n",
       "    coef_deaths  coef_maj_inj  coef_min_inj  \n",
       " 0     0.214705      1.034546      0.587407  \n",
       " 1     0.076898      0.976821      0.255960  ,\n",
       " 3:                COUNTY  Unnamed: 0  N_DEATHS  N_MAJ_INJURIES  N_MIN_INJURIES  \\\n",
       " 0            Alt Camp     1175689        32             135              81   \n",
       " 1         Alt Emporda     4942862       114             569             281   \n",
       " 2         Alt Penedes     3390777        54             396             149   \n",
       " 3          Alt Urgell     1538975        32             215             113   \n",
       " 4      Alta Ribagorca      265652         5              26               7   \n",
       " 5               Anoia     2516612        51             293             175   \n",
       " 6               Bages     4681682        98             595             256   \n",
       " 7           Baix Camp     4222323        87             465             173   \n",
       " 8           Baix Ebre     2300569        89             290             155   \n",
       " 9        Baix Emporda     2685552        55             324             147   \n",
       " 10     Baix Llobregat    11278439       110            1348             423   \n",
       " 11       Baix Penedes     2261911        37             265             116   \n",
       " 12         Barcelones    25030470       322            2891            1081   \n",
       " 13           Bergueda     1632214        27             220              85   \n",
       " 14           Cerdanya     1021049        18             130              68   \n",
       " 15   Conca de Barbera      513527        16              76              45   \n",
       " 16             Garraf     2838576        44             339             111   \n",
       " 17          Garrigues      686507        27              80              56   \n",
       " 18           Garrotxa     1413275        31             167              54   \n",
       " 19            Girones     4372236        81             500             253   \n",
       " 20            Maresme     6619139        65             783             241   \n",
       " 21            Moianès      847871         6             100              33   \n",
       " 22            Montsia     1782318        65             243             116   \n",
       " 23            Noguera     2068373        73             228             114   \n",
       " 24              Osona     4196098        61             493             184   \n",
       " 25      Pallars Jussa      625906         7              79              47   \n",
       " 26     Pallars Sobira      518693         9              59              20   \n",
       " 27       Pla d'Urgell     1089607        26             114              76   \n",
       " 28    Pla de l'Estany      783427        16             108              42   \n",
       " 29            Priorat      440776        11              44              12   \n",
       " 30      Ribera d'Ebre      934180        22             115              62   \n",
       " 31           Ripolles      508834        21              51              34   \n",
       " 32            Segarra      835500        32             103              76   \n",
       " 33             Segria     5377663        86             659             290   \n",
       " 34              Selva     4852905       109             610             284   \n",
       " 35           Solsones      811349        13             106              32   \n",
       " 36         Tarragones     4317331        83             520             188   \n",
       " 37         Terra Alta      506781         8              54              24   \n",
       " 38             Urgell      802445        24              98              56   \n",
       " 39         Val d'Aran      449917         8              61              23   \n",
       " 40  Valles Occidental    15593252       156            1915             641   \n",
       " 41    Valles Oriental     7943889       116             961             412   \n",
       " \n",
       "     count  coef_deaths  coef_maj_inj  coef_min_inj  \n",
       " 0     146     0.219178      0.924658      0.554795  \n",
       " 1     563     0.202487      1.010657      0.499112  \n",
       " 2     397     0.136020      0.997481      0.375315  \n",
       " 3     187     0.171123      1.149733      0.604278  \n",
       " 4      30     0.166667      0.866667      0.233333  \n",
       " 5     283     0.180212      1.035336      0.618375  \n",
       " 6     555     0.176577      1.072072      0.461261  \n",
       " 7     485     0.179381      0.958763      0.356701  \n",
       " 8     297     0.299663      0.976431      0.521886  \n",
       " 9     323     0.170279      1.003096      0.455108  \n",
       " 10   1356     0.081121      0.994100      0.311947  \n",
       " 11    271     0.136531      0.977860      0.428044  \n",
       " 12   3004     0.107190      0.962383      0.359854  \n",
       " 13    187     0.144385      1.176471      0.454545  \n",
       " 14    117     0.153846      1.111111      0.581197  \n",
       " 15     69     0.231884      1.101449      0.652174  \n",
       " 16    346     0.127168      0.979769      0.320809  \n",
       " 17     78     0.346154      1.025641      0.717949  \n",
       " 18    170     0.182353      0.982353      0.317647  \n",
       " 19    507     0.159763      0.986193      0.499014  \n",
       " 20    786     0.082697      0.996183      0.306616  \n",
       " 21     90     0.066667      1.111111      0.366667  \n",
       " 22    219     0.296804      1.109589      0.529680  \n",
       " 23    229     0.318777      0.995633      0.497817  \n",
       " 24    480     0.127083      1.027083      0.383333  \n",
       " 25     65     0.107692      1.215385      0.723077  \n",
       " 26     57     0.157895      1.035088      0.350877  \n",
       " 27    123     0.211382      0.926829      0.617886  \n",
       " 28    104     0.153846      1.038462      0.403846  \n",
       " 29     49     0.224490      0.897959      0.244898  \n",
       " 30    109     0.201835      1.055046      0.568807  \n",
       " 31     60     0.350000      0.850000      0.566667  \n",
       " 32     89     0.359551      1.157303      0.853933  \n",
       " 33    658     0.130699      1.001520      0.440729  \n",
       " 34    595     0.183193      1.025210      0.477311  \n",
       " 35     95     0.136842      1.115789      0.336842  \n",
       " 36    543     0.152855      0.957643      0.346225  \n",
       " 37     54     0.148148      1.000000      0.444444  \n",
       " 38     97     0.247423      1.010309      0.577320  \n",
       " 39     53     0.150943      1.150943      0.433962  \n",
       " 40   1899     0.082148      1.008425      0.337546  \n",
       " 41    949     0.122234      1.012645      0.434141  ,\n",
       " 4:   DEMARCATION  Unnamed: 0  N_DEATHS  N_MAJ_INJURIES  N_MIN_INJURIES  count  \\\n",
       " 0   Barcelona    86567707      1113           10337            3803  10334   \n",
       " 1      Girona    20369001       439            2422            1127   2406   \n",
       " 2      Lleida    15283038       345            1862             934   1792   \n",
       " 3   Tarragona    18455405       450            2207             972   2242   \n",
       " \n",
       "    coef_deaths  coef_maj_inj  coef_min_inj  \n",
       " 0     0.107703      1.000290      0.368009  \n",
       " 1     0.182461      1.006650      0.468412  \n",
       " 2     0.192522      1.039062      0.521205  \n",
       " 3     0.200714      0.984389      0.433541  ,\n",
       " 5:     ALLOWED_SPEED  Unnamed: 0  N_DEATHS  N_MAJ_INJURIES  N_MIN_INJURIES  \\\n",
       " 0             0.0       27268         0               4               2   \n",
       " 1            10.0      124570         0              13               2   \n",
       " 2           100.0    79332266      1584            9679            4213   \n",
       " 3           110.0       51263         3              11               2   \n",
       " 4           120.0      725066        17              84              59   \n",
       " 5            20.0      754000         7              96              23   \n",
       " 6            30.0     5715814        58             631             157   \n",
       " 7            40.0     7715155        80             890             342   \n",
       " 8            45.0       27149         0               2               1   \n",
       " 9            50.0     6816979       109             787             286   \n",
       " 10           60.0     4008365       102             550             276   \n",
       " 11           70.0     2067618        59             257             181   \n",
       " 12           80.0     5473225       168             683             444   \n",
       " 13           90.0     1297332        34             184             117   \n",
       " 14           99.0       16583         0               1               0   \n",
       " 15          999.0     8697728        18             844             255   \n",
       " 16  Not specified    17824770       108            2112             476   \n",
       " \n",
       "     count  coef_deaths  coef_maj_inj  coef_min_inj  \n",
       " 0       4     0.000000      1.000000      0.500000  \n",
       " 1      13     0.000000      1.000000      0.153846  \n",
       " 2    9700     0.163299      0.997835      0.434330  \n",
       " 3       9     0.333333      1.222222      0.222222  \n",
       " 4      80     0.212500      1.050000      0.737500  \n",
       " 5     100     0.070000      0.960000      0.230000  \n",
       " 6     647     0.089645      0.975270      0.242658  \n",
       " 7     873     0.091638      1.019473      0.391753  \n",
       " 8       2     0.000000      1.000000      0.500000  \n",
       " 9     815     0.133742      0.965644      0.350920  \n",
       " 10    507     0.201183      1.084813      0.544379  \n",
       " 11    259     0.227799      0.992278      0.698842  \n",
       " 12    679     0.247423      1.005891      0.653903  \n",
       " 13    155     0.219355      1.187097      0.754839  \n",
       " 14      1     0.000000      1.000000      0.000000  \n",
       " 15    810     0.022222      1.041975      0.314815  \n",
       " 16   2120     0.050943      0.996226      0.224528  ,\n",
       " 6:             LEAK  Unnamed: 0  N_DEATHS  N_MAJ_INJURIES  N_MIN_INJURIES  count  \\\n",
       " 0             No   137223782      2312           16373            6746  16312   \n",
       " 1  Not specified     1067825         7             147              29    149   \n",
       " 2            Yes     2383544        28             308              61    313   \n",
       " \n",
       "    coef_deaths  coef_maj_inj  coef_min_inj  \n",
       " 0     0.141736      1.003740      0.413561  \n",
       " 1     0.046980      0.986577      0.194631  \n",
       " 2     0.089457      0.984026      0.194888  ,\n",
       " 7:    FOG  Unnamed: 0  N_DEATHS  N_MAJ_INJURIES  N_MIN_INJURIES  count  \\\n",
       " 0   No   133541745      2296           16316            6637  16271   \n",
       " 1  Yes     7133406        51             512             199    503   \n",
       " \n",
       "    coef_deaths  coef_maj_inj  coef_min_inj  \n",
       " 0     0.141110      1.002766      0.407904  \n",
       " 1     0.101392      1.017893      0.395626  ,\n",
       " 8:          TERRAIN  Unnamed: 0  N_DEATHS  N_MAJ_INJURIES  N_MIN_INJURIES  count  \\\n",
       " 0   Disassembled    10044983       255            1253             671   1223   \n",
       " 1     Embankment     5851045       187             709             407    693   \n",
       " 2          Mixed    18024845       455            2260            1267   2126   \n",
       " 3  Not specified    51358988       585            5880            1849   5999   \n",
       " 4          Plane    55395290       865            6726            2642   6733   \n",
       " \n",
       "    coef_deaths  coef_maj_inj  coef_min_inj  \n",
       " 0     0.208504      1.024530      0.548651  \n",
       " 1     0.269841      1.023088      0.587302  \n",
       " 2     0.214017      1.063029      0.595955  \n",
       " 3     0.097516      0.980163      0.308218  \n",
       " 4     0.128472      0.998960      0.392396  ,\n",
       " 9:                                          SPECIAL_LANE  Unnamed: 0  N_DEATHS  \\\n",
       " 0                                   Acceleration lane     1056057        21   \n",
       " 1                    Additional curb / lane clearance      243711         7   \n",
       " 2                                            Bus lane     2284112        24   \n",
       " 3                                        Central lane      960414        20   \n",
       " 4                                        Cycling lane     1173908        10   \n",
       " 5   Lane enabled in the opposite direction than usual       53125         2   \n",
       " 6                                                  No   123219844      2185   \n",
       " 7                                       Not specified     9072452        19   \n",
       " 8                                              Others     1073767        19   \n",
       " 9                                     Overtaking lane      253345        17   \n",
       " 10                                    Reversible lane      125245         1   \n",
       " 11                                          Slow lane      525760        14   \n",
       " 12                                      Slowdown lane      633411         8   \n",
       " \n",
       "     N_MAJ_INJURIES  N_MIN_INJURIES  count  coef_deaths  coef_maj_inj  \\\n",
       " 0              136              61    124     0.169355      1.096774   \n",
       " 1               24              11     29     0.241379      0.827586   \n",
       " 2              211              70    222     0.108108      0.950450   \n",
       " 3              129              71    118     0.169492      1.093220   \n",
       " 4              122              29    126     0.079365      0.968254   \n",
       " 5               13               6     12     0.166667      1.083333   \n",
       " 6            14975            6111  14980     0.145861      0.999666   \n",
       " 7              887             283    851     0.022327      1.042303   \n",
       " 8              122              50    125     0.152000      0.976000   \n",
       " 9               41              30     36     0.472222      1.138889   \n",
       " 10              21              15     17     0.058824      1.235294   \n",
       " 11              68              51     60     0.233333      1.133333   \n",
       " 12              79              48     74     0.108108      1.067568   \n",
       " \n",
       "     coef_min_inj  \n",
       " 0       0.491935  \n",
       " 1       0.379310  \n",
       " 2       0.315315  \n",
       " 3       0.601695  \n",
       " 4       0.230159  \n",
       " 5       0.500000  \n",
       " 6       0.407944  \n",
       " 7       0.332550  \n",
       " 8       0.400000  \n",
       " 9       0.833333  \n",
       " 10      0.882353  \n",
       " 11      0.850000  \n",
       " 12      0.648649  ,\n",
       " 10:                    SPECIAL_MEASURES  Unnamed: 0  N_DEATHS  N_MAJ_INJURIES  \\\n",
       " 0                             Built       91126         1              13   \n",
       " 1  Cleaning or maintenance services      251099         2              32   \n",
       " 2               Extraordinary event      345789         4              43   \n",
       " 3                                No   137378029      2279           16393   \n",
       " 4                     Not specified      342018         0              38   \n",
       " 5                    Police control       79096         1               9   \n",
       " 6         Previous traffic accident      420676        11              54   \n",
       " 7                             Works     1767318        49             246   \n",
       " \n",
       "    N_MIN_INJURIES  count  coef_deaths  coef_maj_inj  coef_min_inj  \n",
       " 0               4     12     0.083333      1.083333      0.333333  \n",
       " 1              12     32     0.062500      1.000000      0.375000  \n",
       " 2               9     45     0.088889      0.955556      0.200000  \n",
       " 3            6559  16347     0.139414      1.002814      0.401236  \n",
       " 4              20     36     0.000000      1.055556      0.555556  \n",
       " 5               5     10     0.100000      0.900000      0.500000  \n",
       " 6              66     54     0.203704      1.000000      1.222222  \n",
       " 7             161    238     0.205882      1.033613      0.676471  ,\n",
       " 11:      CLIMATOLOGY  Unnamed: 0  N_DEATHS  N_MAJ_INJURIES  N_MIN_INJURIES  count  \\\n",
       " 0   Good weather   132367092      2172           15756            6265  15784   \n",
       " 1           Hail       51789         0              13              19      9   \n",
       " 2     Heavy rain     1940177        37             250             143    223   \n",
       " 3     Light rain     6217657       137             795             405    746   \n",
       " 4  Not specified       27020         0               4               0      4   \n",
       " 5        Snowing       71416         1              10               4      8   \n",
       " \n",
       "    coef_deaths  coef_maj_inj  coef_min_inj  \n",
       " 0     0.137608      0.998226      0.396921  \n",
       " 1     0.000000      1.444444      2.111111  \n",
       " 2     0.165919      1.121076      0.641256  \n",
       " 3     0.183646      1.065684      0.542895  \n",
       " 4     0.000000      1.000000      0.000000  \n",
       " 5     0.125000      1.250000      0.500000  ,\n",
       " 12:                   SPECIAL_FUNCTION  Unnamed: 0  N_DEATHS  N_MAJ_INJURIES  \\\n",
       " 0                      Alternative      324079        25              53   \n",
       " 1                         Crossing     1649592        39             278   \n",
       " 2              No special function   138181310      2270           16404   \n",
       " 3                    Not specified       19457         1               5   \n",
       " 4  Round, waist or circumvallation      500713        12              88   \n",
       " \n",
       "    N_MIN_INJURIES  count  coef_deaths  coef_maj_inj  coef_min_inj  \n",
       " 0              39     57     0.438596      0.929825      0.684211  \n",
       " 1              78    291     0.134021      0.955326      0.268041  \n",
       " 2            6674  16338     0.138940      1.004040      0.408496  \n",
       " 3               1      3     0.333333      1.666667      0.333333  \n",
       " 4              44     85     0.141176      1.035294      0.517647  ,\n",
       " 13:                                  INTERSECTION  Unnamed: 0  N_DEATHS  \\\n",
       " 0  Arriving or leaving intersection up to 50m     7665969        95   \n",
       " 1                                  In section    94542172      1861   \n",
       " 2                         Inside intersection    38467010       391   \n",
       " \n",
       "    N_MAJ_INJURIES  N_MIN_INJURIES  count  coef_deaths  coef_maj_inj  \\\n",
       " 0             874             236    896     0.106027      0.975446   \n",
       " 1           11244            4829  11141     0.167041      1.009245   \n",
       " 2            4710            1771   4737     0.082542      0.994300   \n",
       " \n",
       "    coef_min_inj  \n",
       " 0      0.263393  \n",
       " 1      0.433444  \n",
       " 2      0.373865  ,\n",
       " 14:   SPEED_LIMIT_DISPLAY  Unnamed: 0  N_DEATHS  N_MAJ_INJURIES  N_MIN_INJURIES  \\\n",
       " 0         Generic way   102793042      1602           12258            4682   \n",
       " 1        Speed signal    37882109       745            4570            2154   \n",
       " \n",
       "    count  coef_deaths  coef_maj_inj  coef_min_inj  \n",
       " 0  12272     0.130541      0.998859      0.381519  \n",
       " 1   4502     0.165482      1.015104      0.478454  ,\n",
       " 15:                              LIGHT_CONDITIONS  Unnamed: 0  N_DEATHS  \\\n",
       " 0        At night, enough artificial lighting    16087097       212   \n",
       " 1  At night, insufficient artificial lighting     5482977       104   \n",
       " 2          At night, without artificial light    10017278       364   \n",
       " 3                                Dawn or dusk     6748478       132   \n",
       " 4                              Day, clear day    96533523      1395   \n",
       " 5                               Day, dark day     5767235       140   \n",
       " 6                               Not specified       38563         0   \n",
       " \n",
       "    N_MAJ_INJURIES  N_MIN_INJURIES  count  coef_deaths  coef_maj_inj  \\\n",
       " 0            1985             769   2021     0.104899      0.982187   \n",
       " 1             536             228    558     0.186380      0.960573   \n",
       " 2            1182             797   1176     0.309524      1.005102   \n",
       " 3             810             361    804     0.164179      1.007463   \n",
       " 4           11531            4233  11509     0.121209      1.001912   \n",
       " 5             778             446    700     0.200000      1.111429   \n",
       " 6               6               2      6     0.000000      1.000000   \n",
       " \n",
       "    coef_min_inj  \n",
       " 0      0.380505  \n",
       " 1      0.408602  \n",
       " 2      0.677721  \n",
       " 3      0.449005  \n",
       " 4      0.367799  \n",
       " 5      0.637143  \n",
       " 6      0.333333  ,\n",
       " 16:                               REGULATION_OF_PRIORITY  Unnamed: 0  N_DEATHS  \\\n",
       " 0                                  Authorized person       67567         1   \n",
       " 1                                      Not specified   100169526      1901   \n",
       " 2                                  Only standart way     6553535        80   \n",
       " 3                                             Others       38026         0   \n",
       " 4  Road markings only (includes pedestrian crossing)     5511424        55   \n",
       " 5                            Stop signal or give way    18931500       194   \n",
       " 6                                      Traffic light     9403573       116   \n",
       " \n",
       "    N_MAJ_INJURIES  N_MIN_INJURIES  count  coef_deaths  coef_maj_inj  \\\n",
       " 0              10               5     11     0.090909      0.909091   \n",
       " 1           11749            4991  11647     0.163218      1.008758   \n",
       " 2             770             202    797     0.100376      0.966123   \n",
       " 3               4               0      3     0.000000      1.333333   \n",
       " 4             678             174    689     0.079826      0.984035   \n",
       " 5            2324             882   2313     0.083874      1.004756   \n",
       " 6            1293             582   1314     0.088280      0.984018   \n",
       " \n",
       "    coef_min_inj  \n",
       " 0      0.454545  \n",
       " 1      0.428522  \n",
       " 2      0.253450  \n",
       " 3      0.000000  \n",
       " 4      0.252540  \n",
       " 5      0.381323  \n",
       " 6      0.442922  ,\n",
       " 17:   TRACK_TRAJECTORIES  Unnamed: 0  N_DEATHS  N_MAJ_INJURIES  N_MIN_INJURIES  \\\n",
       " 0         Double way    84030509      1721           10359            4840   \n",
       " 1      Not specified    26342562       291            2902             819   \n",
       " 2            One way    30302080       335            3567            1177   \n",
       " \n",
       "    count  coef_deaths  coef_maj_inj  coef_min_inj  \n",
       " 0  10261     0.167722      1.009551      0.471689  \n",
       " 1   2923     0.099555      0.992816      0.280192  \n",
       " 2   3590     0.093315      0.993593      0.327855  ,\n",
       " 18:                                    ACC_CLASSIFICATION  Unnamed: 0  N_DEATHS  \\\n",
       " 0                                               Chase    10939347       158   \n",
       " 1   Collision against object / obstacle without pr...     8547393       174   \n",
       " 2                   Collision with animal on the road      198615         1   \n",
       " 3                           Derailment with collision       56073         2   \n",
       " 4                  Derailment with collision or clash     2219295        48   \n",
       " 5                                Derailment with dump      515952         9   \n",
       " 6                                    Fall on the road    14005527       129   \n",
       " 7                          Friction or side collision    11665339       137   \n",
       " 8                                     Front collision    11845490       428   \n",
       " 9                              Onslaught (front side)    25686626       351   \n",
       " 10                              Other road departures    18597839       394   \n",
       " 11                                             Others     7617176       102   \n",
       " 12                                           Run over    28780479       414   \n",
       " \n",
       "     N_MAJ_INJURIES  N_MIN_INJURIES  count  coef_deaths  coef_maj_inj  \\\n",
       " 0             1358             851   1344     0.117560      1.010417   \n",
       " 1              902             316    977     0.178096      0.923234   \n",
       " 2               21               3     20     0.050000      1.050000   \n",
       " 3                7               6      9     0.222222      0.777778   \n",
       " 4              265             137    253     0.189723      1.047431   \n",
       " 5               62              20     62     0.145161      1.000000   \n",
       " 6             1483             163   1565     0.082428      0.947604   \n",
       " 7             1572             628   1530     0.089542      1.027451   \n",
       " 8             1736            1393   1427     0.299930      1.216538   \n",
       " 9             3378            1649   3268     0.107405      1.033660   \n",
       " 10            1858             664   1864     0.211373      0.996781   \n",
       " 11             712             308    733     0.139154      0.971351   \n",
       " 12            3474             698   3722     0.111231      0.933369   \n",
       " \n",
       "     coef_min_inj  \n",
       " 0       0.633185  \n",
       " 1       0.323439  \n",
       " 2       0.150000  \n",
       " 3       0.666667  \n",
       " 4       0.541502  \n",
       " 5       0.322581  \n",
       " 6       0.104153  \n",
       " 7       0.410458  \n",
       " 8       0.976174  \n",
       " 9       0.504590  \n",
       " 10      0.356223  \n",
       " 11      0.420191  \n",
       " 12      0.187534  ,\n",
       " 19:                       TYPE_OF_SECTION  Unnamed: 0  N_DEATHS  N_MAJ_INJURIES  \\\n",
       " 0  Crossing or intersection at X or +    20611423       181            2545   \n",
       " 1                       Entry or exit     3595540        46             426   \n",
       " 2                      Level crossing       12735         1               1   \n",
       " 3                       Not specified    94890913      1866           11280   \n",
       " 4                              Rotary     7734475        80             877   \n",
       " 5                 T or Y intersection    13830065       173            1699   \n",
       " \n",
       "    N_MIN_INJURIES  count  coef_deaths  coef_maj_inj  coef_min_inj  \n",
       " 0             964   2556     0.070814      0.995696      0.377152  \n",
       " 1             177    424     0.108491      1.004717      0.417453  \n",
       " 2               4      2     0.500000      0.500000      2.000000  \n",
       " 3            4837  11178     0.166935      1.009125      0.432725  \n",
       " 4             252    897     0.089186      0.977703      0.280936  \n",
       " 5             602   1717     0.100757      0.989517      0.350612  ,\n",
       " 20:   AREA_CLASSIFICATION  Unnamed: 0  N_DEATHS  N_MAJ_INJURIES  N_MIN_INJURIES  \\\n",
       " 0            Crossing     6527804        91             700             244   \n",
       " 1                Road    65041636      1647            7936            4506   \n",
       " 2          Urban area    69105711       609            8192            2086   \n",
       " \n",
       "    count  coef_deaths  coef_maj_inj  coef_min_inj  \n",
       " 0    728     0.125000      0.961538      0.335165  \n",
       " 1   7671     0.214705      1.034546      0.587407  \n",
       " 2   8375     0.072716      0.978149      0.249075  ,\n",
       " 21:       ROAD_STATE  Unnamed: 0  N_DEATHS  N_MAJ_INJURIES  N_MIN_INJURIES  count  \\\n",
       " 0  Dry and clean   133256004      2228           15920            6484  15857   \n",
       " 1        Flooded      711306        10              82              13     88   \n",
       " 2            Icy      145123         4              12               5     15   \n",
       " 3  Not specified       27020         0               4               0      4   \n",
       " 4       Slippery      923854         9             108              16    108   \n",
       " 5          Snowy       58434         0               9               4      9   \n",
       " 6            Wet     5553410        96             693             314    693   \n",
       " \n",
       "    coef_deaths  coef_maj_inj  coef_min_inj  \n",
       " 0     0.140506      1.003973      0.408905  \n",
       " 1     0.113636      0.931818      0.147727  \n",
       " 2     0.266667      0.800000      0.333333  \n",
       " 3     0.000000      1.000000      0.000000  \n",
       " 4     0.083333      1.000000      0.148148  \n",
       " 5     0.000000      1.000000      0.444444  \n",
       " 6     0.138528      1.000000      0.453102  ,\n",
       " 22:                                            ROAD_TYPE  Unnamed: 0  N_DEATHS  \\\n",
       " 0                                  Conventional road    60766165      1490   \n",
       " 1                                            Freeway     3517235        78   \n",
       " 2                                            Highway     1697808        50   \n",
       " 3                                             Others     3650387        88   \n",
       " 4                          Rural road / forest track     1318085        20   \n",
       " 5  Urban road (includes street and residential st...    69725471       621   \n",
       " \n",
       "    N_MAJ_INJURIES  N_MIN_INJURIES  count  coef_deaths  coef_maj_inj  \\\n",
       " 0            7254            4072   6987     0.213253      1.038214   \n",
       " 1             448             272    462     0.168831      0.969697   \n",
       " 2             243             143    221     0.226244      1.099548   \n",
       " 3             475             203    498     0.176707      0.953815   \n",
       " 4             133              31    141     0.141844      0.943262   \n",
       " 5            8275            2115   8465     0.073361      0.977555   \n",
       " \n",
       "    coef_min_inj  \n",
       " 0      0.582797  \n",
       " 1      0.588745  \n",
       " 2      0.647059  \n",
       " 3      0.407631  \n",
       " 4      0.219858  \n",
       " 5      0.249852  ,\n",
       " 23:   ROAD_OWNERSHIP  Unnamed: 0  N_DEATHS  N_MAJ_INJURIES  N_MIN_INJURIES  count  \\\n",
       " 0     Autonomous    25198849       685            3280            1952   3068   \n",
       " 1      Municipal     9376941       147            1069             306   1136   \n",
       " 2  Not specified    70802391       769            8294            2314   8495   \n",
       " 3         Others     8734498        59             897             327    878   \n",
       " 4     Provincial    11425395       196            1343             605   1339   \n",
       " 5          State    15137077       491            1945            1332   1858   \n",
       " \n",
       "    coef_deaths  coef_maj_inj  coef_min_inj  \n",
       " 0     0.223272      1.069100      0.636245  \n",
       " 1     0.129401      0.941021      0.269366  \n",
       " 2     0.090524      0.976339      0.272396  \n",
       " 3     0.067198      1.021640      0.372437  \n",
       " 4     0.146378      1.002987      0.451830  \n",
       " 5     0.264263      1.046825      0.716900  ,\n",
       " 24:       WIND_CLASSIFICATION  Unnamed: 0  N_DEATHS  N_MAJ_INJURIES  \\\n",
       " 0  Calm, very gentle wind   138028026      2286           16467   \n",
       " 1           Moderate wind     2066556        41             283   \n",
       " 2           Not specified       38563         0               6   \n",
       " 3             Strong wind      542006        20              72   \n",
       " \n",
       "    N_MIN_INJURIES  count  coef_deaths  coef_maj_inj  coef_min_inj  \n",
       " 0            6665  16440     0.139051      1.001642      0.405414  \n",
       " 1             142    262     0.156489      1.080153      0.541985  \n",
       " 2               2      6     0.000000      1.000000      0.333333  \n",
       " 3              27     66     0.303030      1.090909      0.409091  ,\n",
       " 25:   WORKING_DAY  Unnamed: 0  N_DEATHS  N_MAJ_INJURIES  N_MIN_INJURIES  count  \\\n",
       " 0     Weekend    52018996       945            6346            3078   6067   \n",
       " 1    Workdays    88656155      1402           10482            3758  10707   \n",
       " \n",
       "    coef_deaths  coef_maj_inj  coef_min_inj  \n",
       " 0     0.155761      1.045986      0.507335  \n",
       " 1     0.130942      0.978986      0.350985  ,\n",
       " 26:    TIME_SLOT  Unnamed: 0  N_DEATHS  N_MAJ_INJURIES  N_MIN_INJURIES  count  \\\n",
       " 0  Afternoon    65303273      1031            7938            3223   7857   \n",
       " 1    Morning    58046320       872            6920            2535   6914   \n",
       " 2      Night    17325558       444            1970            1078   2003   \n",
       " \n",
       "    coef_deaths  coef_maj_inj  coef_min_inj  \n",
       " 0     0.131221      1.010309      0.410207  \n",
       " 1     0.126121      1.000868      0.366647  \n",
       " 2     0.221667      0.983525      0.538193  ,\n",
       " 27:                                          ACC_TYPE  Unnamed: 0  N_DEATHS  \\\n",
       " 0  Collision of a vehicle against a road obstacle     8746008       175   \n",
       " 1                 Collision of vehicles in motion    60136802      1074   \n",
       " 2                               Dump on the track    14005527       129   \n",
       " 3                                          Others     7617176       102   \n",
       " 4                                        Run over    28780479       414   \n",
       " 5                          Unspecified track exit    21389159       453   \n",
       " \n",
       "    N_MAJ_INJURIES  N_MIN_INJURIES  count  coef_deaths  coef_maj_inj  \\\n",
       " 0             923             319    997     0.175527      0.925777   \n",
       " 1            8044            4521   7569     0.141895      1.062756   \n",
       " 2            1483             163   1565     0.082428      0.947604   \n",
       " 3             712             308    733     0.139154      0.971351   \n",
       " 4            3474             698   3722     0.111231      0.933369   \n",
       " 5            2192             827   2188     0.207038      1.001828   \n",
       " \n",
       "    coef_min_inj  \n",
       " 0      0.319960  \n",
       " 1      0.597305  \n",
       " 2      0.104153  \n",
       " 3      0.420191  \n",
       " 4      0.187534  \n",
       " 5      0.377971  ,\n",
       " 28:    WEEKDAY  Unnamed: 0  N_DEATHS  N_MAJ_INJURIES  N_MIN_INJURIES  count  \\\n",
       " 0      fri    21789047       345            2678             952   2668   \n",
       " 1  mon-thu    77225756      1212            9069            3265   9311   \n",
       " 2      sat    21270692       389            2569            1276   2482   \n",
       " 3      sun    20389656       401            2512            1343   2313   \n",
       " \n",
       "    coef_deaths  coef_maj_inj  coef_min_inj  \n",
       " 0     0.129310      1.003748      0.356822  \n",
       " 1     0.130169      0.974009      0.350661  \n",
       " 2     0.156728      1.035052      0.514102  \n",
       " 3     0.173368      1.086035      0.580631  ,\n",
       " 29:     MONTH  Unnamed: 0  N_DEATHS  N_MAJ_INJURIES  N_MIN_INJURIES  count  \\\n",
       " 0       1    10243554       169            1257             539   1249   \n",
       " 1       2     9945438       159            1151             450   1177   \n",
       " 2       3    11079410       198            1348             567   1330   \n",
       " 3       4    11219675       184            1351             506   1356   \n",
       " 4       5    13214232       179            1520             582   1535   \n",
       " 5       6    13265593       214            1562             585   1544   \n",
       " 6       7    13520222       225            1659             674   1613   \n",
       " 7       8    11552473       226            1452             751   1384   \n",
       " 8       9    11573184       206            1358             596   1382   \n",
       " 9      10    12878260       205            1516             512   1540   \n",
       " 10     11    11855248       190            1417             508   1414   \n",
       " 11     12    10327862       192            1237             566   1250   \n",
       " \n",
       "     coef_deaths  coef_maj_inj  coef_min_inj  \n",
       " 0      0.135308      1.006405      0.431545  \n",
       " 1      0.135089      0.977910      0.382328  \n",
       " 2      0.148872      1.013534      0.426316  \n",
       " 3      0.135693      0.996313      0.373156  \n",
       " 4      0.116612      0.990228      0.379153  \n",
       " 5      0.138601      1.011658      0.378886  \n",
       " 6      0.139492      1.028518      0.417855  \n",
       " 7      0.163295      1.049133      0.542630  \n",
       " 8      0.149059      0.982634      0.431259  \n",
       " 9      0.133117      0.984416      0.332468  \n",
       " 10     0.134371      1.002122      0.359264  \n",
       " 11     0.153600      0.989600      0.452800  }"
      ]
     },
     "execution_count": 47,
     "metadata": {},
     "output_type": "execute_result"
    }
   ],
   "source": [
    "df_acc_stack={}\n",
    "df_col=df.columns.drop(labels=['N_DEATHS', 'N_MAJ_INJURIES','count'])\n",
    "for id,item in enumerate(df_col):\n",
    "    if (df[item].unique()).size>50:\n",
    "        df[item].drop\n",
    "    else:\n",
    "        df_acc_stack[id]=df.groupby([item],as_index=False).sum()\n",
    "        df_acc_stack[id]['coef_deaths']=(df_acc_stack[id]['N_DEATHS'])/(df_acc_stack[id]['count'])\n",
    "        df_acc_stack[id]['coef_maj_inj']=(df_acc_stack[id]['N_MAJ_INJURIES'])/(df_acc_stack[id]['count'])\n",
    "        df_acc_stack[id]['coef_min_inj']=(df_acc_stack[id]['N_MIN_INJURIES'])/(df_acc_stack[id]['count'])\n",
    "df_acc_stack"
   ]
  },
  {
   "cell_type": "code",
   "execution_count": 52,
   "metadata": {},
   "outputs": [
    {
     "name": "stdout",
     "output_type": "stream",
     "text": [
      "Unnamed: 0 [    0     1     2 ... 16771 16772 16773]\n",
      "AREA ['Urban area' 'Road']\n",
      "CITY ['CANOVES I SAMALUS' 'LLEIDA' 'FORNELLS DE LA SELVA' 'BARCELONA'\n",
      " 'BADALONA' 'SANT CARLES DE LA RAPITA' 'MOLLET DEL VALLES'\n",
      " 'CERDANYOLA DEL VALLES' 'TORROELLA DE MONTGRI' 'ODENA' 'GIRONA' 'REUS'\n",
      " 'OLOT' 'MANLLEU' 'ORGANYA' 'CALDES DE MALAVELLA' 'ARTESA DE SEGRE'\n",
      " 'MARTORELL' 'TAGAMANENT' 'TERRASSA' 'PRAT DE LLOBREGAT, E' 'FULIOLA, LA'\n",
      " 'MANRESA' 'ROQUETES' 'MORELL, EL' \"LLICA D'AMUNT\" 'COLLBATO'\n",
      " 'SANT MARTI SARROCA' 'ALELLA' 'CORNELLA DE LLOBREGAT' 'CALAFELL'\n",
      " 'SANT POL DE MAR' 'TORROELLA DE FLUVIA' 'VIDRERES' 'AMPOSTA'\n",
      " 'SANT BOI DE LLOBREGAT' 'ALCANAR' 'VERGES' 'GAVA' 'OLERDOLA' 'SITGES'\n",
      " 'FIGUERES' 'FLACA' 'PALAFRUGELL' 'CALDES DE MONTBUI' 'CABRERA DE MAR'\n",
      " 'MONTESQUIU' 'SANTA PERPETUA DE MO' 'CASTELLBELL I EL VIL' 'MATARO'\n",
      " 'LLORET DE MAR' 'SABADELL' 'VILAFRANCA DEL PENEDES' 'MONTCADA I REIXAC'\n",
      " 'SANT ADRIA DE BESOS' 'TARRAGONA' 'PONT DE BAR, EL' 'GURB' 'VILA-SECA'\n",
      " 'HOSTALETS DE PIEROLA' 'MONISTROL DE MONTSER' 'SANT CUGAT DEL VALLES'\n",
      " 'TARREGA' 'SANT SALVADOR DE GUARDIA' 'CALONGE' 'SANT ESTEVE SESROVIRES'\n",
      " 'BRUNYOLA' 'VIC' 'RUBI' 'QUART' 'OLUGES, LES' 'LLAGOSTERA'\n",
      " 'SANT PERE DE RIUDEBITLLES' 'SANT FELIU DE LLOBREGAT' 'RIUDOMS' 'AVIA'\n",
      " 'CAMBRILS' 'CAMARLES' 'TORTOSA' 'JONQUERA, LA' 'BESCANO'\n",
      " 'SANT JOAN DE VILATOR' 'ALBINYANA' 'GRANOLLERS' 'LLERS' 'SEVA'\n",
      " 'MASNOU, EL' 'CASTELLDEFELS' 'ALDOVER' 'MOLLERUSSA' \"AMPOLLA, L'\"\n",
      " 'SANT JAUME DELS DOMENYS' 'ALPICAT' 'FREGINALS' 'HOSPITALET DE LLOBREGAT'\n",
      " 'ARENYS DE MUNT' 'CANOVELLES' \"TALLADA D'EMPORDA, LA\" 'RODA DE TER'\n",
      " 'SANT QUIRZE DEL VALLES' \"SANTA CRISTINA D'ARO\" 'BLANES' 'CALDERS'\n",
      " 'FORALLAC' 'SALOU' 'CASTELLAR DEL VALLES' 'MONTMANEU' 'GRANADA, LA'\n",
      " \"CASTELLO D'EMPURIES\" 'TORREGROSSA' 'SANT HILARI SACALM'\n",
      " \"VALLBONA D'ANOIA\" 'CUBELLES' 'RIPOLLET' 'BOTARELL' 'CABRA DEL CAMP'\n",
      " 'VILANOVA DE BELLPUIG' 'ROSES' 'ESPLUGUES DE LLOBREGAT' 'SORT' 'MAIALS'\n",
      " 'ULLASTRELL' 'VALLS' 'SANT MARTI DE CENTEL' 'ULLDECONA' 'TOSSA DE MAR'\n",
      " \"ESPLUGA DE FRANCOLI, L'\" 'SANTA COLOMA DE GRAMANET' 'VILASSAR DE MAR'\n",
      " 'VILADECANS' 'CARME' 'SURIA' 'GELIDA' 'VILANOVA I LA GELTRU'\n",
      " 'PONT DE SUERT, EL' 'VACARISSES' 'ROCA DEL VALLES, LA'\n",
      " 'SANTA COLOMA DE CERV' 'BERGA' 'BARBERA DEL VALLES' 'CARDEDEU' 'REGENCOS'\n",
      " 'CASTELLBISBAL' \"ALEIXAR, L'\" 'BASSELLA' 'CONSTANTI' 'DOSRIUS' 'BANYOLES'\n",
      " \"SANT SADURNI D'ANOIA\" 'VALLGORGUINA' 'ARTES' 'MASIES DE VOLTREGA,LES'\n",
      " 'PERELLO, EL' 'OLESA DE MONTSERRAT' 'CERVERA' 'RIBA, LA' 'GUIXERS'\n",
      " 'BASCARA' 'SANT JOAN DESPI' 'CIUTADILLA' 'CERCS' 'LLINARS DEL VALLES'\n",
      " \"VANDELLOS I L'HOSPITALET DE L'INFANT\" 'ALIO' 'ARGENTONA' 'SALLENT'\n",
      " 'SANTA MARIA DE PALAU' 'POBLA DE CLARAMUNT,LA' \"RIBERA D'URGELLET\"\n",
      " 'ARENYS DE MAR' 'FALSET' 'SANT JORDI DESVALLS' 'MONTFERRI' 'BALAGUER'\n",
      " 'RODA DE BARA' 'VILADECAVALLS' 'CABANES' 'PEDRET I MARZA' 'MONTMELO'\n",
      " 'NAUT ARAN' 'PALLEJA' 'GARRIGA, LA' 'PERAFORT' 'FONTANALS DE CERDANYA'\n",
      " 'GARRIGAS' 'CERVELLO' \"ARBO?, L'\" 'CATLLAR, EL' 'BISBAL DEL PENEDES, LA'\n",
      " 'VILANOVA DEL VALLES' 'FIGUEROLA DEL CAMP' 'TORREDEMBARRA' 'BEGUR'\n",
      " 'CANYELLES' 'MONTELLA I MARTINET' 'BADIA DEL VALLES' 'SIURANA'\n",
      " 'BELLVER DE CERDANYA' 'CASSA DE LA SELVA' 'VILALBA SASSERRA' 'CADAQUES'\n",
      " 'ARSEGUEL' 'JUNEDA' 'SOLSONA' \"SANT JAUME D'ENVEJA\" 'MONTGAT'\n",
      " 'SANT FERRIOL' 'VENDRELL, EL' 'PRATS DE LLUCANES' 'TORDERA' 'IGUALADA'\n",
      " 'DELTEBRE' 'SANT PERE DE RIBES' 'MORA LA NOVA' 'CREIXELL' 'CANTALLOPS'\n",
      " 'SENIA, LA' \"SEU D'URGELL, LA\" \"BISBAL D'EMPORDA, LA\"\n",
      " 'CASTELLFOLLIT DE RIU' \"FAR D'EMPORDA, EL\" 'CABANYES, LES'\n",
      " 'AGUILAR DE SEGARRA' \"VILOBI D'ONYAR\" 'SANT VICENC DELS HORTS'\n",
      " \"BELL-LLOC D'URGELL\" 'MALGRAT DE MAR' 'SOLIVELLA' 'OLIOLA'\n",
      " 'SANT FRUITOS DE BAGES' \"PLANES D'HOSTOLES, LES\" 'RAJADELL' 'VILADEMULS'\n",
      " 'MONTBLANC' 'CALLUS' 'MONTORNES DEL VALLES' 'SUBIRATS'\n",
      " 'SANT FELIU DE BUIXALLEU' 'TORREFETA I FLOREJACS'\n",
      " 'SANTA COLOMA DE FARNERS' 'SANT ANFREU DE LA BARCA' 'SANT GREGORI'\n",
      " 'PAPIOL, EL' 'FRANQUESES DEL VALLE' 'TORRE DE CLARAMUNT,LA' 'VILANANT'\n",
      " 'FOGARS DE TORDERA' 'LLOSSES, LES' 'MASSANES' 'ALMATRET' 'BIURE'\n",
      " \"VILANOVA DE L'AGUDA\" 'AITONA' 'VILAJUIGA' \"SANT LLORENC D'HORTO\" 'ARRES'\n",
      " \"CASTELL-PLATJA D'ARO\" 'PORTBOU' 'BAGA' 'AMER' 'PERALADA' 'SANT CELONI'\n",
      " 'PLA DE SANTA MARIA, EL' 'RODONYA' 'CALELLA' 'SILS'\n",
      " 'TORRELLES DE LLOBREGAT' \"VALL D'EN BAS, LA\" 'ALFARRAS' 'BELLVEI' 'PONTS'\n",
      " 'PERA, LA' 'POLINYA' 'ODEN' 'BENIFALLET' 'MOIA' 'SANTA EUGENIA DE BER'\n",
      " \"SANTA MARIA D'OLO\" 'ALT ANEU' 'PARETS DEL VALLES'\n",
      " 'VALLFOGONA DE BALAGUER' 'CASTELLGALI' 'LLAGOSTA, LA' 'AIGUAVIVA'\n",
      " 'CAMARASA' 'PREMIA DE MAR' 'SANT FOST DE CAMPSEN' 'RIUDARENES' 'ALP'\n",
      " 'NOU DE BERGUEDA, LA' 'BARRUERA' 'BORDILS' \"ALDEA, L'\" 'BESALU'\n",
      " 'SANT RAMON' 'GARRIGUELLA' 'SANT ANDREU DE LLAVANERES' 'PRULLANS' 'XERTA'\n",
      " 'SANT JULIA DE RAMIS' 'PINOS' 'PALAMOS' 'SELVA DEL CAMP, LA'\n",
      " 'PONT DE MOLINS' 'GUARDIOLA DE BERGUEDA' \"MORA D'EBRE\" 'VILABLAREIX'\n",
      " 'VINYOLS I ELS ARCS' 'ARBUCIES' 'PLA DEL PENEDES, EL' 'OLIUS'\n",
      " 'MACANET DE LA SELVA' 'GUALBA' 'AGULLANA' 'MAIA DE MONTCAL' 'OLIANA'\n",
      " 'MATADEPERA' 'MONT-ROIG DEL CAMP' 'VINAIXA' 'SALAS DE PALLARS'\n",
      " 'CAMPDEVANOL' 'RIERA DE GAIA, LA' 'ALCOVER' 'ALTAFULLA'\n",
      " 'PORT DE LA SELVA, EL' 'ALMACELLES' 'GIMENELLS I EL PLA DE LA FONT'\n",
      " 'TORRELAVIT' 'GANDESA' 'SANTA MARIA DE CORCO' 'BRUC, EL'\n",
      " 'AVINYONET DEL PENEDES' 'VALLMOLL' 'VALLS DE VALIRA, LES'\n",
      " 'SANT VICENC DE MONTA' 'PENELLES' 'VERDU' 'ROSSELLO' 'PINEDA DE MAR'\n",
      " 'ALBATARREC' 'NAVARCLES' 'SANT JUST DESVERN' 'MARTORELLES' 'RUPIA'\n",
      " 'PALAU-SAVERDERA' 'MASSOTERES' 'SANTA BARBARA' 'CARDONA' 'PALAFOLLS'\n",
      " 'FLIX' 'PALAU DE PLEGAMANS' 'GOLMES' 'FONDARELLA' 'SANT BARTOMEU DEL GR'\n",
      " 'MUNTANYOLA' 'PORQUERES' 'TORREBESSES' 'ESPARREGUERA'\n",
      " 'VILALLONGA DEL CAMP' 'TARADELL' 'VILAMOS' 'JORBA' 'RIPOLL' 'VIMBODI'\n",
      " 'SANT LLORENC SAVALL' 'BOLVIR' 'PINELL DE BRAI, EL' 'COLL DE NARGO'\n",
      " \"ESPUNYOLA, L'\" 'FONT-RUBI' 'PRADELL DE LA TEIXETA' 'PACS DEL PENEDES'\n",
      " 'RIELLS I VIABREA' 'PONTILS' 'PALS' 'COLERA' 'MEDIONA' 'ALMENAR'\n",
      " 'CENTELLES' 'ARBOLI' 'SAN FELIU DE CODINES' 'PALOL DE REVARDIT' 'BELANYA'\n",
      " 'MASQUEFA' 'MOLINS DE REI' 'BIGUES I RIELLS' 'BORGES BLANQUES, LES'\n",
      " 'CASTELLO DE FARFANYA' 'VALLROMANES' 'ARTESA DE LLEIDA' 'CAPMANY'\n",
      " 'FORADADA' 'ORDIS' 'LLICA DE VALL' 'SANTA OLIVA' 'ALFARA DE CARLES'\n",
      " 'CELLERA DE TER, LA' 'BEGUES' 'SANTA EULALIA DE RON' 'CASTELLTERCOL'\n",
      " 'ALFES' 'ALGERRI' 'GARIDELLS, ELS' 'ASCO' 'COLOMERS' 'MIRALCAMP' 'LLORAC'\n",
      " 'LLAVORSI' 'LLARDECANS' 'ORISTA' 'SANT QUIRZE DE BESORA'\n",
      " 'SANT PERE DE TORELLO' 'GARCIA' 'MONTFERRER I CASTELLBO' \"IVARS D'URGELL\"\n",
      " 'ESTARAS' 'GUIAMETS, ELS' 'PINELL DE SOLSONES' 'BOVERA' 'SARRIA DE TER'\n",
      " 'SANT JOAN DE MOLLET' 'PUIGVERD DE LLEIDA' 'TIVENYS'\n",
      " 'POBLA DE LILLET, LA' 'FIGOLS I ALINYA' 'PIERA' 'NAVES'\n",
      " 'BANYERES DEL PENEDES' 'TEIA' 'ESTAMARIU' 'BOSSOST' 'BALSARENY'\n",
      " 'PUIGGROS' 'JOSA I TUIXEN' 'VIELHA E MIJARAN' 'CASTELLET I LA GORNA'\n",
      " 'CORNELLA DEL TERRI' 'OLESA DE BONESVALLS' 'AVELLANES I SANTA LINYA, LES'\n",
      " 'CASTELLOLI' 'FORES' 'MONTOLIU DE LLEIDA' 'MONTAGUT'\n",
      " 'SANT GUIM DE FREIXENET' 'LLADURS' 'PERAMOLA' 'POBLA DE SEGUR, LA'\n",
      " 'SENTMENAT' 'SANTA COLOMA DE QUERALT' 'PALLARESOS, ELS' 'GIRONELLA'\n",
      " \"TORRE DE L'ESPANYOL, LA\" 'TIVISSA' 'RIALP' 'SALT' 'TOSES' 'CABANELLES'\n",
      " 'BORRASSA' \"PALAU D'ANGLESOLA, EL\" 'RINER' 'MIRAVET' 'ORIS' 'CUNIT'\n",
      " \"CABRERA D'IGUALADA\" \"AMETLLA DE MAR, L'\" \"BELLCAIRE D'URGELL\" 'PRATDIP'\n",
      " 'CASTELLVI DE LA MARC' 'CANET DE MAR' 'PUIGCERDA' 'CALONGE DE SEGARRA'\n",
      " 'LLES DE CERDANYA' 'CALAF' 'VECIANA' 'SANT VICENC DE CASTELLERS'\n",
      " 'AMETLLA DEL VALLES,' 'MORERA DE MONTSANT, LA' 'TERMENS'\n",
      " 'SANTA MARGARIDA DE M' 'BORGES DEL CAMP, LES' 'AIGUAFREDA'\n",
      " 'CASTELL DE MUR' 'LLAMBILLES' 'TORA' 'CALLDETENES' 'ALCANO'\n",
      " 'RIUDELLOTS DE LA SELVA' 'CRESPIA' 'VILAGRASSA' 'OS DE BALAGUER'\n",
      " 'OLIVELLA' 'ISOVOL' 'SARROCA DE LLEIDA' 'PORRERA' 'CONCA DE DALT'\n",
      " 'ALCOLETGE' 'SANT JULIA DE VILATO' 'CUBELLS' 'ABRERA' 'CASSERRES'\n",
      " 'RIUDECOLS' 'VILADRAU' 'MENARGUENS' 'ARBECA' 'CABRILS' 'RIUDAURA'\n",
      " 'SANT JOAN DE LES ABADESSES' 'VILAVERD' 'VILALBA DELS ARCS' 'PIRA'\n",
      " 'GOSOL' 'MONT-RAS' 'ALCARRAS' 'SANT FELIU DE GUIXOLS' 'CABANABONA'\n",
      " 'MONTMELL, EL' 'VILANOVA DE LA BARCA' 'MASIES DE RODA, LES'\n",
      " 'TORRE DE CABDELLA, LA' 'ALGUAIRE' 'VILAMALLA' 'LLANCA'\n",
      " 'GUILS DE CERDANYA' 'VILELLA BAIXA, LA' 'ULLA' 'VILAFANT'\n",
      " \"RIBERA D'ONDARA\" 'MAR?A' 'ISONA I CONCA DELLA' 'GRANADELLA, LA' 'LLIVIA'\n",
      " \"CRUILLES, MONELLS I SANT SADURNI DE L'HE\" \"CORBERA D'EBRE\" 'FONOLLOSA'\n",
      " 'PAU' 'RIU DE CERDANYA' 'ESPONELLA' \"RIBA-ROJA D'EBRE\" 'GRATALLOPS'\n",
      " 'BELLPUIG' 'TORRES DE SEGRE' 'CORBERA DE LLOBREGAT'\n",
      " 'CASTELLVELL DEL CAMP' 'TORELLO' 'AGRAMUNT' 'SANT MARTI DE TOUS' 'CORCA'\n",
      " 'CAMPRODON' 'SAGAS' 'SERINYA' 'PREMIA DE DALT' 'GUISSONA' 'TAVERNOLES'\n",
      " 'BELIANES' 'VANSA I FORNOLS, LA' 'SARRAL' 'NAVATA' 'VILADAMAT'\n",
      " 'CERVIA DE LES GARRIGUES' 'SANTA MARGARIDA I ELS MONJOS' 'VILA-SACRA'\n",
      " 'BORREDA' 'GALERA, LA' 'POAL, EL' 'LA CANONJA' 'SANT PAU DE SEGURIES'\n",
      " 'MAS DE BARBERANS' 'BRAFIM' 'PONTOS' 'SANA?JA' 'POBLA DE MAFUMET, LA'\n",
      " 'MIERES' 'ESPOT' 'TORREFARRERA' 'MASARAC' 'TREMP' 'SANT AGUSTI DE LLUCA'\n",
      " 'SECUITA, LA' 'COPONS' 'BATEA' 'LLACUNA, LA' \"SANT SADURNI D'OSORM\"\n",
      " 'CAPELLADES' 'VILANOVA DE SAU' 'PARLAVA' 'MONISTROL DE CALDERS'\n",
      " 'SANT ESTEVE DE PALAU' 'TONA' 'VALLCEBRE' 'PREIXENS' 'ALAMUS, ELS'\n",
      " 'TALAVERA' 'BREDA' 'CASTELLDANS' 'CAMPINS' 'RELLINARS'\n",
      " 'SANT PERE PESCADOR' 'BELLAGUARDA' 'GAIA' 'FATARELLA, LA' 'GER'\n",
      " 'SUDANELL' \"VILANOVA D'ESCORNALBOU\" 'MONTBRIO DEL CAMP' 'BEUDA'\n",
      " 'VILOBI DEL PENEDES' 'SANT MATEU DE BAGES' 'SARROCA DE BELLERA' 'ALBESA'\n",
      " 'SANTA MARIA DE BESORA' 'CASTELLVI DE ROSANES' 'GRANYANELLA'\n",
      " 'SANTA EULALIA DE RIU' 'MALLA' 'LLUCA' 'MONTMANY-FIGARO'\n",
      " 'SANT JOAN LES FONTS' 'ARGENCOLA' 'VILOPRIU' 'ESPINELVES' 'SORIGUERA'\n",
      " 'PALMA DE CERVELLO, LA' 'TORRELLES DE FOIX' 'TORRENT' 'SOSES' 'RABOS'\n",
      " 'BELLPRAT' 'PRESES, LES' 'DARNIUS' 'BRULL, EL' 'VILA-SANA'\n",
      " 'POBLA DE MASSALUCA, LA' 'PUIG-REIG' 'SANT ANTONI DE VILAM' 'QUEROL'\n",
      " 'VILANOVA DE PRADES' 'SANTA PAU' 'PRAT DE COMTE' 'JAFRE'\n",
      " 'VILANOVA DEL CAMI' 'SANT MARTI DE LLEMENA' 'BARBERA DE LA CONCA'\n",
      " 'BENISSANET' \"ESCALA, L'\" 'CLARIANA DE CARDENER' 'SANT QUIRZE SAFAJA'\n",
      " 'ALAS I CERC' 'POBLA DE MONTORNES, LA' 'POBOLEDA' \"GUINGUETA D'ANEU, LA\"\n",
      " 'HORTA DE SANT JOAN' 'VENTALLO' 'LLOREN? DEL PENEDES'\n",
      " 'SANT CLIMENT DE LLOBREGAT' 'SANT ESTEVE DE LA SARGA' 'BOT' 'MALDA'\n",
      " 'ANGLES' 'TALARN' 'OLVAN' 'FONTANILLES' 'CASTELLNOU DE SEANA'\n",
      " 'MASROIG, EL' 'GUALTA' 'VALLIRANA' 'ARNES' 'SANT FELIU DE PALLEROLS'\n",
      " 'CELRA' 'CABACES' \"CASTELLAR DE N'HUG\" 'ULTRAMORT' 'ARGELAGUER'\n",
      " 'VILADASENS' 'PLANS DE SIO, ELS' 'SANT PERE DE VILAMAJOR' 'CORBINS'\n",
      " 'BONASTRE' 'ALBONS' 'ESPOLLA' 'MACANET DE CABRENYS' 'MASLLOREN?'\n",
      " 'MONTSENY' 'SALOMO' 'LLADO' 'VILA-RODONA' 'TERRADES' 'MADREMANYA'\n",
      " 'SANT JULIA DE CERDANYOLA' 'HOSTALRIC' 'RUPIT I PRUIT'\n",
      " 'BENAVENT DE SEGRIA' 'MARGANELL' 'NAVAS' 'SANT JAUME DE LLIERCA'\n",
      " 'CASTELLFOLLIT DEL BO' 'VILAMACOLUM' 'CERVIA DE TER'\n",
      " 'BARONIA DE RIALB, LA' \"PUIGVERD D'AGRAMUNT\" 'CAPOLAT' 'VILABELLA'\n",
      " 'PLANOLES' 'MASO, LA' 'SANTA FE DEL PENEDES' 'SENTIU DE SIO, LA' 'ALPENS'\n",
      " 'SUSQUEDA' 'ABELLA DE LA CONCA' \"BELLCAIRE D'EMPORDA\"\n",
      " 'CORNUDELLA DE MONTSANT' 'CASTELLNOU DE BAGES'\n",
      " 'SANT JULIA DEL LLOR I BONMATI' 'LES' 'RIBES DE FRESER'\n",
      " 'SANTA MARIA DE MERLE' 'SIDAMON' 'PASSANANT' 'AGER' 'VILELLA ALTA, LA'\n",
      " \"CANET D'ADRI\" 'MONTGAI' 'FORTIA' 'OLOST' 'SORA' 'ALBANYA' 'PUIGPELAT'\n",
      " 'OSSO DE SIO' 'SANT PERE SALLAVINER' 'CASTELLAR DE LA RIBERA'\n",
      " 'PILES, LES' 'MONTCLAR' 'GINESTAR' 'FONTCOBERTA' 'PALAU DE SANTA EULALIA'\n",
      " 'ALINS' 'BIOSCA' \"ESTERRI D'ANEU\" 'MASDENVERGE' 'VILALLONGA DE TER'\n",
      " 'DUESAIG?ES' 'CAMPELLES' 'DAS' 'FOLGUEROLES' 'VILABERTRAN'\n",
      " 'PONT DE VILOMARA I R' \"SANTA LLOGAIA D'ALGUEMA\" 'VILASSAR DE DALT'\n",
      " \"VALLS D'AGUILAR, LES\" 'CAMPLLONG' 'COLLDEJOU' 'IVORRA' 'SEROS'\n",
      " 'VILOSELL, EL' 'MURA' 'OGASSA' 'RASQUERA' 'SANT MIQUEL DE CAMPMAJOR'\n",
      " 'SANT HIPOLIT DE VOLTREGA' 'MOLLO' 'AIGUAMURCIA' 'NULLES' 'SANTPEDOR'\n",
      " 'ALFORJA' 'VILA?R' 'TORNABOUS' 'VILALLER' 'SANT CEBRIA DE VALLA'\n",
      " 'VESPELLA' 'PONTONS' 'SANT VICENC DE TORELLO' 'FARRERA' 'SAUS'\n",
      " 'SERRA DE DARO' 'SANT CLIMENT SESCEBES' 'SANT ISCLE DE VALLAL'\n",
      " 'VALLFOGONA DE RIPOLLES' 'TARROJA DE SEGARRA' 'VINEBRE' 'CASERES'\n",
      " 'BAIX PALLARS' 'ANGLESOLA' 'LINYOLA' \"PALMA D'EBRE, LA\" 'GODALL'\n",
      " 'BELLVIS' 'VALLBONA DE LES MONGES' 'ULLDEMOLINS' 'SANT BOI DE LLUCANES'\n",
      " 'NALEC' 'SANT CUGAT SESGARRIGUES' 'PRATS DE REI, ELS' 'PERAFITA'\n",
      " 'MONTMAJOR' 'TIANA' 'RIUDECANYES' 'VILANOVA DE MEIA' \"CALDES D'ESTRAC\"\n",
      " \"ALBIOL, L'\" \"BELLMUNT D'URGELL\" 'LLADORRE' 'RUBIO' 'IVARS DE NOGUERA'\n",
      " 'FEBRO, LA' 'FOGARS DE MONTCLUS' \"GRANJA D'ESCARP, LA\" 'BARBENS'\n",
      " \"ESTANY, L'\" 'COLLSUSPINA' 'VALL DE BIANYA, LA' 'SANT ANIOL DE FINESTRES'\n",
      " 'GARRIGOLES' 'AVINYO' 'GRANYENA DE SEGARRA' \"ESPLUGA CALBA, L'\"\n",
      " 'OMELLONS, ELS' 'ALOS DE BALAGUER' 'TALAMANCA' 'SALDES' 'TORTELLA'\n",
      " \"ARGENTERA, L'\" 'BAUSEN' 'VALL DE CARDOS' 'MARGALEF' 'QUAR, LA' 'VILADA'\n",
      " 'PORTELLA, LA' 'SELVA DE MAR, LA' 'CAP?ANES' 'ORPI'\n",
      " 'OMELLS DE NA GAIA, ELS' 'PA?LS' 'SUNYER' 'SANTA SUSANNA'\n",
      " 'VILANOVA DE SEGRIA' 'VALL-LLOBREGA' 'SANT LLOREN? DE MORUNYS'\n",
      " 'SANTA MARIA DE MIRAL' 'ULLASTRET' 'AVINYONET DE PUIGVENTOS' 'GALLIFA'\n",
      " 'JUNCOSA' \"ALBAGES, L'\" 'SOLERAS, EL' 'CISTELLA' 'URUS' 'SOBREMUNT'\n",
      " 'RENAU' 'CASTELLCIR' 'SANT MARTI DE RIUCORB' 'TORRELAMEU'\n",
      " 'GRANYENA DE LES GARRIGUES' 'TARRES' 'SETCASES' 'VIVER I SERRATEIX']\n",
      "COUNTY ['Valles Oriental' 'Segria' 'Girones' 'Barcelones' 'Montsia'\n",
      " 'Valles Occidental' 'Baix Emporda' 'Anoia' 'Baix Camp' 'Garrotxa' 'Osona'\n",
      " 'Alt Urgell' 'Selva' 'Noguera' 'Baix Llobregat' 'Urgell' 'Bages'\n",
      " 'Baix Ebre' 'Tarragones' 'Alt Penedes' 'Maresme' 'Baix Penedes'\n",
      " 'Alt Emporda' 'Garraf' 'Segarra' 'Bergueda' \"Pla d'Urgell\" 'Moianès'\n",
      " 'Alt Camp' 'Pallars Sobira' 'Conca de Barbera' 'Alta Ribagorca'\n",
      " \"Pla de l'Estany\" 'Solsones' 'Priorat' \"Val d'Aran\" 'Cerdanya'\n",
      " 'Garrigues' \"Ribera d'Ebre\" 'Ripolles' 'Pallars Jussa' 'Terra Alta']\n",
      "DEMARCATION ['Barcelona' 'Lleida' 'Girona' 'Tarragona']\n",
      "ALLOWED_SPEED ['100.0' '40.0' '80.0' '30.0' 'Not specified' '50.0' '70.0' '90.0' '60.0'\n",
      " '20.0' '120.0' '110.0' '10.0' '999.0' '0.0' '45.0' '99.0']\n",
      "LEAK ['No' 'Yes' 'Not specified']\n",
      "FOG ['No' 'Yes']\n",
      "TERRAIN ['Disassembled' 'Plane' 'Not specified' 'Mixed' 'Embankment']\n",
      "SPECIAL_LANE ['No' 'Lane enabled in the opposite direction than usual'\n",
      " 'Additional curb / lane clearance' 'Slow lane' 'Slowdown lane' 'Others'\n",
      " 'Bus lane' 'Central lane' 'Cycling lane' 'Overtaking lane'\n",
      " 'Reversible lane' 'Acceleration lane' 'Not specified']\n",
      "SPECIAL_MEASURES ['No' 'Works' 'Cleaning or maintenance services' 'Extraordinary event'\n",
      " 'Previous traffic accident' 'Not specified' 'Built' 'Police control']\n",
      "CLIMATOLOGY ['Good weather' 'Heavy rain' 'Light rain' 'Snowing' 'Not specified' 'Hail']\n",
      "SPECIAL_FUNCTION ['No special function' 'Alternative' 'Crossing'\n",
      " 'Round, waist or circumvallation' 'Not specified']\n",
      "INTERSECTION ['Arriving or leaving intersection up to 50m' 'Inside intersection'\n",
      " 'In section']\n",
      "SPEED_LIMIT_DISPLAY ['Generic way' 'Speed signal']\n",
      "LIGHT_CONDITIONS ['At night, enough artificial lighting' 'Day, clear day'\n",
      " 'At night, without artificial light' 'Day, dark day' 'Dawn or dusk'\n",
      " 'At night, insufficient artificial lighting' 'Not specified']\n",
      "REGULATION_OF_PRIORITY ['Only standart way' 'Stop signal or give way' 'Not specified'\n",
      " 'Traffic light' 'Road markings only (includes pedestrian crossing)'\n",
      " 'Authorized person' 'Others']\n",
      "TRACK_TRAJECTORIES ['One way' 'Double way' 'Not specified']\n",
      "ACC_CLASSIFICATION ['Chase' 'Other road departures' 'Front collision'\n",
      " 'Onslaught (front side)' 'Fall on the road' 'Run over'\n",
      " 'Friction or side collision'\n",
      " 'Collision against object / obstacle without previous derailment'\n",
      " 'Others' 'Derailment with collision or clash' 'Derailment with dump'\n",
      " 'Derailment with collision' 'Collision with animal on the road']\n",
      "TYPE_OF_SECTION ['T or Y intersection' 'Rotary' 'Not specified'\n",
      " 'Crossing or intersection at X or +' 'Entry or exit' 'Level crossing']\n",
      "AREA_CLASSIFICATION ['Urban area' 'Road' 'Crossing']\n",
      "ROAD_STATE ['Dry and clean' 'Slippery' 'Wet' 'Flooded' 'Snowy' 'Icy' 'Not specified']\n",
      "ROAD_TYPE ['Urban road (includes street and residential street)' 'Conventional road'\n",
      " 'Others' 'Highway' 'Freeway' 'Rural road / forest track']\n",
      "ROAD_OWNERSHIP ['Not specified' 'State' 'Municipal' 'Autonomous' 'Provincial' 'Others']\n",
      "WIND_CLASSIFICATION ['Calm, very gentle wind' 'Moderate wind' 'Strong wind' 'Not specified']\n",
      "WORKING_DAY ['Workdays' 'Weekend']\n",
      "TIME_SLOT ['Night' 'Afternoon' 'Morning']\n",
      "ACC_TYPE ['Collision of vehicles in motion' 'Unspecified track exit'\n",
      " 'Dump on the track' 'Run over'\n",
      " 'Collision of a vehicle against a road obstacle' 'Others']\n",
      "WEEKDAY ['mon-thu' 'sun' 'sat' 'fri']\n",
      "MONTH [1 10 5 8 6 2 12 9 7 3 4 11]\n"
     ]
    }
   ],
   "source": [
    "for id,item in enumerate(df_col):\n",
    "    print (item,df[item].unique())"
   ]
  },
  {
   "cell_type": "code",
   "execution_count": 48,
   "metadata": {},
   "outputs": [
    {
     "data": {
      "image/png": "[encoded data removed]",
      "text/plain": [
       "<Figure size 720x576 with 1 Axes>"
      ]
     },
     "metadata": {
      "needs_background": "light"
     },
     "output_type": "display_data"
    },
    {
     "data": {
      "image/png": "[encoded data removed]",
      "text/plain": [
       "<Figure size 720x576 with 1 Axes>"
      ]
     },
     "metadata": {
      "needs_background": "light"
     },
     "output_type": "display_data"
    },
    {
     "data": {
      "image/png": "[encoded data removed]",
      "text/plain": [
       "<Figure size 720x576 with 1 Axes>"
      ]
     },
     "metadata": {
      "needs_background": "light"
     },
     "output_type": "display_data"
    },
    {
     "data": {
      "image/png": "[encoded data removed]",
      "text/plain": [
       "<Figure size 720x576 with 1 Axes>"
      ]
     },
     "metadata": {
      "needs_background": "light"
     },
     "output_type": "display_data"
    },
    {
     "data": {
      "image/png": "[encoded data removed]",
      "text/plain": [
       "<Figure size 720x576 with 1 Axes>"
      ]
     },
     "metadata": {
      "needs_background": "light"
     },
     "output_type": "display_data"
    },
    {
     "data": {
      "image/png": "[encoded data removed]",
      "text/plain": [
       "<Figure size 720x576 with 1 Axes>"
      ]
     },
     "metadata": {
      "needs_background": "light"
     },
     "output_type": "display_data"
    },
    {
     "data": {
      "image/png": "[encoded data removed]",
      "text/plain": [
       "<Figure size 720x576 with 1 Axes>"
      ]
     },
     "metadata": {
      "needs_background": "light"
     },
     "output_type": "display_data"
    },
    {
     "data": {
      "image/png": "[encoded data removed]",
      "text/plain": [
       "<Figure size 720x576 with 1 Axes>"
      ]
     },
     "metadata": {
      "needs_background": "light"
     },
     "output_type": "display_data"
    },
    {
     "data": {
      "image/png": "[encoded data removed]",
      "text/plain": [
       "<Figure size 720x576 with 1 Axes>"
      ]
     },
     "metadata": {
      "needs_background": "light"
     },
     "output_type": "display_data"
    },
    {
     "data": {
      "image/png": "[encoded data removed]",
      "text/plain": [
       "<Figure size 720x576 with 1 Axes>"
      ]
     },
     "metadata": {
      "needs_background": "light"
     },
     "output_type": "display_data"
    },
    {
     "data": {
      "image/png": "[encoded data removed]",
      "text/plain": [
       "<Figure size 720x576 with 1 Axes>"
      ]
     },
     "metadata": {
      "needs_background": "light"
     },
     "output_type": "display_data"
    },
    {
     "data": {
      "image/png": "[encoded data removed]",
      "text/plain": [
       "<Figure size 720x576 with 1 Axes>"
      ]
     },
     "metadata": {
      "needs_background": "light"
     },
     "output_type": "display_data"
    },
    {
     "data": {
      "image/png": "[encoded data removed]",
      "text/plain": [
       "<Figure size 720x576 with 1 Axes>"
      ]
     },
     "metadata": {
      "needs_background": "light"
     },
     "output_type": "display_data"
    },
    {
     "data": {
      "image/png": "[encoded data removed]",
      "text/plain": [
       "<Figure size 720x576 with 1 Axes>"
      ]
     },
     "metadata": {
      "needs_background": "light"
     },
     "output_type": "display_data"
    },
    {
     "data": {
      "image/png": "[encoded data removed]",
      "text/plain": [
       "<Figure size 720x576 with 1 Axes>"
      ]
     },
     "metadata": {
      "needs_background": "light"
     },
     "output_type": "display_data"
    },
    {
     "data": {
      "image/png": "[encoded data removed]",
      "text/plain": [
       "<Figure size 720x576 with 1 Axes>"
      ]
     },
     "metadata": {
      "needs_background": "light"
     },
     "output_type": "display_data"
    },
    {
     "data": {
      "image/png": "[encoded data removed]",
      "text/plain": [
       "<Figure size 720x576 with 1 Axes>"
      ]
     },
     "metadata": {
      "needs_background": "light"
     },
     "output_type": "display_data"
    },
    {
     "data": {
      "image/png": "[encoded data removed]",
      "text/plain": [
       "<Figure size 720x576 with 1 Axes>"
      ]
     },
     "metadata": {
      "needs_background": "light"
     },
     "output_type": "display_data"
    },
    {
     "data": {
      "image/png": "[encoded data removed]",
      "text/plain": [
       "<Figure size 720x576 with 1 Axes>"
      ]
     },
     "metadata": {
      "needs_background": "light"
     },
     "output_type": "display_data"
    },
    {
     "data": {
      "image/png": "[encoded data removed]",
      "text/plain": [
       "<Figure size 720x576 with 1 Axes>"
      ]
     },
     "metadata": {
      "needs_background": "light"
     },
     "output_type": "display_data"
    },
    {
     "data": {
      "image/png": "[encoded data removed]",
      "text/plain": [
       "<Figure size 720x576 with 1 Axes>"
      ]
     },
     "metadata": {
      "needs_background": "light"
     },
     "output_type": "display_data"
    },
    {
     "data": {
      "image/png": "[encoded data removed]",
      "text/plain": [
       "<Figure size 720x576 with 1 Axes>"
      ]
     },
     "metadata": {
      "needs_background": "light"
     },
     "output_type": "display_data"
    },
    {
     "data": {
      "image/png": "[encoded data removed]",
      "text/plain": [
       "<Figure size 720x576 with 1 Axes>"
      ]
     },
     "metadata": {
      "needs_background": "light"
     },
     "output_type": "display_data"
    },
    {
     "data": {
      "image/png": "[encoded data removed]",
      "text/plain": [
       "<Figure size 720x576 with 1 Axes>"
      ]
     },
     "metadata": {
      "needs_background": "light"
     },
     "output_type": "display_data"
    },
    {
     "data": {
      "image/png": "[encoded data removed]",
      "text/plain": [
       "<Figure size 720x576 with 1 Axes>"
      ]
     },
     "metadata": {
      "needs_background": "light"
     },
     "output_type": "display_data"
    },
    {
     "data": {
      "image/png": "[encoded data removed]",
      "text/plain": [
       "<Figure size 720x576 with 1 Axes>"
      ]
     },
     "metadata": {
      "needs_background": "light"
     },
     "output_type": "display_data"
    },
    {
     "data": {
      "image/png": "[encoded data removed]",
      "text/plain": [
       "<Figure size 720x576 with 1 Axes>"
      ]
     },
     "metadata": {
      "needs_background": "light"
     },
     "output_type": "display_data"
    },
    {
     "data": {
      "image/png": "[encoded data removed]",
      "text/plain": [
       "<Figure size 720x576 with 1 Axes>"
      ]
     },
     "metadata": {
      "needs_background": "light"
     },
     "output_type": "display_data"
    },
    {
     "data": {
      "text/plain": [
       "<Figure size 432x288 with 0 Axes>"
      ]
     },
     "metadata": {},
     "output_type": "display_data"
    }
   ],
   "source": [
    "for item in df_acc_stack.keys():\n",
    "    plt.figure(figsize=((10,8)))\n",
    "    plt.barh(df_acc_stack[item][df_acc_stack[item].columns[0]], df_acc_stack[item]['coef_deaths'],tick_label=df_acc_stack[item][df_acc_stack[item].columns[0]])\n",
    "    plt.title(df_acc_stack[item].columns[0])\n",
    "    plt.show()\n",
    "plt.savefig('plt.pdf')"
   ]
  },
  {
   "cell_type": "markdown",
   "metadata": {},
   "source": [
    "# Time for Machine Learning "
   ]
  },
  {
   "cell_type": "code",
   "execution_count": 12,
   "metadata": {},
   "outputs": [],
   "source": [
    "df_2010_X=df_2010.drop(['N_DEATHS', 'N_MAJ_INJURIES','N_MIN_INJURIES','count'],axis=1)\n",
    "df_2010_Y=df_2010['N_DEATHS'].values"
   ]
  },
  {
   "cell_type": "code",
   "execution_count": 13,
   "metadata": {},
   "outputs": [],
   "source": [
    "le = preprocessing.LabelEncoder()\n",
    "for id,item in enumerate(df_2010_col):\n",
    "    le.fit(df_2010_X[item])\n",
    "    df_2010_X[item]=le.transform(df_2010_X[item])"
   ]
  },
  {
   "cell_type": "code",
   "execution_count": 14,
   "metadata": {},
   "outputs": [],
   "source": [
    "X = preprocessing.StandardScaler().fit(df_2010_X).transform(df_2010_X.astype(float))\n",
    "Y=df_2010['N_DEATHS'].values"
   ]
  },
  {
   "cell_type": "code",
   "execution_count": 16,
   "metadata": {},
   "outputs": [
    {
     "data": {
      "text/html": [
       "<div>\n",
       "<style scoped>\n",
       "    .dataframe tbody tr th:only-of-type {\n",
       "        vertical-align: middle;\n",
       "    }\n",
       "\n",
       "    .dataframe tbody tr th {\n",
       "        vertical-align: top;\n",
       "    }\n",
       "\n",
       "    .dataframe thead th {\n",
       "        text-align: right;\n",
       "    }\n",
       "</style>\n",
       "<table border=\"1\" class=\"dataframe\">\n",
       "  <thead>\n",
       "    <tr style=\"text-align: right;\">\n",
       "      <th></th>\n",
       "      <th>AREA</th>\n",
       "      <th>CITY</th>\n",
       "      <th>COUNTY</th>\n",
       "      <th>DEMARCATION</th>\n",
       "      <th>ALLOWED_SPEED</th>\n",
       "      <th>LEAK</th>\n",
       "      <th>FOG</th>\n",
       "      <th>TERRAIN</th>\n",
       "      <th>SPECIAL_LANE</th>\n",
       "      <th>SPECIAL_MEASURES</th>\n",
       "      <th>...</th>\n",
       "      <th>AREA_CLASSIFICATION</th>\n",
       "      <th>ROAD_STATE</th>\n",
       "      <th>ROAD_TYPE</th>\n",
       "      <th>ROAD_OWNERSHIP</th>\n",
       "      <th>WIND_CLASSIFICATION</th>\n",
       "      <th>WORKING_DAY</th>\n",
       "      <th>TIME_SLOT</th>\n",
       "      <th>ACC_TYPE</th>\n",
       "      <th>WEEKDAY</th>\n",
       "      <th>MONTH</th>\n",
       "    </tr>\n",
       "  </thead>\n",
       "  <tbody>\n",
       "    <tr>\n",
       "      <th>0</th>\n",
       "      <td>1</td>\n",
       "      <td>95</td>\n",
       "      <td>41</td>\n",
       "      <td>0</td>\n",
       "      <td>1</td>\n",
       "      <td>0</td>\n",
       "      <td>0</td>\n",
       "      <td>0</td>\n",
       "      <td>6</td>\n",
       "      <td>3</td>\n",
       "      <td>...</td>\n",
       "      <td>2</td>\n",
       "      <td>0</td>\n",
       "      <td>4</td>\n",
       "      <td>2</td>\n",
       "      <td>0</td>\n",
       "      <td>1</td>\n",
       "      <td>2</td>\n",
       "      <td>1</td>\n",
       "      <td>1</td>\n",
       "      <td>0</td>\n",
       "    </tr>\n",
       "    <tr>\n",
       "      <th>1</th>\n",
       "      <td>0</td>\n",
       "      <td>185</td>\n",
       "      <td>33</td>\n",
       "      <td>2</td>\n",
       "      <td>6</td>\n",
       "      <td>0</td>\n",
       "      <td>0</td>\n",
       "      <td>4</td>\n",
       "      <td>6</td>\n",
       "      <td>3</td>\n",
       "      <td>...</td>\n",
       "      <td>1</td>\n",
       "      <td>0</td>\n",
       "      <td>0</td>\n",
       "      <td>5</td>\n",
       "      <td>0</td>\n",
       "      <td>0</td>\n",
       "      <td>2</td>\n",
       "      <td>5</td>\n",
       "      <td>3</td>\n",
       "      <td>9</td>\n",
       "    </tr>\n",
       "    <tr>\n",
       "      <th>2</th>\n",
       "      <td>0</td>\n",
       "      <td>150</td>\n",
       "      <td>19</td>\n",
       "      <td>1</td>\n",
       "      <td>10</td>\n",
       "      <td>0</td>\n",
       "      <td>0</td>\n",
       "      <td>4</td>\n",
       "      <td>6</td>\n",
       "      <td>3</td>\n",
       "      <td>...</td>\n",
       "      <td>1</td>\n",
       "      <td>0</td>\n",
       "      <td>0</td>\n",
       "      <td>5</td>\n",
       "      <td>0</td>\n",
       "      <td>1</td>\n",
       "      <td>0</td>\n",
       "      <td>1</td>\n",
       "      <td>1</td>\n",
       "      <td>4</td>\n",
       "    </tr>\n",
       "    <tr>\n",
       "      <th>3</th>\n",
       "      <td>1</td>\n",
       "      <td>50</td>\n",
       "      <td>12</td>\n",
       "      <td>0</td>\n",
       "      <td>1</td>\n",
       "      <td>0</td>\n",
       "      <td>0</td>\n",
       "      <td>3</td>\n",
       "      <td>6</td>\n",
       "      <td>3</td>\n",
       "      <td>...</td>\n",
       "      <td>2</td>\n",
       "      <td>0</td>\n",
       "      <td>4</td>\n",
       "      <td>2</td>\n",
       "      <td>0</td>\n",
       "      <td>0</td>\n",
       "      <td>2</td>\n",
       "      <td>1</td>\n",
       "      <td>2</td>\n",
       "      <td>7</td>\n",
       "    </tr>\n",
       "    <tr>\n",
       "      <th>4</th>\n",
       "      <td>1</td>\n",
       "      <td>42</td>\n",
       "      <td>12</td>\n",
       "      <td>0</td>\n",
       "      <td>1</td>\n",
       "      <td>0</td>\n",
       "      <td>0</td>\n",
       "      <td>3</td>\n",
       "      <td>6</td>\n",
       "      <td>3</td>\n",
       "      <td>...</td>\n",
       "      <td>2</td>\n",
       "      <td>0</td>\n",
       "      <td>4</td>\n",
       "      <td>2</td>\n",
       "      <td>0</td>\n",
       "      <td>0</td>\n",
       "      <td>0</td>\n",
       "      <td>2</td>\n",
       "      <td>0</td>\n",
       "      <td>4</td>\n",
       "    </tr>\n",
       "    <tr>\n",
       "      <th>...</th>\n",
       "      <td>...</td>\n",
       "      <td>...</td>\n",
       "      <td>...</td>\n",
       "      <td>...</td>\n",
       "      <td>...</td>\n",
       "      <td>...</td>\n",
       "      <td>...</td>\n",
       "      <td>...</td>\n",
       "      <td>...</td>\n",
       "      <td>...</td>\n",
       "      <td>...</td>\n",
       "      <td>...</td>\n",
       "      <td>...</td>\n",
       "      <td>...</td>\n",
       "      <td>...</td>\n",
       "      <td>...</td>\n",
       "      <td>...</td>\n",
       "      <td>...</td>\n",
       "      <td>...</td>\n",
       "      <td>...</td>\n",
       "      <td>...</td>\n",
       "    </tr>\n",
       "    <tr>\n",
       "      <th>1979</th>\n",
       "      <td>0</td>\n",
       "      <td>230</td>\n",
       "      <td>13</td>\n",
       "      <td>0</td>\n",
       "      <td>1</td>\n",
       "      <td>0</td>\n",
       "      <td>0</td>\n",
       "      <td>4</td>\n",
       "      <td>6</td>\n",
       "      <td>3</td>\n",
       "      <td>...</td>\n",
       "      <td>1</td>\n",
       "      <td>0</td>\n",
       "      <td>0</td>\n",
       "      <td>0</td>\n",
       "      <td>1</td>\n",
       "      <td>1</td>\n",
       "      <td>1</td>\n",
       "      <td>0</td>\n",
       "      <td>1</td>\n",
       "      <td>1</td>\n",
       "    </tr>\n",
       "    <tr>\n",
       "      <th>1980</th>\n",
       "      <td>0</td>\n",
       "      <td>405</td>\n",
       "      <td>41</td>\n",
       "      <td>0</td>\n",
       "      <td>1</td>\n",
       "      <td>0</td>\n",
       "      <td>0</td>\n",
       "      <td>4</td>\n",
       "      <td>6</td>\n",
       "      <td>3</td>\n",
       "      <td>...</td>\n",
       "      <td>1</td>\n",
       "      <td>0</td>\n",
       "      <td>0</td>\n",
       "      <td>0</td>\n",
       "      <td>0</td>\n",
       "      <td>0</td>\n",
       "      <td>1</td>\n",
       "      <td>3</td>\n",
       "      <td>3</td>\n",
       "      <td>2</td>\n",
       "    </tr>\n",
       "    <tr>\n",
       "      <th>1981</th>\n",
       "      <td>1</td>\n",
       "      <td>176</td>\n",
       "      <td>5</td>\n",
       "      <td>0</td>\n",
       "      <td>7</td>\n",
       "      <td>0</td>\n",
       "      <td>0</td>\n",
       "      <td>4</td>\n",
       "      <td>6</td>\n",
       "      <td>3</td>\n",
       "      <td>...</td>\n",
       "      <td>2</td>\n",
       "      <td>0</td>\n",
       "      <td>4</td>\n",
       "      <td>2</td>\n",
       "      <td>0</td>\n",
       "      <td>0</td>\n",
       "      <td>0</td>\n",
       "      <td>2</td>\n",
       "      <td>3</td>\n",
       "      <td>6</td>\n",
       "    </tr>\n",
       "    <tr>\n",
       "      <th>1982</th>\n",
       "      <td>0</td>\n",
       "      <td>11</td>\n",
       "      <td>0</td>\n",
       "      <td>3</td>\n",
       "      <td>1</td>\n",
       "      <td>0</td>\n",
       "      <td>0</td>\n",
       "      <td>2</td>\n",
       "      <td>6</td>\n",
       "      <td>3</td>\n",
       "      <td>...</td>\n",
       "      <td>1</td>\n",
       "      <td>0</td>\n",
       "      <td>0</td>\n",
       "      <td>0</td>\n",
       "      <td>0</td>\n",
       "      <td>1</td>\n",
       "      <td>1</td>\n",
       "      <td>3</td>\n",
       "      <td>1</td>\n",
       "      <td>10</td>\n",
       "    </tr>\n",
       "    <tr>\n",
       "      <th>1983</th>\n",
       "      <td>0</td>\n",
       "      <td>431</td>\n",
       "      <td>16</td>\n",
       "      <td>0</td>\n",
       "      <td>6</td>\n",
       "      <td>0</td>\n",
       "      <td>0</td>\n",
       "      <td>1</td>\n",
       "      <td>6</td>\n",
       "      <td>3</td>\n",
       "      <td>...</td>\n",
       "      <td>1</td>\n",
       "      <td>0</td>\n",
       "      <td>0</td>\n",
       "      <td>0</td>\n",
       "      <td>0</td>\n",
       "      <td>1</td>\n",
       "      <td>2</td>\n",
       "      <td>2</td>\n",
       "      <td>1</td>\n",
       "      <td>11</td>\n",
       "    </tr>\n",
       "  </tbody>\n",
       "</table>\n",
       "<p>1984 rows × 29 columns</p>\n",
       "</div>"
      ],
      "text/plain": [
       "      AREA  CITY  COUNTY  DEMARCATION  ALLOWED_SPEED  LEAK  FOG  TERRAIN  \\\n",
       "0        1    95      41            0              1     0    0        0   \n",
       "1        0   185      33            2              6     0    0        4   \n",
       "2        0   150      19            1             10     0    0        4   \n",
       "3        1    50      12            0              1     0    0        3   \n",
       "4        1    42      12            0              1     0    0        3   \n",
       "...    ...   ...     ...          ...            ...   ...  ...      ...   \n",
       "1979     0   230      13            0              1     0    0        4   \n",
       "1980     0   405      41            0              1     0    0        4   \n",
       "1981     1   176       5            0              7     0    0        4   \n",
       "1982     0    11       0            3              1     0    0        2   \n",
       "1983     0   431      16            0              6     0    0        1   \n",
       "\n",
       "      SPECIAL_LANE  SPECIAL_MEASURES  ...  AREA_CLASSIFICATION  ROAD_STATE  \\\n",
       "0                6                 3  ...                    2           0   \n",
       "1                6                 3  ...                    1           0   \n",
       "2                6                 3  ...                    1           0   \n",
       "3                6                 3  ...                    2           0   \n",
       "4                6                 3  ...                    2           0   \n",
       "...            ...               ...  ...                  ...         ...   \n",
       "1979             6                 3  ...                    1           0   \n",
       "1980             6                 3  ...                    1           0   \n",
       "1981             6                 3  ...                    2           0   \n",
       "1982             6                 3  ...                    1           0   \n",
       "1983             6                 3  ...                    1           0   \n",
       "\n",
       "      ROAD_TYPE  ROAD_OWNERSHIP  WIND_CLASSIFICATION  WORKING_DAY  TIME_SLOT  \\\n",
       "0             4               2                    0            1          2   \n",
       "1             0               5                    0            0          2   \n",
       "2             0               5                    0            1          0   \n",
       "3             4               2                    0            0          2   \n",
       "4             4               2                    0            0          0   \n",
       "...         ...             ...                  ...          ...        ...   \n",
       "1979          0               0                    1            1          1   \n",
       "1980          0               0                    0            0          1   \n",
       "1981          4               2                    0            0          0   \n",
       "1982          0               0                    0            1          1   \n",
       "1983          0               0                    0            1          2   \n",
       "\n",
       "      ACC_TYPE  WEEKDAY  MONTH  \n",
       "0            1        1      0  \n",
       "1            5        3      9  \n",
       "2            1        1      4  \n",
       "3            1        2      7  \n",
       "4            2        0      4  \n",
       "...        ...      ...    ...  \n",
       "1979         0        1      1  \n",
       "1980         3        3      2  \n",
       "1981         2        3      6  \n",
       "1982         3        1     10  \n",
       "1983         2        1     11  \n",
       "\n",
       "[1984 rows x 29 columns]"
      ]
     },
     "execution_count": 16,
     "metadata": {},
     "output_type": "execute_result"
    }
   ],
   "source": [
    "df_2010_X"
   ]
  },
  {
   "cell_type": "code",
   "execution_count": 102,
   "metadata": {},
   "outputs": [
    {
     "name": "stdout",
     "output_type": "stream",
     "text": [
      "Train set: (1587, 29) (1587,)\n",
      "Test set: (397, 29) (397,)\n"
     ]
    }
   ],
   "source": [
    "from sklearn.model_selection import train_test_split\n",
    "X_train, X_test, y_train, y_test = train_test_split( X, Y, test_size=0.2, random_state=4)\n",
    "print ('Train set:', X_train.shape,  y_train.shape)\n",
    "print ('Test set:', X_test.shape,  y_test.shape)"
   ]
  },
  {
   "cell_type": "code",
   "execution_count": 103,
   "metadata": {},
   "outputs": [
    {
     "name": "stdout",
     "output_type": "stream",
     "text": [
      "Train set Accuracy:  0.8601134215500945\n",
      "Test set Accuracy:  0.8564231738035264\n"
     ]
    }
   ],
   "source": [
    "from sklearn.neighbors import KNeighborsClassifier\n",
    "k = 4\n",
    "neigh = KNeighborsClassifier(n_neighbors = k).fit(X_train,y_train)\n",
    "yhat = neigh.predict(X_test)\n",
    "from sklearn import metrics\n",
    "print(\"Train set Accuracy: \", metrics.accuracy_score(y_train, neigh.predict(X_train)))\n",
    "print(\"Test set Accuracy: \", metrics.accuracy_score(y_test, yhat))"
   ]
  },
  {
   "cell_type": "code",
   "execution_count": 109,
   "metadata": {},
   "outputs": [
    {
     "data": {
      "image/png": "[encoded data removed]",
      "text/plain": [
       "<Figure size 432x288 with 1 Axes>"
      ]
     },
     "metadata": {
      "needs_background": "light"
     },
     "output_type": "display_data"
    },
    {
     "name": "stdout",
     "output_type": "stream",
     "text": [
      "The best accuracy was with 0.871536523929471 with k= 12\n"
     ]
    }
   ],
   "source": [
    "Ks = 20\n",
    "mean_acc = np.zeros((Ks-1))\n",
    "std_acc = np.zeros((Ks-1))\n",
    "ConfustionMx = [];\n",
    "for n in range(1,Ks):\n",
    "    neigh = KNeighborsClassifier(n_neighbors = n).fit(X_train,y_train)\n",
    "    yhat=neigh.predict(X_test)\n",
    "    mean_acc[n-1] = metrics.accuracy_score(y_test, yhat)\n",
    "    std_acc[n-1]=np.std(yhat==y_test)/np.sqrt(yhat.shape[0])\n",
    "plt.plot(range(1,Ks),mean_acc,'g')\n",
    "plt.fill_between(range(1,Ks),mean_acc - 1 * std_acc,mean_acc + 1 * std_acc, alpha=0.10)\n",
    "plt.legend(('Accuracy ', '+/- 3xstd'))\n",
    "plt.ylabel('Accuracy ')\n",
    "plt.xlabel('Number of Neighbours (K)')\n",
    "plt.tight_layout()\n",
    "plt.show()\n",
    "print( \"The best accuracy was with\", mean_acc.max(), \"with k=\", mean_acc.argmax()+1) "
   ]
  },
  {
   "cell_type": "markdown",
   "metadata": {},
   "source": [
    "## Try with 2011 year"
   ]
  },
  {
   "cell_type": "code",
   "execution_count": 150,
   "metadata": {},
   "outputs": [
    {
     "ename": "KeyError",
     "evalue": "\"['YEAR' 'DATE' 'ROAD' 'KM' 'N_VICTIMS' 'N_VEHICLES' 'N_PEDESTRIANS'\\n 'N_BICYCLES' 'N_MOPEDS' 'N_MOTORCYCLES' 'N_LIGHT_VEHICLES'\\n 'N_HEAVY_VEHICLES' 'N_OTHER_TYPES' 'N_UNKNOWN_TYPE' 'TIME' 'index'\\n 'SEVERITY' 'FOG_INFLUENCE' 'TERRAIN_INFLUENCE' 'TRAFFIC_INFLUENCE'\\n 'WEATHER_INFLUENCE' 'WIND_INFLUENCE' 'LUMINOSITY_INFLUENCE'\\n 'SPECIAL_MEASURES_INFLUENCE' 'OBJECT_INFLUENCE' 'FURROWS_INFLUENCE'\\n 'VISIBILITY_INFLUENCE' 'ALTIMETRIC_LAYOUT'] not found in axis\"",
     "output_type": "error",
     "traceback": [
      "\u001b[1;31m---------------------------------------------------------------------------\u001b[0m",
      "\u001b[1;31mKeyError\u001b[0m                                  Traceback (most recent call last)",
      "\u001b[1;32m<ipython-input-150-ee362badb1d9>\u001b[0m in \u001b[0;36m<module>\u001b[1;34m\u001b[0m\n\u001b[0;32m      1\u001b[0m \u001b[0mdf_2012\u001b[0m\u001b[1;33m=\u001b[0m\u001b[1;36m1\u001b[0m\u001b[1;33m\u001b[0m\u001b[1;33m\u001b[0m\u001b[0m\n\u001b[0;32m      2\u001b[0m \u001b[0mdf_2012\u001b[0m\u001b[1;33m=\u001b[0m\u001b[0mdf_stack\u001b[0m\u001b[1;33m[\u001b[0m\u001b[1;36m2\u001b[0m\u001b[1;33m]\u001b[0m\u001b[1;33m\u001b[0m\u001b[1;33m\u001b[0m\u001b[0m\n\u001b[1;32m----> 3\u001b[1;33m df_2012.drop(['YEAR','DATE', 'ROAD', 'KM','N_VICTIMS','N_VEHICLES', 'N_PEDESTRIANS',\n\u001b[0m\u001b[0;32m      4\u001b[0m        \u001b[1;34m'N_BICYCLES'\u001b[0m\u001b[1;33m,\u001b[0m \u001b[1;34m'N_MOPEDS'\u001b[0m\u001b[1;33m,\u001b[0m\u001b[1;33m\u001b[0m\u001b[1;33m\u001b[0m\u001b[0m\n\u001b[0;32m      5\u001b[0m        \u001b[1;34m'N_MOTORCYCLES'\u001b[0m\u001b[1;33m,\u001b[0m \u001b[1;34m'N_LIGHT_VEHICLES'\u001b[0m\u001b[1;33m,\u001b[0m\u001b[1;33m\u001b[0m\u001b[1;33m\u001b[0m\u001b[0m\n",
      "\u001b[1;32mC:\\ProgramData\\Anaconda3\\lib\\site-packages\\pandas\\core\\frame.py\u001b[0m in \u001b[0;36mdrop\u001b[1;34m(self, labels, axis, index, columns, level, inplace, errors)\u001b[0m\n\u001b[0;32m   3988\u001b[0m                 \u001b[0mweight\u001b[0m  \u001b[1;36m1.0\u001b[0m     \u001b[1;36m0.8\u001b[0m\u001b[1;33m\u001b[0m\u001b[1;33m\u001b[0m\u001b[0m\n\u001b[0;32m   3989\u001b[0m         \"\"\"\n\u001b[1;32m-> 3990\u001b[1;33m         return super().drop(\n\u001b[0m\u001b[0;32m   3991\u001b[0m             \u001b[0mlabels\u001b[0m\u001b[1;33m=\u001b[0m\u001b[0mlabels\u001b[0m\u001b[1;33m,\u001b[0m\u001b[1;33m\u001b[0m\u001b[1;33m\u001b[0m\u001b[0m\n\u001b[0;32m   3992\u001b[0m             \u001b[0maxis\u001b[0m\u001b[1;33m=\u001b[0m\u001b[0maxis\u001b[0m\u001b[1;33m,\u001b[0m\u001b[1;33m\u001b[0m\u001b[1;33m\u001b[0m\u001b[0m\n",
      "\u001b[1;32mC:\\ProgramData\\Anaconda3\\lib\\site-packages\\pandas\\core\\generic.py\u001b[0m in \u001b[0;36mdrop\u001b[1;34m(self, labels, axis, index, columns, level, inplace, errors)\u001b[0m\n\u001b[0;32m   3934\u001b[0m         \u001b[1;32mfor\u001b[0m \u001b[0maxis\u001b[0m\u001b[1;33m,\u001b[0m \u001b[0mlabels\u001b[0m \u001b[1;32min\u001b[0m \u001b[0maxes\u001b[0m\u001b[1;33m.\u001b[0m\u001b[0mitems\u001b[0m\u001b[1;33m(\u001b[0m\u001b[1;33m)\u001b[0m\u001b[1;33m:\u001b[0m\u001b[1;33m\u001b[0m\u001b[1;33m\u001b[0m\u001b[0m\n\u001b[0;32m   3935\u001b[0m             \u001b[1;32mif\u001b[0m \u001b[0mlabels\u001b[0m \u001b[1;32mis\u001b[0m \u001b[1;32mnot\u001b[0m \u001b[1;32mNone\u001b[0m\u001b[1;33m:\u001b[0m\u001b[1;33m\u001b[0m\u001b[1;33m\u001b[0m\u001b[0m\n\u001b[1;32m-> 3936\u001b[1;33m                 \u001b[0mobj\u001b[0m \u001b[1;33m=\u001b[0m \u001b[0mobj\u001b[0m\u001b[1;33m.\u001b[0m\u001b[0m_drop_axis\u001b[0m\u001b[1;33m(\u001b[0m\u001b[0mlabels\u001b[0m\u001b[1;33m,\u001b[0m \u001b[0maxis\u001b[0m\u001b[1;33m,\u001b[0m \u001b[0mlevel\u001b[0m\u001b[1;33m=\u001b[0m\u001b[0mlevel\u001b[0m\u001b[1;33m,\u001b[0m \u001b[0merrors\u001b[0m\u001b[1;33m=\u001b[0m\u001b[0merrors\u001b[0m\u001b[1;33m)\u001b[0m\u001b[1;33m\u001b[0m\u001b[1;33m\u001b[0m\u001b[0m\n\u001b[0m\u001b[0;32m   3937\u001b[0m \u001b[1;33m\u001b[0m\u001b[0m\n\u001b[0;32m   3938\u001b[0m         \u001b[1;32mif\u001b[0m \u001b[0minplace\u001b[0m\u001b[1;33m:\u001b[0m\u001b[1;33m\u001b[0m\u001b[1;33m\u001b[0m\u001b[0m\n",
      "\u001b[1;32mC:\\ProgramData\\Anaconda3\\lib\\site-packages\\pandas\\core\\generic.py\u001b[0m in \u001b[0;36m_drop_axis\u001b[1;34m(self, labels, axis, level, errors)\u001b[0m\n\u001b[0;32m   3968\u001b[0m                 \u001b[0mnew_axis\u001b[0m \u001b[1;33m=\u001b[0m \u001b[0maxis\u001b[0m\u001b[1;33m.\u001b[0m\u001b[0mdrop\u001b[0m\u001b[1;33m(\u001b[0m\u001b[0mlabels\u001b[0m\u001b[1;33m,\u001b[0m \u001b[0mlevel\u001b[0m\u001b[1;33m=\u001b[0m\u001b[0mlevel\u001b[0m\u001b[1;33m,\u001b[0m \u001b[0merrors\u001b[0m\u001b[1;33m=\u001b[0m\u001b[0merrors\u001b[0m\u001b[1;33m)\u001b[0m\u001b[1;33m\u001b[0m\u001b[1;33m\u001b[0m\u001b[0m\n\u001b[0;32m   3969\u001b[0m             \u001b[1;32melse\u001b[0m\u001b[1;33m:\u001b[0m\u001b[1;33m\u001b[0m\u001b[1;33m\u001b[0m\u001b[0m\n\u001b[1;32m-> 3970\u001b[1;33m                 \u001b[0mnew_axis\u001b[0m \u001b[1;33m=\u001b[0m \u001b[0maxis\u001b[0m\u001b[1;33m.\u001b[0m\u001b[0mdrop\u001b[0m\u001b[1;33m(\u001b[0m\u001b[0mlabels\u001b[0m\u001b[1;33m,\u001b[0m \u001b[0merrors\u001b[0m\u001b[1;33m=\u001b[0m\u001b[0merrors\u001b[0m\u001b[1;33m)\u001b[0m\u001b[1;33m\u001b[0m\u001b[1;33m\u001b[0m\u001b[0m\n\u001b[0m\u001b[0;32m   3971\u001b[0m             \u001b[0mresult\u001b[0m \u001b[1;33m=\u001b[0m \u001b[0mself\u001b[0m\u001b[1;33m.\u001b[0m\u001b[0mreindex\u001b[0m\u001b[1;33m(\u001b[0m\u001b[1;33m**\u001b[0m\u001b[1;33m{\u001b[0m\u001b[0maxis_name\u001b[0m\u001b[1;33m:\u001b[0m \u001b[0mnew_axis\u001b[0m\u001b[1;33m}\u001b[0m\u001b[1;33m)\u001b[0m\u001b[1;33m\u001b[0m\u001b[1;33m\u001b[0m\u001b[0m\n\u001b[0;32m   3972\u001b[0m \u001b[1;33m\u001b[0m\u001b[0m\n",
      "\u001b[1;32mC:\\ProgramData\\Anaconda3\\lib\\site-packages\\pandas\\core\\indexes\\base.py\u001b[0m in \u001b[0;36mdrop\u001b[1;34m(self, labels, errors)\u001b[0m\n\u001b[0;32m   5016\u001b[0m         \u001b[1;32mif\u001b[0m \u001b[0mmask\u001b[0m\u001b[1;33m.\u001b[0m\u001b[0many\u001b[0m\u001b[1;33m(\u001b[0m\u001b[1;33m)\u001b[0m\u001b[1;33m:\u001b[0m\u001b[1;33m\u001b[0m\u001b[1;33m\u001b[0m\u001b[0m\n\u001b[0;32m   5017\u001b[0m             \u001b[1;32mif\u001b[0m \u001b[0merrors\u001b[0m \u001b[1;33m!=\u001b[0m \u001b[1;34m\"ignore\"\u001b[0m\u001b[1;33m:\u001b[0m\u001b[1;33m\u001b[0m\u001b[1;33m\u001b[0m\u001b[0m\n\u001b[1;32m-> 5018\u001b[1;33m                 \u001b[1;32mraise\u001b[0m \u001b[0mKeyError\u001b[0m\u001b[1;33m(\u001b[0m\u001b[1;34mf\"{labels[mask]} not found in axis\"\u001b[0m\u001b[1;33m)\u001b[0m\u001b[1;33m\u001b[0m\u001b[1;33m\u001b[0m\u001b[0m\n\u001b[0m\u001b[0;32m   5019\u001b[0m             \u001b[0mindexer\u001b[0m \u001b[1;33m=\u001b[0m \u001b[0mindexer\u001b[0m\u001b[1;33m[\u001b[0m\u001b[1;33m~\u001b[0m\u001b[0mmask\u001b[0m\u001b[1;33m]\u001b[0m\u001b[1;33m\u001b[0m\u001b[1;33m\u001b[0m\u001b[0m\n\u001b[0;32m   5020\u001b[0m         \u001b[1;32mreturn\u001b[0m \u001b[0mself\u001b[0m\u001b[1;33m.\u001b[0m\u001b[0mdelete\u001b[0m\u001b[1;33m(\u001b[0m\u001b[0mindexer\u001b[0m\u001b[1;33m)\u001b[0m\u001b[1;33m\u001b[0m\u001b[1;33m\u001b[0m\u001b[0m\n",
      "\u001b[1;31mKeyError\u001b[0m: \"['YEAR' 'DATE' 'ROAD' 'KM' 'N_VICTIMS' 'N_VEHICLES' 'N_PEDESTRIANS'\\n 'N_BICYCLES' 'N_MOPEDS' 'N_MOTORCYCLES' 'N_LIGHT_VEHICLES'\\n 'N_HEAVY_VEHICLES' 'N_OTHER_TYPES' 'N_UNKNOWN_TYPE' 'TIME' 'index'\\n 'SEVERITY' 'FOG_INFLUENCE' 'TERRAIN_INFLUENCE' 'TRAFFIC_INFLUENCE'\\n 'WEATHER_INFLUENCE' 'WIND_INFLUENCE' 'LUMINOSITY_INFLUENCE'\\n 'SPECIAL_MEASURES_INFLUENCE' 'OBJECT_INFLUENCE' 'FURROWS_INFLUENCE'\\n 'VISIBILITY_INFLUENCE' 'ALTIMETRIC_LAYOUT'] not found in axis\""
     ]
    }
   ],
   "source": [
    "df_2012=1\n",
    "df_2012=df_stack[2]\n",
    "df_2012.drop(['YEAR','DATE', 'ROAD', 'KM','N_VICTIMS','N_VEHICLES', 'N_PEDESTRIANS',\n",
    "       'N_BICYCLES', 'N_MOPEDS',\n",
    "       'N_MOTORCYCLES', 'N_LIGHT_VEHICLES',\n",
    "       'N_HEAVY_VEHICLES', 'N_OTHER_TYPES',\n",
    "       'N_UNKNOWN_TYPE','TIME','index','SEVERITY', 'FOG_INFLUENCE', 'TERRAIN_INFLUENCE',\n",
    "       'TRAFFIC_INFLUENCE', 'WEATHER_INFLUENCE', 'WIND_INFLUENCE',\n",
    "       'LUMINOSITY_INFLUENCE', 'SPECIAL_MEASURES_INFLUENCE', 'OBJECT_INFLUENCE',\n",
    "       'FURROWS_INFLUENCE', 'VISIBILITY_INFLUENCE',\"ALTIMETRIC_LAYOUT\"],axis=1,inplace=True)\n",
    "df_2012['count']=1\n",
    "df_acc_stack={}\n",
    "df_2012_col=df_2012.columns.drop(labels=['N_DEATHS', 'N_MAJ_INJURIES','N_MIN_INJURIES','count'])\n",
    "for id,item in enumerate(df_2012_col):\n",
    "    if (df_2012[item].unique()).size>50:\n",
    "        df_2012[item].drop\n",
    "    else:\n",
    "        df_acc_stack[id]=df_2012.groupby([item],as_index=False).sum()\n",
    "        df_acc_stack[id]['coef_deaths']=(df_acc_stack[id]['N_DEATHS'])/(df_acc_stack[id]['count'])\n",
    "        df_acc_stack[id]['coef_maj_inj']=(df_acc_stack[id]['N_MAJ_INJURIES'])/(df_acc_stack[id]['count'])\n",
    "        df_acc_stack[id]['coef_min_inj']=(df_acc_stack[id]['N_MIN_INJURIES'])/(df_acc_stack[id]['count'])\n",
    "df_2012_X=df_2012.drop(['N_DEATHS', 'N_MAJ_INJURIES','N_MIN_INJURIES','count'],axis=1)"
   ]
  },
  {
   "cell_type": "code",
   "execution_count": 138,
   "metadata": {},
   "outputs": [],
   "source": [
    "for id,item in enumerate(df_2012_col):\n",
    "    le.fit(df_2012_X[item])\n",
    "    df_2012_X[item]=le.transform(df_2012_X[item])\n",
    "X_2012 = preprocessing.StandardScaler().fit(df_2012_X).transform(df_2012_X.astype(float))\n",
    "Y_2012 =df_2012['N_DEATHS'].values"
   ]
  },
  {
   "cell_type": "code",
   "execution_count": 139,
   "metadata": {},
   "outputs": [
    {
     "data": {
      "text/plain": [
       "0.8670487106017192"
      ]
     },
     "execution_count": 139,
     "metadata": {},
     "output_type": "execute_result"
    }
   ],
   "source": [
    "k = 12\n",
    "neigh12 = KNeighborsClassifier(n_neighbors = k).fit(X_train,y_train)\n",
    "yhat12 = neigh.predict(X_2012)\n",
    "metrics.accuracy_score(Y_2012, yhat12)"
   ]
  },
  {
   "cell_type": "code",
   "execution_count": null,
   "metadata": {},
   "outputs": [],
   "source": [
    "knn_yhat = knn7.predict(test_df_X)\n",
    "print(\"KNN Jaccard index: %.2f\" % jaccard_similarity_score(test_df_Y, knn_yhat))\n",
    "print(\"KNN F1-score: %.2f\" % f1_score(test_df_Y, knn_yhat, average='weighted') )"
   ]
  },
  {
   "cell_type": "code",
   "execution_count": 149,
   "metadata": {},
   "outputs": [
    {
     "data": {
      "text/html": [
       "<div>\n",
       "<style scoped>\n",
       "    .dataframe tbody tr th:only-of-type {\n",
       "        vertical-align: middle;\n",
       "    }\n",
       "\n",
       "    .dataframe tbody tr th {\n",
       "        vertical-align: top;\n",
       "    }\n",
       "\n",
       "    .dataframe thead th {\n",
       "        text-align: right;\n",
       "    }\n",
       "</style>\n",
       "<table border=\"1\" class=\"dataframe\">\n",
       "  <thead>\n",
       "    <tr style=\"text-align: right;\">\n",
       "      <th></th>\n",
       "      <th>AREA</th>\n",
       "      <th>CITY</th>\n",
       "      <th>COUNTY</th>\n",
       "      <th>DEMARCATION</th>\n",
       "      <th>N_DEATHS</th>\n",
       "      <th>N_MAJ_INJURIES</th>\n",
       "      <th>N_MIN_INJURIES</th>\n",
       "      <th>ALLOWED_SPEED</th>\n",
       "      <th>LEAK</th>\n",
       "      <th>FOG</th>\n",
       "      <th>...</th>\n",
       "      <th>ROAD_STATE</th>\n",
       "      <th>ROAD_TYPE</th>\n",
       "      <th>ROAD_OWNERSHIP</th>\n",
       "      <th>WIND_CLASSIFICATION</th>\n",
       "      <th>WORKING_DAY</th>\n",
       "      <th>TIME_SLOT</th>\n",
       "      <th>ACC_TYPE</th>\n",
       "      <th>WEEKDAY</th>\n",
       "      <th>MONTH</th>\n",
       "      <th>count</th>\n",
       "    </tr>\n",
       "  </thead>\n",
       "  <tbody>\n",
       "    <tr>\n",
       "      <th>0</th>\n",
       "      <td>Urban area</td>\n",
       "      <td>BARCELONA</td>\n",
       "      <td>Barcelones</td>\n",
       "      <td>Barcelona</td>\n",
       "      <td>0.0</td>\n",
       "      <td>1.0</td>\n",
       "      <td>0.0</td>\n",
       "      <td>100.0</td>\n",
       "      <td>No</td>\n",
       "      <td>No</td>\n",
       "      <td>...</td>\n",
       "      <td>Dry and clean</td>\n",
       "      <td>Urban road (includes street and residential st...</td>\n",
       "      <td>Not specified</td>\n",
       "      <td>Calm, very gentle wind</td>\n",
       "      <td>Workdays</td>\n",
       "      <td>Morning</td>\n",
       "      <td>Collision of vehicles in motion</td>\n",
       "      <td>fri</td>\n",
       "      <td>5</td>\n",
       "      <td>1</td>\n",
       "    </tr>\n",
       "    <tr>\n",
       "      <th>1</th>\n",
       "      <td>Urban area</td>\n",
       "      <td>VIC</td>\n",
       "      <td>Osona</td>\n",
       "      <td>Barcelona</td>\n",
       "      <td>1.0</td>\n",
       "      <td>0.0</td>\n",
       "      <td>0.0</td>\n",
       "      <td>100.0</td>\n",
       "      <td>No</td>\n",
       "      <td>No</td>\n",
       "      <td>...</td>\n",
       "      <td>Dry and clean</td>\n",
       "      <td>Urban road (includes street and residential st...</td>\n",
       "      <td>Not specified</td>\n",
       "      <td>Calm, very gentle wind</td>\n",
       "      <td>Workdays</td>\n",
       "      <td>Morning</td>\n",
       "      <td>Run over</td>\n",
       "      <td>mon-thu</td>\n",
       "      <td>6</td>\n",
       "      <td>1</td>\n",
       "    </tr>\n",
       "    <tr>\n",
       "      <th>2</th>\n",
       "      <td>Road</td>\n",
       "      <td>BORGES BLANQUES, LES</td>\n",
       "      <td>Garrigues</td>\n",
       "      <td>Lleida</td>\n",
       "      <td>0.0</td>\n",
       "      <td>1.0</td>\n",
       "      <td>0.0</td>\n",
       "      <td>100.0</td>\n",
       "      <td>No</td>\n",
       "      <td>No</td>\n",
       "      <td>...</td>\n",
       "      <td>Dry and clean</td>\n",
       "      <td>Conventional road</td>\n",
       "      <td>State</td>\n",
       "      <td>Calm, very gentle wind</td>\n",
       "      <td>Weekend</td>\n",
       "      <td>Morning</td>\n",
       "      <td>Collision of vehicles in motion</td>\n",
       "      <td>sat</td>\n",
       "      <td>7</td>\n",
       "      <td>1</td>\n",
       "    </tr>\n",
       "    <tr>\n",
       "      <th>3</th>\n",
       "      <td>Road</td>\n",
       "      <td>CABANELLES</td>\n",
       "      <td>Alt Emporda</td>\n",
       "      <td>Girona</td>\n",
       "      <td>1.0</td>\n",
       "      <td>1.0</td>\n",
       "      <td>0.0</td>\n",
       "      <td>100.0</td>\n",
       "      <td>No</td>\n",
       "      <td>No</td>\n",
       "      <td>...</td>\n",
       "      <td>Dry and clean</td>\n",
       "      <td>Conventional road</td>\n",
       "      <td>State</td>\n",
       "      <td>Calm, very gentle wind</td>\n",
       "      <td>Weekend</td>\n",
       "      <td>Morning</td>\n",
       "      <td>Unspecified track exit</td>\n",
       "      <td>sat</td>\n",
       "      <td>3</td>\n",
       "      <td>1</td>\n",
       "    </tr>\n",
       "    <tr>\n",
       "      <th>4</th>\n",
       "      <td>Road</td>\n",
       "      <td>CALLUS</td>\n",
       "      <td>Bages</td>\n",
       "      <td>Barcelona</td>\n",
       "      <td>0.0</td>\n",
       "      <td>2.0</td>\n",
       "      <td>0.0</td>\n",
       "      <td>60.0</td>\n",
       "      <td>No</td>\n",
       "      <td>No</td>\n",
       "      <td>...</td>\n",
       "      <td>Dry and clean</td>\n",
       "      <td>Conventional road</td>\n",
       "      <td>Autonomous</td>\n",
       "      <td>Calm, very gentle wind</td>\n",
       "      <td>Weekend</td>\n",
       "      <td>Night</td>\n",
       "      <td>Collision of vehicles in motion</td>\n",
       "      <td>sun</td>\n",
       "      <td>6</td>\n",
       "      <td>1</td>\n",
       "    </tr>\n",
       "    <tr>\n",
       "      <th>...</th>\n",
       "      <td>...</td>\n",
       "      <td>...</td>\n",
       "      <td>...</td>\n",
       "      <td>...</td>\n",
       "      <td>...</td>\n",
       "      <td>...</td>\n",
       "      <td>...</td>\n",
       "      <td>...</td>\n",
       "      <td>...</td>\n",
       "      <td>...</td>\n",
       "      <td>...</td>\n",
       "      <td>...</td>\n",
       "      <td>...</td>\n",
       "      <td>...</td>\n",
       "      <td>...</td>\n",
       "      <td>...</td>\n",
       "      <td>...</td>\n",
       "      <td>...</td>\n",
       "      <td>...</td>\n",
       "      <td>...</td>\n",
       "      <td>...</td>\n",
       "    </tr>\n",
       "    <tr>\n",
       "      <th>1945</th>\n",
       "      <td>Urban area</td>\n",
       "      <td>MATARO</td>\n",
       "      <td>Maresme</td>\n",
       "      <td>Barcelona</td>\n",
       "      <td>0.0</td>\n",
       "      <td>1.0</td>\n",
       "      <td>0.0</td>\n",
       "      <td>Not specified</td>\n",
       "      <td>No</td>\n",
       "      <td>No</td>\n",
       "      <td>...</td>\n",
       "      <td>Slippery</td>\n",
       "      <td>Urban road (includes street and residential st...</td>\n",
       "      <td>Not specified</td>\n",
       "      <td>Calm, very gentle wind</td>\n",
       "      <td>Weekend</td>\n",
       "      <td>Morning</td>\n",
       "      <td>Dump on the track</td>\n",
       "      <td>sat</td>\n",
       "      <td>5</td>\n",
       "      <td>1</td>\n",
       "    </tr>\n",
       "    <tr>\n",
       "      <th>1946</th>\n",
       "      <td>Urban area</td>\n",
       "      <td>BADALONA</td>\n",
       "      <td>Barcelones</td>\n",
       "      <td>Barcelona</td>\n",
       "      <td>0.0</td>\n",
       "      <td>1.0</td>\n",
       "      <td>0.0</td>\n",
       "      <td>Not specified</td>\n",
       "      <td>No</td>\n",
       "      <td>No</td>\n",
       "      <td>...</td>\n",
       "      <td>Dry and clean</td>\n",
       "      <td>Urban road (includes street and residential st...</td>\n",
       "      <td>Not specified</td>\n",
       "      <td>Calm, very gentle wind</td>\n",
       "      <td>Workdays</td>\n",
       "      <td>Afternoon</td>\n",
       "      <td>Dump on the track</td>\n",
       "      <td>mon-thu</td>\n",
       "      <td>3</td>\n",
       "      <td>1</td>\n",
       "    </tr>\n",
       "    <tr>\n",
       "      <th>1947</th>\n",
       "      <td>Road</td>\n",
       "      <td>ALMACELLES</td>\n",
       "      <td>Segria</td>\n",
       "      <td>Lleida</td>\n",
       "      <td>0.0</td>\n",
       "      <td>1.0</td>\n",
       "      <td>0.0</td>\n",
       "      <td>40.0</td>\n",
       "      <td>No</td>\n",
       "      <td>No</td>\n",
       "      <td>...</td>\n",
       "      <td>Dry and clean</td>\n",
       "      <td>Others</td>\n",
       "      <td>Municipal</td>\n",
       "      <td>Calm, very gentle wind</td>\n",
       "      <td>Weekend</td>\n",
       "      <td>Afternoon</td>\n",
       "      <td>Unspecified track exit</td>\n",
       "      <td>fri</td>\n",
       "      <td>10</td>\n",
       "      <td>1</td>\n",
       "    </tr>\n",
       "    <tr>\n",
       "      <th>1948</th>\n",
       "      <td>Urban area</td>\n",
       "      <td>SANTA COLOMA DE GRAMANET</td>\n",
       "      <td>Barcelones</td>\n",
       "      <td>Barcelona</td>\n",
       "      <td>0.0</td>\n",
       "      <td>1.0</td>\n",
       "      <td>0.0</td>\n",
       "      <td>Not specified</td>\n",
       "      <td>No</td>\n",
       "      <td>No</td>\n",
       "      <td>...</td>\n",
       "      <td>Dry and clean</td>\n",
       "      <td>Urban road (includes street and residential st...</td>\n",
       "      <td>Not specified</td>\n",
       "      <td>Calm, very gentle wind</td>\n",
       "      <td>Workdays</td>\n",
       "      <td>Afternoon</td>\n",
       "      <td>Run over</td>\n",
       "      <td>mon-thu</td>\n",
       "      <td>7</td>\n",
       "      <td>1</td>\n",
       "    </tr>\n",
       "    <tr>\n",
       "      <th>1949</th>\n",
       "      <td>Road</td>\n",
       "      <td>MONT-ROIG DEL CAMP</td>\n",
       "      <td>Baix Camp</td>\n",
       "      <td>Tarragona</td>\n",
       "      <td>0.0</td>\n",
       "      <td>1.0</td>\n",
       "      <td>0.0</td>\n",
       "      <td>999.0</td>\n",
       "      <td>No</td>\n",
       "      <td>No</td>\n",
       "      <td>...</td>\n",
       "      <td>Dry and clean</td>\n",
       "      <td>Conventional road</td>\n",
       "      <td>Others</td>\n",
       "      <td>Calm, very gentle wind</td>\n",
       "      <td>Workdays</td>\n",
       "      <td>Afternoon</td>\n",
       "      <td>Dump on the track</td>\n",
       "      <td>mon-thu</td>\n",
       "      <td>7</td>\n",
       "      <td>1</td>\n",
       "    </tr>\n",
       "  </tbody>\n",
       "</table>\n",
       "<p>1950 rows × 33 columns</p>\n",
       "</div>"
      ],
      "text/plain": [
       "            AREA                      CITY       COUNTY DEMARCATION  N_DEATHS  \\\n",
       "0     Urban area                 BARCELONA   Barcelones   Barcelona       0.0   \n",
       "1     Urban area                       VIC        Osona   Barcelona       1.0   \n",
       "2           Road      BORGES BLANQUES, LES    Garrigues      Lleida       0.0   \n",
       "3           Road                CABANELLES  Alt Emporda      Girona       1.0   \n",
       "4           Road                    CALLUS        Bages   Barcelona       0.0   \n",
       "...          ...                       ...          ...         ...       ...   \n",
       "1945  Urban area                    MATARO      Maresme   Barcelona       0.0   \n",
       "1946  Urban area                  BADALONA   Barcelones   Barcelona       0.0   \n",
       "1947        Road                ALMACELLES       Segria      Lleida       0.0   \n",
       "1948  Urban area  SANTA COLOMA DE GRAMANET   Barcelones   Barcelona       0.0   \n",
       "1949        Road        MONT-ROIG DEL CAMP    Baix Camp   Tarragona       0.0   \n",
       "\n",
       "      N_MAJ_INJURIES  N_MIN_INJURIES  ALLOWED_SPEED LEAK FOG  ...  \\\n",
       "0                1.0             0.0          100.0   No  No  ...   \n",
       "1                0.0             0.0          100.0   No  No  ...   \n",
       "2                1.0             0.0          100.0   No  No  ...   \n",
       "3                1.0             0.0          100.0   No  No  ...   \n",
       "4                2.0             0.0           60.0   No  No  ...   \n",
       "...              ...             ...            ...  ...  ..  ...   \n",
       "1945             1.0             0.0  Not specified   No  No  ...   \n",
       "1946             1.0             0.0  Not specified   No  No  ...   \n",
       "1947             1.0             0.0           40.0   No  No  ...   \n",
       "1948             1.0             0.0  Not specified   No  No  ...   \n",
       "1949             1.0             0.0          999.0   No  No  ...   \n",
       "\n",
       "         ROAD_STATE                                          ROAD_TYPE  \\\n",
       "0     Dry and clean  Urban road (includes street and residential st...   \n",
       "1     Dry and clean  Urban road (includes street and residential st...   \n",
       "2     Dry and clean                                  Conventional road   \n",
       "3     Dry and clean                                  Conventional road   \n",
       "4     Dry and clean                                  Conventional road   \n",
       "...             ...                                                ...   \n",
       "1945       Slippery  Urban road (includes street and residential st...   \n",
       "1946  Dry and clean  Urban road (includes street and residential st...   \n",
       "1947  Dry and clean                                             Others   \n",
       "1948  Dry and clean  Urban road (includes street and residential st...   \n",
       "1949  Dry and clean                                  Conventional road   \n",
       "\n",
       "     ROAD_OWNERSHIP     WIND_CLASSIFICATION WORKING_DAY  TIME_SLOT  \\\n",
       "0     Not specified  Calm, very gentle wind    Workdays    Morning   \n",
       "1     Not specified  Calm, very gentle wind    Workdays    Morning   \n",
       "2             State  Calm, very gentle wind     Weekend    Morning   \n",
       "3             State  Calm, very gentle wind     Weekend    Morning   \n",
       "4        Autonomous  Calm, very gentle wind     Weekend      Night   \n",
       "...             ...                     ...         ...        ...   \n",
       "1945  Not specified  Calm, very gentle wind     Weekend    Morning   \n",
       "1946  Not specified  Calm, very gentle wind    Workdays  Afternoon   \n",
       "1947      Municipal  Calm, very gentle wind     Weekend  Afternoon   \n",
       "1948  Not specified  Calm, very gentle wind    Workdays  Afternoon   \n",
       "1949         Others  Calm, very gentle wind    Workdays  Afternoon   \n",
       "\n",
       "                             ACC_TYPE  WEEKDAY MONTH count  \n",
       "0     Collision of vehicles in motion      fri     5     1  \n",
       "1                            Run over  mon-thu     6     1  \n",
       "2     Collision of vehicles in motion      sat     7     1  \n",
       "3              Unspecified track exit      sat     3     1  \n",
       "4     Collision of vehicles in motion      sun     6     1  \n",
       "...                               ...      ...   ...   ...  \n",
       "1945                Dump on the track      sat     5     1  \n",
       "1946                Dump on the track  mon-thu     3     1  \n",
       "1947           Unspecified track exit      fri    10     1  \n",
       "1948                         Run over  mon-thu     7     1  \n",
       "1949                Dump on the track  mon-thu     7     1  \n",
       "\n",
       "[1950 rows x 33 columns]"
      ]
     },
     "execution_count": 149,
     "metadata": {},
     "output_type": "execute_result"
    }
   ],
   "source": [
    "df_2012"
   ]
  },
  {
   "cell_type": "code",
   "execution_count": 5,
   "metadata": {},
   "outputs": [
    {
     "ename": "NameError",
     "evalue": "name 'X_2012' is not defined",
     "output_type": "error",
     "traceback": [
      "\u001b[1;31m---------------------------------------------------------------------------\u001b[0m",
      "\u001b[1;31mNameError\u001b[0m                                 Traceback (most recent call last)",
      "\u001b[1;32m<ipython-input-5-93a0c0ce22f6>\u001b[0m in \u001b[0;36m<module>\u001b[1;34m\u001b[0m\n\u001b[1;32m----> 1\u001b[1;33m \u001b[0mX_2012\u001b[0m\u001b[1;33m\u001b[0m\u001b[1;33m\u001b[0m\u001b[0m\n\u001b[0m",
      "\u001b[1;31mNameError\u001b[0m: name 'X_2012' is not defined"
     ]
    }
   ],
   "source": [
    "X_2012"
   ]
  },
  {
   "cell_type": "code",
   "execution_count": null,
   "metadata": {},
   "outputs": [],
   "source": []
  }
 ],
 "metadata": {
  "kernelspec": {
   "display_name": "Python 3",
   "language": "python",
   "name": "python3"
  },
  "language_info": {
   "codemirror_mode": {
    "name": "ipython",
    "version": 3
   },
   "file_extension": ".py",
   "mimetype": "text/x-python",
   "name": "python",
   "nbconvert_exporter": "python",
   "pygments_lexer": "ipython3",
   "version": "3.8.3"
  }
 },
 "nbformat": 4,
 "nbformat_minor": 4
}
