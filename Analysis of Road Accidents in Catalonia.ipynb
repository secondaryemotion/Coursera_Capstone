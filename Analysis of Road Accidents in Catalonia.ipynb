{
 "cells": [
  {
   "cell_type": "markdown",
   "metadata": {},
   "source": [
    "## Capstone Project: Analysis of Road Accidents in Catalonia"
   ]
  },
  {
   "cell_type": "markdown",
   "metadata": {},
   "source": [
    "#### Applied Data Science Capstone by IBM/Coursera"
   ]
  },
  {
   "cell_type": "markdown",
   "metadata": {},
   "source": [
    "### Table of Contents\n",
    "1. [Introduction](#introduction)\n",
    "2. [Data](#data)\n",
    "3. [Methodology: Exploratory Data Analysis](#analysis)\n",
    "4. [Methodology: Machine Learning models](#models)\n",
    "5. [Methodology: Hazard ratio estimation](#estimation)\n",
    "6. [Results and Discussion](#results)\n",
    "7. [Conclusion](#conclusion)"
   ]
  },
  {
   "cell_type": "markdown",
   "metadata": {},
   "source": [
    "### Introduction <a name=\"introduction\"></a>"
   ]
  },
  {
   "cell_type": "markdown",
   "metadata": {},
   "source": [
    "The number of people driving the roads every day is enormous. This leads to the high importance of road safety since road injuries are one of the most common causes of accidental death. However, improving road conditions also requires a lot of resources, which makes it necessary to take a systematic approach to determine which roads are more dangerous and need immediate attention.\n",
    "\n",
    "An effective way to define the actual riskiness of the specific road is to analyze data about road accidents. This project aims to **find features that affect road safety negatively, weigh their importance, conduct a statistical analysis of the current state of the roads, as well as suggest options for improvements**. \n",
    "\n",
    "It is obviously interesting for car drivers and citizens in general. Besides, this analysis can be useful for people responsible for future road improvements. The traffic police also may be interested in this analysis, since it identifies the conditions that require additional attention.\n"
   ]
  },
  {
   "cell_type": "markdown",
   "metadata": {},
   "source": [
    "### Data <a name=\"data\"></a>"
   ]
  },
  {
   "cell_type": "markdown",
   "metadata": {},
   "source": [
    "For this analysis, I have used Catalonia Road Traffic Injuries & Deaths dataset from Kaggle ([link](https://www.kaggle.com/jordigarciacastillon/road-traffic-injuries-deaths-catalonia-201020)), which consists of data from 2010 to 2020. For convenience, this dataset, as well as the results of its processing, will be placed in my GitHub repository.\n",
    "\n",
    "First of all, this dataset needs to be translated."
   ]
  },
  {
   "cell_type": "code",
   "execution_count": 2,
   "metadata": {},
   "outputs": [
    {
     "name": "stdout",
     "output_type": "stream",
     "text": [
      "Done!\n"
     ]
    }
   ],
   "source": [
    "import pandas as pd\n",
    "df=pd.read_csv(\"https://raw.githubusercontent.com/secondaryemotion/Coursera_Capstone/master/acc_catalonia_data.csv\")\n",
    "df.columns=['YEAR', 'AREA', 'DATE', 'ROAD', 'KM', 'CITY', 'COUNTY', 'DEMARCATION','N_DEATHS', 'N_MAJ_INJURIES', 'N_MIN_INJURIES', 'N_VICTIMS','N_VEHICLES', 'N_PEDESTRIANS','N_BICYCLES', 'N_MOPEDS','N_MOTORCYCLES', 'N_LIGHT_VEHICLES','N_HEAVY_VEHICLES', 'N_OTHER_TYPES','N_UNKNOWN_TYPE', 'ALLOWED_SPEED', 'LEAK','FOG', 'TERRAIN', 'SPECIAL_LANE','SPECIAL_MEASURES', 'CLIMATOLOGY', 'SPECIAL_FUNCTION','SEVERITY', 'FOG_INFLUENCE', 'TERRAIN_INFLUENCE','TRAFFIC_INFLUENCE', 'WEATHER_INFLUENCE', 'WIND_INFLUENCE','LUMINOSITY_INFLUENCE', 'SPECIAL_MEASURES_INFLUENCE', 'OBJECT_INFLUENCE','FURROWS_INFLUENCE', 'VISIBILITY_INFLUENCE', 'INTERSECTION','SPEED_LIMIT_DISPLAY', 'LIGHT_CONDITIONS', 'REGULATION_OF_PRIORITY','TRACK_TRAJECTORIES', 'ACC_CLASSIFICATION', 'TYPE_OF_SECTION', 'AREA_CLASSIFICATION','ROAD_STATE', 'ROAD_TYPE', 'ROAD_OWNERSHIP','ALTIMETRIC_LAYOUT', 'WIND_CLASSIFICATION', 'WORKING_DAY', 'TIME', 'TIME_SLOT','ACC_TYPE', 'WEEKDAY']\n",
    "df=df.replace({'No':'No','Si':'Yes','Sense especificar':'Not specified',\"No n'hi ha\":\"No\",'Sense Especificar':'Not specified'})\n",
    "df[\"AREA\"]=df[\"AREA\"].replace({'Zona urbana': 'Urban area','Carretera': 'Road'})\n",
    "df[\"TERRAIN\"]=df[\"TERRAIN\"].replace({'Desmunt':'Disassembled','A nivell':'Plane','Sense Especificar':'Not specified','Mixt':'Mixed','Terraplé':'Embankment'})\n",
    "df[\"SPECIAL_LANE\"]=df[\"SPECIAL_LANE\"].replace({\"No n'hi ha\":\"No\", 'Carril habilitat en sentit contrari habitual':'Lane enabled in the opposite direction than usual','Habilitació voral/carril addicional':'Additional curb / lane clearance','Carril lent':'Slow lane', \"Carril d'alentiment\":'Slowdown lane','Altres':'Others','Carril bus':'Bus lane','Carril central':'Central lane','Carril bici':'Cycling lane','Carril avançament':'Overtaking lane','Carril reversible':'Reversible lane','Carril acceleració':'Acceleration lane'})\n",
    "df[\"SPECIAL_MEASURES\"]=df[\"SPECIAL_MEASURES\"].replace({\"No n'hi ha\":\"No\",'Obres':'Works','Serveis de neteja o manteniment':'Cleaning or maintenance services','Esdeveniment extraordinari':'Extraordinary event','Accident trànsit anterior':'Previous traffic accident','Cons':'Built','Control policial':'Police control'})\n",
    "df[\"CLIMATOLOGY\"]=df[\"CLIMATOLOGY\"].replace({'Bon temps':'Good weather','Pluja forta':'Heavy rain','Pluja dèbil':'Light rain','Nevant':'Snowing','Calamarsa':'Hail'})\n",
    "df[\"SPECIAL_FUNCTION\"]=df[\"SPECIAL_FUNCTION\"].replace({'Sense funció especial':'No special function','Variant':'Alternative','Travessera':'Crossing','Ronda, cinturo o circumval.lacio':'Round, waist or circumvallation'})\n",
    "df[\"SEVERITY\"]=df[\"SEVERITY\"].replace({'Accident greu':'Serious accident','Accident mortal':'Fatal accident'})\n",
    "df[\"INTERSECTION\"]=df[\"INTERSECTION\"].replace({'Arribant o eixint intersecció fins 50m':'Arriving or leaving intersection up to 50m','Dintre intersecció':'Inside intersection','En secció':'In section'})\n",
    "df[\"SPEED_LIMIT_DISPLAY\"]=df[\"SPEED_LIMIT_DISPLAY\"].replace({'Genérica via':'Generic way','Senyal velocitat':'Speed signal'})\n",
    "df[\"LIGHT_CONDITIONS\"]=df[\"LIGHT_CONDITIONS\"].replace({'De nit, il·luminació artificial suficient':'At night, enough artificial lighting','De dia, dia clar':'Day, clear day','De nit, sense llum artificial':'At night, without artificial light','De dia, dia fosc':'Day, dark day','Alba o capvespre':'Dawn or dusk','De nit, il·luminació artificial insuficient':'At night, insufficient artificial lighting'})\n",
    "df[\"REGULATION_OF_PRIORITY\"]=df[\"REGULATION_OF_PRIORITY\"].replace({'Sols norma prioritat de pas':'Only standart way','Senyal Stop o cedeix pas':'Stop signal or give way','Semàfor':'Traffic light','Sols marques viàries (inclou pas vianants)':'Road markings only (includes pedestrian crossing)','Persona autoritzada':'Authorized person','Altres':'Others'})\n",
    "df[\"TRACK_TRAJECTORIES\"]=df[\"TRACK_TRAJECTORIES\"].replace({'Un sol sentit':'One way','Doble sentit':'Double way'})\n",
    "df[\"ACC_CLASSIFICATION\"]=df[\"ACC_CLASSIFICATION\"].replace({'Encalç':'Chase','Resta sortides de via':'Other road departures','Col·lisió frontal':'Front collision','Envestida (frontal lateral)':'Onslaught (front side)','Caiguda en la via':'Fall on the road','Atropellament':'Run over','Fregament o col·lisió lateral':'Friction or side collision','Xoc contra objecte/obstacle sense sortida prèvia de via':'Collision against object / obstacle without previous derailment','Altres':'Others','Sortida de via amb xoc o col·lisió':'Derailment with collision or clash','Sortida de via amb bolcada':'Derailment with dump','Sortida de via amb atropellament':'Derailment with collision','Xoc amb animal a la calçada':'Collision with animal on the road'})\n",
    "df[\"TYPE_OF_SECTION\"]=df[\"TYPE_OF_SECTION\"].replace({'Intersecció en T o Y':'T or Y intersection','Giratòria':'Rotary','Encreuament o intersecció en X o +':'Crossing or intersection at X or +',\"Enllaç d'entrada o eixida\":\"Entry or exit\",'Pas a nivell':'Level crossing'})\n",
    "df[\"AREA_CLASSIFICATION\"]=df[\"AREA_CLASSIFICATION\"].replace({'Zona urbana': 'Urban area','Carretera': 'Road','Travessera':'Crossing'})\n",
    "df[\"ROAD_STATE\"]=df[\"ROAD_STATE\"].replace({'Sec i net':'Dry and clean','Relliscós':'Slippery','Mullat':'Wet','Inundat':'Flooded','Nevat':'Snowy','Gelat':'Icy'})\n",
    "df[\"ROAD_TYPE\"]=df[\"ROAD_TYPE\"].replace({'Via urbana( inclou carrer i carrer residencial)':'Urban road (includes street and residential street)','Carretera convencional':'Conventional road','Altres':'Others','Autopista':'Highway', 'Autovia':'Freeway', 'Camí rural/pista forestal':'Rural road / forest track'})\n",
    "df['ROAD_OWNERSHIP']=df['ROAD_OWNERSHIP'].replace({'Estatal':'State','Municipal':'Municipal','Autonòmica':'Autonomous','Provincial':'Provincial','Altres':'Others'})\n",
    "df[\"ALTIMETRIC_LAYOUT\"]=df[\"ALTIMETRIC_LAYOUT\"].replace({'Pla':'Flat','Rampa o pendent':'Ramp or slope','Canvi rasant':'Ground change', 'Gual':'Ford'})\n",
    "df[\"WIND_CLASSIFICATION\"]=df[\"WIND_CLASSIFICATION\"].replace({'Calma, vent molt suau':'Calm, very gentle wind','Vent moderat':'Moderate wind','Vent fort':'Strong wind'})\n",
    "df[\"WORKING_DAY\"]=df[\"WORKING_DAY\"].replace({'Feiners':'Workdays','CapDeSetmana':'Weekend'})\n",
    "df[\"TIME_SLOT\"]=df[\"TIME_SLOT\"].replace({'Nit':'Night', 'Tarda':'Afternoon','Matí':'Morning'})\n",
    "df[\"ACC_TYPE\"]=df[\"ACC_TYPE\"].replace({'Col.lisió de vehicles en marxa':'Collision of vehicles in motion','Sortida de la calcada sense especificar':'Unspecified track exit','Bolcada a la calcada':'Dump on the track', 'Atropellament':'Run over',\"Col.lisió d'un vehicle contra un obstacle de la calcada\":\"Collision of a vehicle against a road obstacle\",'Altres':'Others'})\n",
    "df[\"WEEKDAY\"]=df[\"WEEKDAY\"].replace({'dill-dij':'mon-thu','dg':'sun','dis':'sat','div':'fri'})\n",
    "print('Done!')"
   ]
  },
  {
   "cell_type": "markdown",
   "metadata": {},
   "source": [
    "There is a lot of missing values in some additional attributes like allowed speed, regulation of priority, type of section and so on. they need to be replaced with 'Not specified'. Then we change the datatype of *‘ALLOWED_SPEED’* column from float to string. Also, value '999' in the *‘ALLOWED_SPEED’* needs to be replaced with ‘Not specified’."
   ]
  },
  {
   "cell_type": "code",
   "execution_count": 3,
   "metadata": {},
   "outputs": [
    {
     "name": "stdout",
     "output_type": "stream",
     "text": [
      "Done!\n"
     ]
    }
   ],
   "source": [
    "df['ALLOWED_SPEED']=df['ALLOWED_SPEED'].astype(str)\n",
    "df['ALLOWED_SPEED']=df['ALLOWED_SPEED'].replace({'999.0':'Not specified'})\n",
    "df=df.replace({'nan':'Not specified'})\n",
    "df=df.fillna('Not specified')\n",
    "print('Done!')"
   ]
  },
  {
   "cell_type": "markdown",
   "metadata": {},
   "source": [
    "This dataset has a huge number of features, so an important task is to sort essential features from irrelevant ones. We can do it by finding the number of unique values in each column."
   ]
  },
  {
   "cell_type": "code",
   "execution_count": 4,
   "metadata": {},
   "outputs": [
    {
     "data": {
      "text/plain": [
       "(16774, 58)"
      ]
     },
     "execution_count": 4,
     "metadata": {},
     "output_type": "execute_result"
    }
   ],
   "source": [
    "df.shape"
   ]
  },
  {
   "cell_type": "code",
   "execution_count": 5,
   "metadata": {},
   "outputs": [
    {
     "data": {
      "text/plain": [
       "YEAR                             9\n",
       "AREA                             2\n",
       "DATE                          3257\n",
       "ROAD                           679\n",
       "KM                            2150\n",
       "CITY                           854\n",
       "COUNTY                          42\n",
       "DEMARCATION                      4\n",
       "N_DEATHS                         8\n",
       "N_MAJ_INJURIES                  11\n",
       "N_MIN_INJURIES                  19\n",
       "N_VICTIMS                       21\n",
       "N_VEHICLES                      15\n",
       "N_PEDESTRIANS                    7\n",
       "N_BICYCLES                       9\n",
       "N_MOPEDS                         4\n",
       "N_MOTORCYCLES                    7\n",
       "N_LIGHT_VEHICLES                12\n",
       "N_HEAVY_VEHICLES                 7\n",
       "N_OTHER_TYPES                    4\n",
       "N_UNKNOWN_TYPE                   1\n",
       "ALLOWED_SPEED                   16\n",
       "LEAK                             3\n",
       "FOG                              2\n",
       "TERRAIN                          5\n",
       "SPECIAL_LANE                    13\n",
       "SPECIAL_MEASURES                 8\n",
       "CLIMATOLOGY                      6\n",
       "SPECIAL_FUNCTION                 5\n",
       "SEVERITY                         2\n",
       "FOG_INFLUENCE                    3\n",
       "TERRAIN_INFLUENCE                3\n",
       "TRAFFIC_INFLUENCE                3\n",
       "WEATHER_INFLUENCE                3\n",
       "WIND_INFLUENCE                   3\n",
       "LUMINOSITY_INFLUENCE             3\n",
       "SPECIAL_MEASURES_INFLUENCE       3\n",
       "OBJECT_INFLUENCE                 3\n",
       "FURROWS_INFLUENCE                3\n",
       "VISIBILITY_INFLUENCE             3\n",
       "INTERSECTION                     3\n",
       "SPEED_LIMIT_DISPLAY              2\n",
       "LIGHT_CONDITIONS                 7\n",
       "REGULATION_OF_PRIORITY           7\n",
       "TRACK_TRAJECTORIES               3\n",
       "ACC_CLASSIFICATION              13\n",
       "TYPE_OF_SECTION                  6\n",
       "AREA_CLASSIFICATION              3\n",
       "ROAD_STATE                       7\n",
       "ROAD_TYPE                        6\n",
       "ROAD_OWNERSHIP                   6\n",
       "ALTIMETRIC_LAYOUT                5\n",
       "WIND_CLASSIFICATION              4\n",
       "WORKING_DAY                      2\n",
       "TIME                          1298\n",
       "TIME_SLOT                        3\n",
       "ACC_TYPE                         6\n",
       "WEEKDAY                          4\n",
       "dtype: int64"
      ]
     },
     "execution_count": 5,
     "metadata": {},
     "output_type": "execute_result"
    }
   ],
   "source": [
    "df.nunique()"
   ]
  },
  {
   "cell_type": "markdown",
   "metadata": {},
   "source": [
    "Since the total number of entries in this dataset is 16774, there is no benefit in using features *‘CITY’*, *‘TIME’*, *‘KM’* in further analysis. *'ROAD'* feature will be useful later, so we'll save it in a different copy of this dataset.\n",
    "\n",
    "*'DATE'* will be replaced with *'MONTH'*, and a list of features with data, which can be obtained only after the accident, will be dropped."
   ]
  },
  {
   "cell_type": "code",
   "execution_count": 6,
   "metadata": {},
   "outputs": [
    {
     "name": "stdout",
     "output_type": "stream",
     "text": [
      "Done!\n"
     ]
    }
   ],
   "source": [
    "pd.options.mode.chained_assignment = None\n",
    "df['DATE'] = pd.to_datetime(df['DATE'],format='%d/%m/%Y')\n",
    "df['MONTH'] = pd.Series(int)\n",
    "for id,item in enumerate(df['DATE']):\n",
    "    df['MONTH'].iloc[id]=item.month\n",
    "    \n",
    "roaddf=df[['AREA', 'MONTH','ROAD', 'COUNTY', 'DEMARCATION','N_DEATHS', 'N_MAJ_INJURIES', 'ALLOWED_SPEED', 'FOG', 'TERRAIN', 'SPECIAL_LANE','SPECIAL_MEASURES', 'CLIMATOLOGY', 'SPECIAL_FUNCTION','INTERSECTION', 'LIGHT_CONDITIONS', 'REGULATION_OF_PRIORITY','TRACK_TRAJECTORIES', 'TYPE_OF_SECTION', 'AREA_CLASSIFICATION','ROAD_STATE', 'ROAD_TYPE', 'ROAD_OWNERSHIP','ALTIMETRIC_LAYOUT', 'WIND_CLASSIFICATION', 'TIME_SLOT','WEEKDAY']]\n",
    "maindf=df[['AREA', 'MONTH','COUNTY', 'DEMARCATION','N_DEATHS', 'N_MAJ_INJURIES', 'ALLOWED_SPEED', 'FOG', 'TERRAIN', 'SPECIAL_LANE','SPECIAL_MEASURES', 'CLIMATOLOGY', 'SPECIAL_FUNCTION','INTERSECTION', 'LIGHT_CONDITIONS', 'REGULATION_OF_PRIORITY','TRACK_TRAJECTORIES', 'TYPE_OF_SECTION', 'AREA_CLASSIFICATION','ROAD_STATE', 'ROAD_TYPE', 'ROAD_OWNERSHIP','ALTIMETRIC_LAYOUT', 'WIND_CLASSIFICATION', 'TIME_SLOT','WEEKDAY']]\n",
    "print('Done!')"
   ]
  },
  {
   "cell_type": "code",
   "execution_count": 7,
   "metadata": {},
   "outputs": [
    {
     "data": {
      "text/html": [
       "<div>\n",
       "<style scoped>\n",
       "    .dataframe tbody tr th:only-of-type {\n",
       "        vertical-align: middle;\n",
       "    }\n",
       "\n",
       "    .dataframe tbody tr th {\n",
       "        vertical-align: top;\n",
       "    }\n",
       "\n",
       "    .dataframe thead th {\n",
       "        text-align: right;\n",
       "    }\n",
       "</style>\n",
       "<table border=\"1\" class=\"dataframe\">\n",
       "  <thead>\n",
       "    <tr style=\"text-align: right;\">\n",
       "      <th></th>\n",
       "      <th>AREA</th>\n",
       "      <th>MONTH</th>\n",
       "      <th>COUNTY</th>\n",
       "      <th>DEMARCATION</th>\n",
       "      <th>N_DEATHS</th>\n",
       "      <th>N_MAJ_INJURIES</th>\n",
       "      <th>ALLOWED_SPEED</th>\n",
       "      <th>FOG</th>\n",
       "      <th>TERRAIN</th>\n",
       "      <th>SPECIAL_LANE</th>\n",
       "      <th>...</th>\n",
       "      <th>TRACK_TRAJECTORIES</th>\n",
       "      <th>TYPE_OF_SECTION</th>\n",
       "      <th>AREA_CLASSIFICATION</th>\n",
       "      <th>ROAD_STATE</th>\n",
       "      <th>ROAD_TYPE</th>\n",
       "      <th>ROAD_OWNERSHIP</th>\n",
       "      <th>ALTIMETRIC_LAYOUT</th>\n",
       "      <th>WIND_CLASSIFICATION</th>\n",
       "      <th>TIME_SLOT</th>\n",
       "      <th>WEEKDAY</th>\n",
       "    </tr>\n",
       "  </thead>\n",
       "  <tbody>\n",
       "    <tr>\n",
       "      <th>0</th>\n",
       "      <td>Urban area</td>\n",
       "      <td>1</td>\n",
       "      <td>Valles Oriental</td>\n",
       "      <td>Barcelona</td>\n",
       "      <td>0</td>\n",
       "      <td>1</td>\n",
       "      <td>100.0</td>\n",
       "      <td>No</td>\n",
       "      <td>Disassembled</td>\n",
       "      <td>No</td>\n",
       "      <td>...</td>\n",
       "      <td>One way</td>\n",
       "      <td>T or Y intersection</td>\n",
       "      <td>Urban area</td>\n",
       "      <td>Dry and clean</td>\n",
       "      <td>Urban road (includes street and residential st...</td>\n",
       "      <td>Not specified</td>\n",
       "      <td>Not specified</td>\n",
       "      <td>Calm, very gentle wind</td>\n",
       "      <td>Night</td>\n",
       "      <td>mon-thu</td>\n",
       "    </tr>\n",
       "    <tr>\n",
       "      <th>1</th>\n",
       "      <td>Road</td>\n",
       "      <td>10</td>\n",
       "      <td>Segria</td>\n",
       "      <td>Lleida</td>\n",
       "      <td>0</td>\n",
       "      <td>1</td>\n",
       "      <td>40.0</td>\n",
       "      <td>No</td>\n",
       "      <td>Plane</td>\n",
       "      <td>No</td>\n",
       "      <td>...</td>\n",
       "      <td>Double way</td>\n",
       "      <td>Rotary</td>\n",
       "      <td>Road</td>\n",
       "      <td>Dry and clean</td>\n",
       "      <td>Conventional road</td>\n",
       "      <td>State</td>\n",
       "      <td>Flat</td>\n",
       "      <td>Calm, very gentle wind</td>\n",
       "      <td>Night</td>\n",
       "      <td>sun</td>\n",
       "    </tr>\n",
       "    <tr>\n",
       "      <th>2</th>\n",
       "      <td>Road</td>\n",
       "      <td>5</td>\n",
       "      <td>Girones</td>\n",
       "      <td>Girona</td>\n",
       "      <td>1</td>\n",
       "      <td>0</td>\n",
       "      <td>80.0</td>\n",
       "      <td>No</td>\n",
       "      <td>Plane</td>\n",
       "      <td>No</td>\n",
       "      <td>...</td>\n",
       "      <td>Double way</td>\n",
       "      <td>Not specified</td>\n",
       "      <td>Road</td>\n",
       "      <td>Dry and clean</td>\n",
       "      <td>Conventional road</td>\n",
       "      <td>State</td>\n",
       "      <td>Ramp or slope</td>\n",
       "      <td>Calm, very gentle wind</td>\n",
       "      <td>Afternoon</td>\n",
       "      <td>mon-thu</td>\n",
       "    </tr>\n",
       "    <tr>\n",
       "      <th>3</th>\n",
       "      <td>Urban area</td>\n",
       "      <td>8</td>\n",
       "      <td>Barcelones</td>\n",
       "      <td>Barcelona</td>\n",
       "      <td>0</td>\n",
       "      <td>2</td>\n",
       "      <td>100.0</td>\n",
       "      <td>No</td>\n",
       "      <td>Not specified</td>\n",
       "      <td>No</td>\n",
       "      <td>...</td>\n",
       "      <td>One way</td>\n",
       "      <td>Crossing or intersection at X or +</td>\n",
       "      <td>Urban area</td>\n",
       "      <td>Dry and clean</td>\n",
       "      <td>Urban road (includes street and residential st...</td>\n",
       "      <td>Not specified</td>\n",
       "      <td>Not specified</td>\n",
       "      <td>Calm, very gentle wind</td>\n",
       "      <td>Night</td>\n",
       "      <td>sat</td>\n",
       "    </tr>\n",
       "    <tr>\n",
       "      <th>4</th>\n",
       "      <td>Urban area</td>\n",
       "      <td>5</td>\n",
       "      <td>Barcelones</td>\n",
       "      <td>Barcelona</td>\n",
       "      <td>0</td>\n",
       "      <td>1</td>\n",
       "      <td>100.0</td>\n",
       "      <td>No</td>\n",
       "      <td>Not specified</td>\n",
       "      <td>No</td>\n",
       "      <td>...</td>\n",
       "      <td>One way</td>\n",
       "      <td>Crossing or intersection at X or +</td>\n",
       "      <td>Urban area</td>\n",
       "      <td>Dry and clean</td>\n",
       "      <td>Urban road (includes street and residential st...</td>\n",
       "      <td>Not specified</td>\n",
       "      <td>Not specified</td>\n",
       "      <td>Calm, very gentle wind</td>\n",
       "      <td>Afternoon</td>\n",
       "      <td>fri</td>\n",
       "    </tr>\n",
       "  </tbody>\n",
       "</table>\n",
       "<p>5 rows × 26 columns</p>\n",
       "</div>"
      ],
      "text/plain": [
       "         AREA MONTH           COUNTY DEMARCATION  N_DEATHS  N_MAJ_INJURIES  \\\n",
       "0  Urban area     1  Valles Oriental   Barcelona         0               1   \n",
       "1        Road    10           Segria      Lleida         0               1   \n",
       "2        Road     5          Girones      Girona         1               0   \n",
       "3  Urban area     8       Barcelones   Barcelona         0               2   \n",
       "4  Urban area     5       Barcelones   Barcelona         0               1   \n",
       "\n",
       "  ALLOWED_SPEED FOG        TERRAIN SPECIAL_LANE  ... TRACK_TRAJECTORIES  \\\n",
       "0         100.0  No   Disassembled           No  ...            One way   \n",
       "1          40.0  No          Plane           No  ...         Double way   \n",
       "2          80.0  No          Plane           No  ...         Double way   \n",
       "3         100.0  No  Not specified           No  ...            One way   \n",
       "4         100.0  No  Not specified           No  ...            One way   \n",
       "\n",
       "                      TYPE_OF_SECTION AREA_CLASSIFICATION     ROAD_STATE  \\\n",
       "0                 T or Y intersection          Urban area  Dry and clean   \n",
       "1                              Rotary                Road  Dry and clean   \n",
       "2                       Not specified                Road  Dry and clean   \n",
       "3  Crossing or intersection at X or +          Urban area  Dry and clean   \n",
       "4  Crossing or intersection at X or +          Urban area  Dry and clean   \n",
       "\n",
       "                                           ROAD_TYPE ROAD_OWNERSHIP  \\\n",
       "0  Urban road (includes street and residential st...  Not specified   \n",
       "1                                  Conventional road          State   \n",
       "2                                  Conventional road          State   \n",
       "3  Urban road (includes street and residential st...  Not specified   \n",
       "4  Urban road (includes street and residential st...  Not specified   \n",
       "\n",
       "  ALTIMETRIC_LAYOUT     WIND_CLASSIFICATION  TIME_SLOT  WEEKDAY  \n",
       "0     Not specified  Calm, very gentle wind      Night  mon-thu  \n",
       "1              Flat  Calm, very gentle wind      Night      sun  \n",
       "2     Ramp or slope  Calm, very gentle wind  Afternoon  mon-thu  \n",
       "3     Not specified  Calm, very gentle wind      Night      sat  \n",
       "4     Not specified  Calm, very gentle wind  Afternoon      fri  \n",
       "\n",
       "[5 rows x 26 columns]"
      ]
     },
     "execution_count": 7,
     "metadata": {},
     "output_type": "execute_result"
    }
   ],
   "source": [
    "maindf.head()"
   ]
  },
  {
   "cell_type": "markdown",
   "metadata": {},
   "source": [
    "To determine the strength of correlation between values, we need to convert them to a numerical format using LabelEncoder from sklearn library, calculate the Pearson coefficient and represent it as a heatmap. Also, we will show a list of the found relationships with the absolute value of the Pearson coefficient exceeding 0.7."
   ]
  },
  {
   "cell_type": "code",
   "execution_count": 8,
   "metadata": {},
   "outputs": [
    {
     "name": "stdout",
     "output_type": "stream",
     "text": [
      "0.7232024920201996 0.0 AREA AREA_CLASSIFICATION\n",
      "0.8843542220096519 0.0 AREA ROAD_TYPE\n",
      "0.7232024920201996 0.0 AREA_CLASSIFICATION AREA\n",
      "0.8735443956409672 0.0 AREA_CLASSIFICATION ROAD_TYPE\n",
      "0.8843542220096519 0.0 ROAD_TYPE AREA\n",
      "0.8735443956409672 0.0 ROAD_TYPE AREA_CLASSIFICATION\n"
     ]
    },
    {
     "data": {
      "image/png": "[encoded data removed]",
      "text/plain": [
       "<Figure size 720x504 with 2 Axes>"
      ]
     },
     "metadata": {
      "needs_background": "light"
     },
     "output_type": "display_data"
    }
   ],
   "source": [
    "from sklearn import preprocessing\n",
    "import seaborn as sns\n",
    "import scipy.stats as stats\n",
    "from scipy.stats.stats import pearsonr\n",
    "import matplotlib as mpl\n",
    "import matplotlib.pyplot as plt\n",
    "%matplotlib inline \n",
    "from matplotlib.pyplot import figure\n",
    "\n",
    "subdf = maindf.copy()\n",
    "subdf.drop(columns=['N_DEATHS', 'N_MAJ_INJURIES'],inplace=True)\n",
    "le = preprocessing.LabelEncoder()\n",
    "for id,item in enumerate(subdf):\n",
    "    le.fit(subdf[item])\n",
    "    subdf[item]=le.transform(subdf[item])\n",
    "\n",
    "subdf_cols=subdf.columns\n",
    "size=(subdf_cols).size\n",
    "coef=[[0 for i in range(size)] for j in range(size)]\n",
    "pval=[[0 for i in range(size)] for j in range(size)]\n",
    "for id,item in enumerate(subdf_cols):\n",
    "    i=id\n",
    "    for id,item2 in enumerate(subdf_cols):\n",
    "        pcoef, p_value=stats.pearsonr(subdf[item],subdf[item2])\n",
    "        coef[i][id]=pcoef\n",
    "        pval[i][id]=p_value\n",
    "        if (abs(pcoef)>0.7) & (item!=item2):\n",
    "            print(pcoef, p_value, item, item2)\n",
    "            \n",
    "ax = plt.subplots(figsize=(10,7)) \n",
    "ax = sns.heatmap(\n",
    "    coef, \n",
    "    vmin=-1, vmax=1, center=0,\n",
    "    cmap=sns.diverging_palette(250, 15, n=200),\n",
    "    square=True\n",
    ")\n",
    "ax.set_xticklabels(subdf, rotation=90, horizontalalignment='right')\n",
    "ax.set_yticklabels(subdf, rotation=0, horizontalalignment='right')\n",
    "xticks=range(size)\n",
    "ax.set_yticks=range(size)\n",
    "plt.tight_layout()"
   ]
  },
  {
   "cell_type": "markdown",
   "metadata": {},
   "source": [
    "All three features are related. Values of *‘AREA’* and *‘AREA_CLASSIFICATION’* columns are close. Thus, the *‘AREA’* column can be dropped. The *‘ROAD_TYPE’* column can be dropped, too."
   ]
  },
  {
   "cell_type": "code",
   "execution_count": 9,
   "metadata": {},
   "outputs": [
    {
     "name": "stdout",
     "output_type": "stream",
     "text": [
      "Done!\n"
     ]
    }
   ],
   "source": [
    "maindf.drop(columns=['AREA', 'ROAD_TYPE'], inplace=True)\n",
    "print('Done!')"
   ]
  },
  {
   "cell_type": "markdown",
   "metadata": {},
   "source": [
    "After all, there should be 22 features and 2 target variables in the dataset."
   ]
  },
  {
   "cell_type": "code",
   "execution_count": 10,
   "metadata": {},
   "outputs": [
    {
     "data": {
      "text/plain": [
       "(16774, 24)"
      ]
     },
     "execution_count": 10,
     "metadata": {},
     "output_type": "execute_result"
    }
   ],
   "source": [
    "maindf.shape"
   ]
  },
  {
   "cell_type": "markdown",
   "metadata": {},
   "source": [
    "### Methodology: Exploratory Data Analysis <a name=\"analysis\"></a>"
   ]
  },
  {
   "cell_type": "markdown",
   "metadata": {},
   "source": [
    "First, we need to determine the contribution of each road feature to the overall hazard ratio. We'll add a temporary column *'count'* to track the number of entries for every unique value of the features. Also, we need to pick out maximum values of hazard coefficient."
   ]
  },
  {
   "cell_type": "code",
   "execution_count": 11,
   "metadata": {},
   "outputs": [],
   "source": [
    "hazard_coefs={}\n",
    "maindf['count']=1\n",
    "df_col=maindf.columns.drop(labels=['N_DEATHS', 'N_MAJ_INJURIES','count'])\n",
    "max_hazard=[0]*len(df_col)\n",
    "for id,item in enumerate(df_col):\n",
    "    hazard_coefs[id]=maindf.groupby([item],as_index=False).sum()\n",
    "    hazard_coefs[id]['coef_deaths']=(hazard_coefs[id]['N_DEATHS'])/(hazard_coefs[id]['count'])\n",
    "    hazard_coefs[id]['coef_maj_inj']=(hazard_coefs[id]['N_MAJ_INJURIES'])/(hazard_coefs[id]['count'])\n",
    "    hazard_coefs[id]['hazard_coef']=hazard_coefs[id]['coef_deaths']+(hazard_coefs[id]['coef_maj_inj'])/2\n",
    "    hazard_coefs[id].drop(labels=['N_DEATHS', 'N_MAJ_INJURIES','count','coef_maj_inj','coef_deaths'],axis=1,inplace=True)\n",
    "    for i in range(len(hazard_coefs[id]['hazard_coef'])):\n",
    "        if (hazard_coefs[id]['hazard_coef'][i] > max_hazard[id]):\n",
    "            max_hazard[id]=hazard_coefs[id]['hazard_coef'][i]"
   ]
  },
  {
   "cell_type": "markdown",
   "metadata": {},
   "source": [
    "From the maximum values of the coefficients, we determine the maximum possible value of the hazard coefficient, carry out normalization and use its results to determine the weight of each component of the coefficient. Individual values of hazard coefficient for each value are normalized to the weight of the coefficient component."
   ]
  },
  {
   "cell_type": "code",
   "execution_count": 12,
   "metadata": {},
   "outputs": [],
   "source": [
    "import copy\n",
    "norm_hazard_coefs=copy.deepcopy(hazard_coefs)\n",
    "max_haz_coef=sum(max_hazard)\n",
    "weighted_max_hazard=[0]*len(df_col)\n",
    "for i in range(len(df_col)):\n",
    "    weighted_max_hazard[i]=max_hazard[i]/max_haz_coef\n",
    "\n",
    "for i in range(len(df_col)):\n",
    "    for j in range(len(hazard_coefs[i]['hazard_coef'])):\n",
    "        norm_hazard_coefs[i]['hazard_coef'][j] =  hazard_coefs[i]['hazard_coef'][j]/max_hazard[i]*weighted_max_hazard[i]"
   ]
  },
  {
   "cell_type": "markdown",
   "metadata": {},
   "source": [
    "Also, let's calculate the average contribution of each feature. "
   ]
  },
  {
   "cell_type": "code",
   "execution_count": 13,
   "metadata": {},
   "outputs": [],
   "source": [
    "average_hazard=[0]*len(df_col)\n",
    "for i in range(len(df_col)):\n",
    "    average_hazard[i]=norm_hazard_coefs[i]['hazard_coef'].mean()"
   ]
  },
  {
   "cell_type": "markdown",
   "metadata": {},
   "source": [
    "We now have hazard coefficient values for all road features. Let's represent the influence of each feature on the total coefficient in the form of a graph."
   ]
  },
  {
   "cell_type": "code",
   "execution_count": 14,
   "metadata": {},
   "outputs": [
    {
     "data": {
      "image/png": "[encoded data removed]",
      "text/plain": [
       "<Figure size 720x576 with 1 Axes>"
      ]
     },
     "metadata": {
      "needs_background": "light"
     },
     "output_type": "display_data"
    }
   ],
   "source": [
    "plt.figure(figsize=((10,8)))\n",
    "plt.barh(df_col, weighted_max_hazard)\n",
    "plt.barh(df_col, average_hazard)\n",
    "plt.xticks(rotation=90)\n",
    "plt.tight_layout()\n",
    "plt.show()"
   ]
  },
  {
   "cell_type": "markdown",
   "metadata": {},
   "source": [
    "Let's split features into three groups: road conditions, weather conditions, circumstances."
   ]
  },
  {
   "cell_type": "code",
   "execution_count": 15,
   "metadata": {},
   "outputs": [],
   "source": [
    "roadcon_col=['COUNTY','DEMARCATION','ALLOWED_SPEED','TERRAIN','SPECIAL_FUNCTION','TRACK_TRAJECTORIES','AREA_CLASSIFICATION','ROAD_OWNERSHIP']\n",
    "weathcon_col=['FOG','CLIMATOLOGY','LIGHT_CONDITIONS','ROAD_STATE','WIND_CLASSIFICATION']\n",
    "circumst_col=['MONTH','SPECIAL_MEASURES','INTERSECTION','REGULATION_OF_PRIORITY','TYPE_OF_SECTION','ALTIMETRIC_LAYOUT','TIME_SLOT','WEEKDAY','SPECIAL_LANE']"
   ]
  },
  {
   "cell_type": "markdown",
   "metadata": {},
   "source": [
    "Now we need to create a separate group of hazard coefficients for every features list. Also we create a list of maximum coefficients."
   ]
  },
  {
   "cell_type": "code",
   "execution_count": 16,
   "metadata": {},
   "outputs": [],
   "source": [
    "roadcon={}\n",
    "road_max_hazard=[0]*len(roadcon_col)\n",
    "for id,item in enumerate(roadcon_col):\n",
    "    roadcon[id]=hazard_coefs[df_col.get_loc(item)]\n",
    "    for i in range(len(hazard_coefs[df_col.get_loc(item)])):\n",
    "        if (roadcon[id]['hazard_coef'][i] > road_max_hazard[id]):\n",
    "            road_max_hazard[id]=roadcon[id]['hazard_coef'][i].copy()\n",
    "    \n",
    "weathcon={}\n",
    "weath_max_hazard=[0]*len(weathcon_col)\n",
    "for id,item in enumerate(weathcon_col):\n",
    "    weathcon[id]=hazard_coefs[df_col.get_loc(item)]\n",
    "    for i in range(len(hazard_coefs[df_col.get_loc(item)])):\n",
    "        if (weathcon[id]['hazard_coef'][i] > weath_max_hazard[id]):\n",
    "            weath_max_hazard[id]=weathcon[id]['hazard_coef'][i].copy()\n",
    "    \n",
    "circumst={}\n",
    "circumst_max_hazard=[0]*len(circumst_col)\n",
    "for id,item in enumerate(circumst_col):\n",
    "    circumst[id]=hazard_coefs[df_col.get_loc(item)]\n",
    "    for i in range(len(hazard_coefs[df_col.get_loc(item)])):\n",
    "        if (circumst[id]['hazard_coef'][i] > circumst_max_hazard[id]):\n",
    "            circumst_max_hazard[id]=circumst[id]['hazard_coef'][i].copy()"
   ]
  },
  {
   "cell_type": "markdown",
   "metadata": {},
   "source": [
    "Now we can demonstrate the contribution of each group of features to the hazard ratio in the form of a horizontal bar chart."
   ]
  },
  {
   "cell_type": "code",
   "execution_count": 17,
   "metadata": {},
   "outputs": [
    {
     "data": {
      "image/png": "[encoded data removed]",
      "text/plain": [
       "<Figure size 864x144 with 1 Axes>"
      ]
     },
     "metadata": {
      "needs_background": "light"
     },
     "output_type": "display_data"
    }
   ],
   "source": [
    "rmh=sum(road_max_hazard)\n",
    "wmh=sum(weath_max_hazard)\n",
    "cmh=sum(circumst_max_hazard)\n",
    "totalmh=rmh+wmh+cmh\n",
    "\n",
    "plt.figure(figsize=((12,2)))\n",
    "labels=['']\n",
    "plt.barh(labels, (rmh/totalmh), height=1)\n",
    "plt.barh(labels, (wmh/totalmh), height=1, left=(rmh/totalmh))\n",
    "plt.barh(labels, (cmh/totalmh), height=1, left=((rmh+wmh)/totalmh))\n",
    "plt.xlim((0,1))\n",
    "plt.tight_layout()\n",
    "plt.tick_params(\n",
    "    axis='y',          \n",
    "    which='both',      \n",
    "    left=False,      \n",
    "    right=False,         \n",
    "    labelbottom=False)\n",
    "textbox=dict(boxstyle=\"square\",\n",
    "                   ec=(1., 1., 1.),\n",
    "                   fc=(1., 1., 1.),\n",
    "                   )\n",
    "plt.text((rmh/totalmh)/2, 0.01, \"Road conditions\", size=15, ha=\"center\", va=\"center\", bbox=textbox)\n",
    "plt.text((rmh/totalmh + (wmh/totalmh)/2), 0.01, \"Weather conditions\", size=15, ha=\"center\", va=\"center\",bbox=textbox)\n",
    "plt.text((rmh/totalmh + (wmh/totalmh) + (cmh/totalmh)/2), 0.01, \"Circumstances\", size=15, ha=\"center\", va=\"center\",bbox=textbox)\n",
    "plt.show()"
   ]
  },
  {
   "cell_type": "markdown",
   "metadata": {},
   "source": [
    "Now we can normalize every group and calculate the influence of each feature on the total coefficient."
   ]
  },
  {
   "cell_type": "code",
   "execution_count": 18,
   "metadata": {},
   "outputs": [],
   "source": [
    "w_road_max_hazard=[0]*len(roadcon_col)\n",
    "for i in range(len(roadcon_col)):\n",
    "    w_road_max_hazard[i]=road_max_hazard[i]/rmh\n",
    "\n",
    "for i in range(len(roadcon_col)):\n",
    "    for j in range(len(roadcon[i]['hazard_coef'])):\n",
    "        roadcon[i]['hazard_coef'][j] = roadcon[i]['hazard_coef'][j]/road_max_hazard[i]*w_road_max_hazard[i]      \n",
    "        \n",
    "w_weath_max_hazard=[0]*len(weathcon_col)\n",
    "for i in range(len(weathcon_col)):\n",
    "    w_weath_max_hazard[i]=weath_max_hazard[i]/wmh\n",
    "\n",
    "for i in range(len(weathcon_col)):\n",
    "    for j in range(len(weathcon[i]['hazard_coef'])):\n",
    "        weathcon[i]['hazard_coef'][j] = weathcon[i]['hazard_coef'][j]/weath_max_hazard[i]*w_weath_max_hazard[i]\n",
    "        \n",
    "w_circumst_max_hazard=[0]*len(circumst_col)\n",
    "for i in range(len(circumst_col)):\n",
    "    w_circumst_max_hazard[i]=circumst_max_hazard[i]/cmh\n",
    "\n",
    "for i in range(len(circumst_col)):\n",
    "    for j in range(len(circumst[i]['hazard_coef'])):\n",
    "        circumst[i]['hazard_coef'][j] = circumst[i]['hazard_coef'][j]/circumst_max_hazard[i]*w_circumst_max_hazard[i]"
   ]
  },
  {
   "cell_type": "markdown",
   "metadata": {},
   "source": [
    "We can represent it the same way as for full list of features."
   ]
  },
  {
   "cell_type": "code",
   "execution_count": 19,
   "metadata": {},
   "outputs": [
    {
     "data": {
      "image/png": "[encoded data removed]",
      "text/plain": [
       "<Figure size 720x576 with 1 Axes>"
      ]
     },
     "metadata": {
      "needs_background": "light"
     },
     "output_type": "display_data"
    }
   ],
   "source": [
    "plt.figure(figsize=((10,8)))\n",
    "\n",
    "plt.barh(circumst_col, w_circumst_max_hazard,color='#2ca02c')\n",
    "plt.barh(weathcon_col, w_weath_max_hazard,color='#ff7f0e')\n",
    "plt.barh(roadcon_col, w_road_max_hazard,color='#1f77b4')\n",
    "\n",
    "plt.xticks(rotation=90)\n",
    "plt.tight_layout()\n",
    "plt.show()"
   ]
  },
  {
   "cell_type": "markdown",
   "metadata": {},
   "source": [
    "Now we can move on to the last step of this stage. We start from creating additional columns for hazard ratio and removing temporary column *'count'*."
   ]
  },
  {
   "cell_type": "code",
   "execution_count": 20,
   "metadata": {},
   "outputs": [],
   "source": [
    "maindf['HAZARD_RATIO_all']=0.\n",
    "maindf['HAZARD_RATIO_road']=0.\n",
    "maindf['HAZARD_RATIO_weather']=0.\n",
    "maindf['HAZARD_RATIO_circumst']=0."
   ]
  },
  {
   "cell_type": "code",
   "execution_count": 21,
   "metadata": {},
   "outputs": [],
   "source": [
    "maindf.drop(['count'],axis=1,inplace=True)"
   ]
  },
  {
   "cell_type": "markdown",
   "metadata": {},
   "source": [
    "Let's proceed the calculation of hazard ratio based on all groups of features.\n",
    "\n",
    "*It takes some time, so we can just load already calculated csv file below.*"
   ]
  },
  {
   "cell_type": "code",
   "execution_count": 22,
   "metadata": {},
   "outputs": [],
   "source": [
    "for i in range(maindf.shape[0]):\n",
    "    for id,item in enumerate(df_col):\n",
    "        curr_var=maindf[item][i]\n",
    "        curr_var_coef=norm_hazard_coefs[id].loc[norm_hazard_coefs[id][item] == curr_var]['hazard_coef']\n",
    "        maindf['HAZARD_RATIO_all'][i] = maindf['HAZARD_RATIO_all'][i] + curr_var_coef"
   ]
  },
  {
   "cell_type": "code",
   "execution_count": 23,
   "metadata": {},
   "outputs": [
    {
     "data": {
      "text/plain": [
       "count    16774.000000\n",
       "mean         0.818461\n",
       "std          0.026280\n",
       "min          0.746372\n",
       "25%          0.797736\n",
       "50%          0.811868\n",
       "75%          0.841576\n",
       "max          0.908912\n",
       "Name: HAZARD_RATIO_all, dtype: float64"
      ]
     },
     "execution_count": 23,
     "metadata": {},
     "output_type": "execute_result"
    }
   ],
   "source": [
    "maindf['HAZARD_RATIO_all'].describe()"
   ]
  },
  {
   "cell_type": "code",
   "execution_count": 24,
   "metadata": {},
   "outputs": [],
   "source": [
    "for i in range(maindf.shape[0]):\n",
    "    for id,item in enumerate(roadcon_col):\n",
    "        curr_var=maindf[item][i]\n",
    "        curr_var_coef=roadcon[id].loc[roadcon[id][item] == curr_var]['hazard_coef']\n",
    "        maindf['HAZARD_RATIO_road'][i] = maindf['HAZARD_RATIO_road'][i] + curr_var_coef"
   ]
  },
  {
   "cell_type": "code",
   "execution_count": 25,
   "metadata": {},
   "outputs": [
    {
     "data": {
      "text/plain": [
       "count    16774.000000\n",
       "mean         0.762035\n",
       "std          0.043874\n",
       "min          0.690485\n",
       "25%          0.724107\n",
       "50%          0.750771\n",
       "75%          0.800539\n",
       "max          0.894002\n",
       "Name: HAZARD_RATIO_road, dtype: float64"
      ]
     },
     "execution_count": 25,
     "metadata": {},
     "output_type": "execute_result"
    }
   ],
   "source": [
    "maindf['HAZARD_RATIO_road'].describe()"
   ]
  },
  {
   "cell_type": "code",
   "execution_count": 26,
   "metadata": {},
   "outputs": [],
   "source": [
    "for i in range(maindf.shape[0]):\n",
    "    for id,item in enumerate(weathcon_col):\n",
    "        curr_var=maindf[item][i]\n",
    "        curr_var_coef=weathcon[id].loc[weathcon[id][item] == curr_var]['hazard_coef']\n",
    "        maindf['HAZARD_RATIO_weather'][i] = maindf['HAZARD_RATIO_weather'][i] + curr_var_coef"
   ]
  },
  {
   "cell_type": "code",
   "execution_count": 27,
   "metadata": {},
   "outputs": [
    {
     "data": {
      "text/plain": [
       "count    16774.000000\n",
       "mean         0.862335\n",
       "std          0.018278\n",
       "min          0.710401\n",
       "25%          0.855910\n",
       "50%          0.855910\n",
       "75%          0.855910\n",
       "max          0.987172\n",
       "Name: HAZARD_RATIO_weather, dtype: float64"
      ]
     },
     "execution_count": 27,
     "metadata": {},
     "output_type": "execute_result"
    }
   ],
   "source": [
    "maindf['HAZARD_RATIO_weather'].describe()"
   ]
  },
  {
   "cell_type": "code",
   "execution_count": 28,
   "metadata": {},
   "outputs": [],
   "source": [
    "for i in range(maindf.shape[0]):\n",
    "    for id,item in enumerate(circumst_col):\n",
    "        curr_var=maindf[item][i]\n",
    "        curr_var_coef=circumst[id].loc[circumst[id][item] == curr_var]['hazard_coef']\n",
    "        maindf['HAZARD_RATIO_circumst'][i] = maindf['HAZARD_RATIO_circumst'][i] + curr_var_coef"
   ]
  },
  {
   "cell_type": "code",
   "execution_count": 29,
   "metadata": {},
   "outputs": [
    {
     "data": {
      "text/plain": [
       "count    16774.000000\n",
       "mean         0.850398\n",
       "std          0.025637\n",
       "min          0.772121\n",
       "25%          0.831962\n",
       "50%          0.850262\n",
       "75%          0.871067\n",
       "max          0.946159\n",
       "Name: HAZARD_RATIO_circumst, dtype: float64"
      ]
     },
     "execution_count": 29,
     "metadata": {},
     "output_type": "execute_result"
    }
   ],
   "source": [
    "maindf['HAZARD_RATIO_circumst'].describe()"
   ]
  },
  {
   "cell_type": "markdown",
   "metadata": {},
   "source": [
    "In the future analysis we'll be using hazard ratio calculated based on road conditions. We can make a histogram for better understanding of the distribution."
   ]
  },
  {
   "cell_type": "code",
   "execution_count": 30,
   "metadata": {},
   "outputs": [
    {
     "data": {
      "image/png": "[encoded data removed]",
      "text/plain": [
       "<Figure size 720x576 with 1 Axes>"
      ]
     },
     "metadata": {
      "needs_background": "light"
     },
     "output_type": "display_data"
    }
   ],
   "source": [
    "plt.figure(figsize=((10,8)))\n",
    "n, bins, patches = plt.hist(maindf['HAZARD_RATIO_road'], 50)\n",
    "plt.xlabel('Hazard ratio')\n",
    "plt.ylabel('Number of entries')\n",
    "plt.show()"
   ]
  },
  {
   "cell_type": "markdown",
   "metadata": {},
   "source": [
    "*Calculated csv file:*"
   ]
  },
  {
   "cell_type": "code",
   "execution_count": 32,
   "metadata": {},
   "outputs": [],
   "source": [
    "maindf=pd.read_csv(\"https://raw.githubusercontent.com/secondaryemotion/Coursera_Capstone/master/hazard_ratio_data.csv\")"
   ]
  },
  {
   "cell_type": "markdown",
   "metadata": {},
   "source": [
    "### Methodology: Machine Learning models <a name=\"models\"></a>"
   ]
  },
  {
   "cell_type": "markdown",
   "metadata": {},
   "source": [
    "We need to create a dataset with only road conditions and road hazard ratios, shuffle the entries and split it into 4 parts."
   ]
  },
  {
   "cell_type": "code",
   "execution_count": 91,
   "metadata": {},
   "outputs": [],
   "source": [
    "ML_dataset=maindf[['COUNTY','DEMARCATION','ALLOWED_SPEED','TERRAIN','SPECIAL_FUNCTION','TRACK_TRAJECTORIES','AREA_CLASSIFICATION','ROAD_OWNERSHIP', 'HAZARD_RATIO_road']]\n",
    "ML_dataset = ML_dataset.sample(frac=1).reset_index(drop=True)\n",
    "ML_dataset_1 = ML_dataset[:8000]\n",
    "ML_dataset_2 = ML_dataset[8001:]"
   ]
  },
  {
   "cell_type": "markdown",
   "metadata": {},
   "source": [
    "Now we proceed label encoding.\n"
   ]
  },
  {
   "cell_type": "code",
   "execution_count": 92,
   "metadata": {},
   "outputs": [],
   "source": [
    "features = ML_dataset.columns.drop(['HAZARD_RATIO_road'])\n",
    "\n",
    "le = preprocessing.LabelEncoder()\n",
    "for id,item in enumerate(features):\n",
    "    le.fit(ML_dataset[item])\n",
    "    ML_dataset_1[item]=le.transform(ML_dataset_1[item])\n",
    "    ML_dataset_2[item]=le.transform(ML_dataset_2[item])"
   ]
  },
  {
   "cell_type": "markdown",
   "metadata": {},
   "source": [
    "Hazard ratio is a continious variable, so we can use regression models:\n",
    "* Linear;\n",
    "* Ridge; \n",
    "* Lasso;\n",
    "* Random forest;\n",
    "* Gradient boosting regression.\n",
    "\n",
    "We'll start from simple linear regression."
   ]
  },
  {
   "cell_type": "code",
   "execution_count": 93,
   "metadata": {},
   "outputs": [],
   "source": [
    "x1 = ML_dataset_1.drop(['HAZARD_RATIO_road'],axis=1).values\n",
    "y1 = ML_dataset_1['HAZARD_RATIO_road'].values\n",
    "x2 = ML_dataset_2.drop(['HAZARD_RATIO_road'],axis=1).values\n",
    "y2 = ML_dataset_2['HAZARD_RATIO_road'].values"
   ]
  },
  {
   "cell_type": "markdown",
   "metadata": {},
   "source": [
    "We'll start from training and testing on first half of dataset."
   ]
  },
  {
   "cell_type": "code",
   "execution_count": 94,
   "metadata": {},
   "outputs": [
    {
     "name": "stdout",
     "output_type": "stream",
     "text": [
      "Train set: (6400, 8) (6400,)\n",
      "Test set: (1600, 8) (1600,)\n"
     ]
    }
   ],
   "source": [
    "from sklearn.model_selection import train_test_split\n",
    "\n",
    "ML1_x_train, ML1_x_test, ML1_y_train, ML1_y_test = train_test_split(x1, y1, test_size=0.2, random_state=4)\n",
    "print ('Train set:', ML1_x_train.shape,  ML1_y_train.shape)\n",
    "print ('Test set:', ML1_x_test.shape,  ML1_y_test.shape)"
   ]
  },
  {
   "cell_type": "code",
   "execution_count": 141,
   "metadata": {},
   "outputs": [
    {
     "data": {
      "text/plain": [
       "LinearRegression()"
      ]
     },
     "execution_count": 141,
     "metadata": {},
     "output_type": "execute_result"
    }
   ],
   "source": [
    "from sklearn import linear_model\n",
    "\n",
    "regr = linear_model.LinearRegression()\n",
    "regr.fit(ML1_x_train, ML1_y_train)"
   ]
  },
  {
   "cell_type": "markdown",
   "metadata": {},
   "source": [
    "Now we can calculate MSE, RMSE, R2-score."
   ]
  },
  {
   "cell_type": "code",
   "execution_count": 143,
   "metadata": {},
   "outputs": [
    {
     "name": "stdout",
     "output_type": "stream",
     "text": [
      "R2-score: 0.49\n"
     ]
    }
   ],
   "source": [
    "from sklearn.metrics import r2_score\n",
    "import numpy as np \n",
    "\n",
    "yhat1 = regr.predict(ML1_x_test)\n",
    "print(\"R2-score: %.2f\" % r2_score(yhat1 , ML1_y_test))"
   ]
  },
  {
   "cell_type": "markdown",
   "metadata": {},
   "source": [
    "Although R2 score is not that impressive, for the sake of statistics we will continue with the second half of the dataset."
   ]
  },
  {
   "cell_type": "code",
   "execution_count": 144,
   "metadata": {},
   "outputs": [
    {
     "name": "stdout",
     "output_type": "stream",
     "text": [
      "R2-score: 0.51\n"
     ]
    }
   ],
   "source": [
    "yhat2 = regr.predict(x2)\n",
    "print(\"R2-score: %.2f\" % r2_score(yhat2 , y2))"
   ]
  },
  {
   "cell_type": "markdown",
   "metadata": {},
   "source": [
    "Next step is the Ridge regression. Now we will use the second half of the dataset for training and testing."
   ]
  },
  {
   "cell_type": "code",
   "execution_count": 135,
   "metadata": {},
   "outputs": [
    {
     "name": "stdout",
     "output_type": "stream",
     "text": [
      "R2-score: 0.69\n"
     ]
    }
   ],
   "source": [
    "from sklearn.linear_model import RidgeCV\n",
    "\n",
    "ML2_x_train, ML2_x_test, ML2_y_train, ML2_y_test = train_test_split(x2, y2, test_size=0.2, random_state=4)\n",
    "\n",
    "ridge = RidgeCV(alphas=[1e-3, 1e-2, 1e-1, 1])\n",
    "ridge.fit(ML2_x_train, ML2_y_train)\n",
    "print(\"R2-score: %.2f\" % ridge.score(ML2_x_test, ML2_y_test))"
   ]
  },
  {
   "cell_type": "markdown",
   "metadata": {},
   "source": [
    "Now the same for another half of the dataset."
   ]
  },
  {
   "cell_type": "code",
   "execution_count": 139,
   "metadata": {},
   "outputs": [
    {
     "name": "stdout",
     "output_type": "stream",
     "text": [
      "R2-score: 0.67\n"
     ]
    }
   ],
   "source": [
    "print(\"R2-score: %.2f\" % ridge.score(x1, y1))"
   ]
  },
  {
   "cell_type": "markdown",
   "metadata": {},
   "source": [
    "Lasso regression. We switch parts of the dataset again."
   ]
  },
  {
   "cell_type": "code",
   "execution_count": 138,
   "metadata": {},
   "outputs": [
    {
     "name": "stdout",
     "output_type": "stream",
     "text": [
      "R2-score: 0.66\n"
     ]
    }
   ],
   "source": [
    "from sklearn.linear_model import LassoCV\n",
    "\n",
    "lasso = LassoCV(cv=5, random_state=0).fit(ML1_x_train, ML1_y_train)\n",
    "print(\"R2-score: %.2f\" % lasso.score(ML1_x_test, ML1_y_test))"
   ]
  },
  {
   "cell_type": "markdown",
   "metadata": {},
   "source": [
    "Another half."
   ]
  },
  {
   "cell_type": "code",
   "execution_count": 140,
   "metadata": {},
   "outputs": [
    {
     "name": "stdout",
     "output_type": "stream",
     "text": [
      "R2-score: 0.67\n"
     ]
    }
   ],
   "source": [
    "print(\"R2-score: %.2f\" % lasso.score(x2, y2))"
   ]
  },
  {
   "cell_type": "markdown",
   "metadata": {},
   "source": [
    "Random forest regression."
   ]
  },
  {
   "cell_type": "code",
   "execution_count": 156,
   "metadata": {},
   "outputs": [
    {
     "name": "stdout",
     "output_type": "stream",
     "text": [
      "R2-score: 0.92\n"
     ]
    }
   ],
   "source": [
    "from sklearn.ensemble import RandomForestRegressor\n",
    "\n",
    "rforest = RandomForestRegressor(max_depth=5, random_state=0)\n",
    "rforest.fit(ML2_x_train, ML2_y_train)\n",
    "print(\"R2-score: %.2f\" % rforest.score(ML2_x_test, ML2_y_test))"
   ]
  },
  {
   "cell_type": "code",
   "execution_count": 157,
   "metadata": {},
   "outputs": [
    {
     "name": "stdout",
     "output_type": "stream",
     "text": [
      "R2-score: 0.92\n"
     ]
    }
   ],
   "source": [
    "print(\"R2-score: %.2f\" % rforest.score(x1, y1))"
   ]
  },
  {
   "cell_type": "markdown",
   "metadata": {},
   "source": [
    "Gradient Boosting regression."
   ]
  },
  {
   "cell_type": "code",
   "execution_count": 158,
   "metadata": {},
   "outputs": [
    {
     "name": "stdout",
     "output_type": "stream",
     "text": [
      "R2-score: 0.98\n"
     ]
    }
   ],
   "source": [
    "from sklearn.ensemble import GradientBoostingRegressor\n",
    "gbr = GradientBoostingRegressor(random_state=0)\n",
    "gbr.fit(ML1_x_train, ML1_y_train)\n",
    "print(\"R2-score: %.2f\" % gbr.score(ML1_x_test, ML1_y_test))"
   ]
  },
  {
   "cell_type": "code",
   "execution_count": 159,
   "metadata": {},
   "outputs": [
    {
     "name": "stdout",
     "output_type": "stream",
     "text": [
      "R2-score: 0.98\n"
     ]
    }
   ],
   "source": [
    "print(\"R2-score: %.2f\" % gbr.score(x2, y2))"
   ]
  },
  {
   "cell_type": "markdown",
   "metadata": {},
   "source": [
    "The best performances are at random forest and gradient boosting regression. We'll use them in further analysis."
   ]
  },
  {
   "cell_type": "markdown",
   "metadata": {},
   "source": [
    "### Methodology: Hazard ratio estimation <a name=\"estimation\"></a>"
   ]
  },
  {
   "cell_type": "markdown",
   "metadata": {},
   "source": [
    "At this step we need to create a dataset of roads and their properties. We'll be using dataset *roaddf* from earlier step."
   ]
  },
  {
   "cell_type": "code",
   "execution_count": 338,
   "metadata": {},
   "outputs": [],
   "source": [
    "roaddf_ML=roaddf[['ROAD','COUNTY','DEMARCATION','ALLOWED_SPEED','TERRAIN','SPECIAL_FUNCTION','TRACK_TRAJECTORIES','AREA_CLASSIFICATION','ROAD_OWNERSHIP']]"
   ]
  },
  {
   "cell_type": "markdown",
   "metadata": {},
   "source": [
    "We will split it into dataframes by different roads. It's a long process, so calculated dataset can be downloaded below."
   ]
  },
  {
   "cell_type": "code",
   "execution_count": 339,
   "metadata": {},
   "outputs": [],
   "source": [
    "roads={}\n",
    "roadlist=roaddf_ML['ROAD'].unique()\n",
    "for id, item in enumerate(roadlist):\n",
    "    j=len(roads)\n",
    "    roads[id]=pd.DataFrame(columns=roaddf_ML.columns)\n",
    "    for i in range(roaddf_ML.shape[0]):\n",
    "        if (roaddf_ML['ROAD'][i]==item):\n",
    "            roads[id].loc[j]=(roaddf_ML.iloc[i].tolist())\n",
    "            j=j+1"
   ]
  },
  {
   "cell_type": "markdown",
   "metadata": {},
   "source": [
    "We need to pick roads with only one unique set of features."
   ]
  },
  {
   "cell_type": "code",
   "execution_count": 357,
   "metadata": {},
   "outputs": [],
   "source": [
    "roadsdataset=pd.DataFrame(columns=roaddf_ML.columns)\n",
    "j=0\n",
    "for id, item in enumerate(roadlist):\n",
    "    roads[id].drop_duplicates()\n",
    "    if (roads[id].shape[0]==1):\n",
    "        roadsdataset.loc[j]=roads[id].iloc[0].tolist()\n",
    "        j=j+1"
   ]
  },
  {
   "cell_type": "markdown",
   "metadata": {},
   "source": [
    "*Calculated csv file:*"
   ]
  },
  {
   "cell_type": "code",
   "execution_count": 380,
   "metadata": {},
   "outputs": [],
   "source": [
    "roadsdataset=pd.read_csv('https://raw.githubusercontent.com/secondaryemotion/Coursera_Capstone/master/roadsdataset.csv', index_col=0)"
   ]
  },
  {
   "cell_type": "markdown",
   "metadata": {},
   "source": [
    "Now we can predict hazard ratio. Let's proceed label encoding."
   ]
  },
  {
   "cell_type": "code",
   "execution_count": 381,
   "metadata": {},
   "outputs": [],
   "source": [
    "r_features = roadsdataset.columns.drop(['ROAD'])\n",
    "\n",
    "for id,item in enumerate(r_features):\n",
    "    le.fit(ML_dataset[item])\n",
    "    roadsdataset[item]=le.transform(roadsdataset[item])\n",
    "roadsdataset['RF_HAZARD_RATIO']=0."
   ]
  },
  {
   "cell_type": "markdown",
   "metadata": {},
   "source": [
    "Random forest regression calculation:"
   ]
  },
  {
   "cell_type": "code",
   "execution_count": 386,
   "metadata": {},
   "outputs": [],
   "source": [
    "x = roadsdataset.drop(['ROAD','RF_HAZARD_RATIO'],axis=1).values\n",
    "roadsdataset['RF_HAZARD_RATIO'] = rforest.predict(x)"
   ]
  },
  {
   "cell_type": "markdown",
   "metadata": {},
   "source": [
    "Gradient boosting regression calculation:"
   ]
  },
  {
   "cell_type": "code",
   "execution_count": 388,
   "metadata": {},
   "outputs": [],
   "source": [
    "roadsdataset['GB_HAZARD_RATIO']=0.\n",
    "roadsdataset['GB_HAZARD_RATIO'] = gbr.predict(x)"
   ]
  },
  {
   "cell_type": "markdown",
   "metadata": {},
   "source": [
    "After predicting hazard ratios, we can proceed label decoding."
   ]
  },
  {
   "cell_type": "code",
   "execution_count": 391,
   "metadata": {},
   "outputs": [],
   "source": [
    "for id,item in enumerate(r_features):\n",
    "    le.fit(ML_dataset[item])\n",
    "    roadsdataset[item]=le.inverse_transform(roadsdataset[item])"
   ]
  },
  {
   "cell_type": "markdown",
   "metadata": {},
   "source": [
    "Let's sort the dataset in ascending order of hazard ratio calculated by random forest regression model."
   ]
  },
  {
   "cell_type": "code",
   "execution_count": 399,
   "metadata": {},
   "outputs": [],
   "source": [
    "roadsdataset.sort_values(['RF_HAZARD_RATIO'],ascending=True, inplace=True)"
   ]
  },
  {
   "cell_type": "markdown",
   "metadata": {},
   "source": [
    "Take a look at top-5 least dangerous roads:"
   ]
  },
  {
   "cell_type": "code",
   "execution_count": 401,
   "metadata": {},
   "outputs": [
    {
     "data": {
      "text/html": [
       "<div>\n",
       "<style scoped>\n",
       "    .dataframe tbody tr th:only-of-type {\n",
       "        vertical-align: middle;\n",
       "    }\n",
       "\n",
       "    .dataframe tbody tr th {\n",
       "        vertical-align: top;\n",
       "    }\n",
       "\n",
       "    .dataframe thead th {\n",
       "        text-align: right;\n",
       "    }\n",
       "</style>\n",
       "<table border=\"1\" class=\"dataframe\">\n",
       "  <thead>\n",
       "    <tr style=\"text-align: right;\">\n",
       "      <th></th>\n",
       "      <th>ROAD</th>\n",
       "      <th>RF_HAZARD_RATIO</th>\n",
       "      <th>GB_HAZARD_RATIO</th>\n",
       "    </tr>\n",
       "  </thead>\n",
       "  <tbody>\n",
       "    <tr>\n",
       "      <th>74</th>\n",
       "      <td>B-250a</td>\n",
       "      <td>0.718680</td>\n",
       "      <td>0.707151</td>\n",
       "    </tr>\n",
       "    <tr>\n",
       "      <th>190</th>\n",
       "      <td>BV-5005</td>\n",
       "      <td>0.721427</td>\n",
       "      <td>0.724435</td>\n",
       "    </tr>\n",
       "    <tr>\n",
       "      <th>178</th>\n",
       "      <td>BV-5033</td>\n",
       "      <td>0.726437</td>\n",
       "      <td>0.711195</td>\n",
       "    </tr>\n",
       "    <tr>\n",
       "      <th>202</th>\n",
       "      <td>C-149b</td>\n",
       "      <td>0.726437</td>\n",
       "      <td>0.723338</td>\n",
       "    </tr>\n",
       "    <tr>\n",
       "      <th>97</th>\n",
       "      <td>BV-2001</td>\n",
       "      <td>0.726934</td>\n",
       "      <td>0.707151</td>\n",
       "    </tr>\n",
       "  </tbody>\n",
       "</table>\n",
       "</div>"
      ],
      "text/plain": [
       "        ROAD  RF_HAZARD_RATIO  GB_HAZARD_RATIO\n",
       "74    B-250a         0.718680         0.707151\n",
       "190  BV-5005         0.721427         0.724435\n",
       "178  BV-5033         0.726437         0.711195\n",
       "202   C-149b         0.726437         0.723338\n",
       "97   BV-2001         0.726934         0.707151"
      ]
     },
     "execution_count": 401,
     "metadata": {},
     "output_type": "execute_result"
    }
   ],
   "source": [
    "roadsdataset[['ROAD','RF_HAZARD_RATIO','GB_HAZARD_RATIO']].head(5)"
   ]
  },
  {
   "cell_type": "markdown",
   "metadata": {},
   "source": [
    "And top-5 most dangerous roads:"
   ]
  },
  {
   "cell_type": "code",
   "execution_count": 402,
   "metadata": {},
   "outputs": [
    {
     "data": {
      "text/html": [
       "<div>\n",
       "<style scoped>\n",
       "    .dataframe tbody tr th:only-of-type {\n",
       "        vertical-align: middle;\n",
       "    }\n",
       "\n",
       "    .dataframe tbody tr th {\n",
       "        vertical-align: top;\n",
       "    }\n",
       "\n",
       "    .dataframe thead th {\n",
       "        text-align: right;\n",
       "    }\n",
       "</style>\n",
       "<table border=\"1\" class=\"dataframe\">\n",
       "  <thead>\n",
       "    <tr style=\"text-align: right;\">\n",
       "      <th></th>\n",
       "      <th>ROAD</th>\n",
       "      <th>RF_HAZARD_RATIO</th>\n",
       "      <th>GB_HAZARD_RATIO</th>\n",
       "    </tr>\n",
       "  </thead>\n",
       "  <tbody>\n",
       "    <tr>\n",
       "      <th>191</th>\n",
       "      <td>GI-514</td>\n",
       "      <td>0.829203</td>\n",
       "      <td>0.829792</td>\n",
       "    </tr>\n",
       "    <tr>\n",
       "      <th>30</th>\n",
       "      <td>T-712</td>\n",
       "      <td>0.829203</td>\n",
       "      <td>0.840368</td>\n",
       "    </tr>\n",
       "    <tr>\n",
       "      <th>136</th>\n",
       "      <td>TV-3322</td>\n",
       "      <td>0.829203</td>\n",
       "      <td>0.849699</td>\n",
       "    </tr>\n",
       "    <tr>\n",
       "      <th>87</th>\n",
       "      <td>T-233</td>\n",
       "      <td>0.829203</td>\n",
       "      <td>0.844988</td>\n",
       "    </tr>\n",
       "    <tr>\n",
       "      <th>182</th>\n",
       "      <td>N-1411</td>\n",
       "      <td>0.836906</td>\n",
       "      <td>0.843969</td>\n",
       "    </tr>\n",
       "  </tbody>\n",
       "</table>\n",
       "</div>"
      ],
      "text/plain": [
       "        ROAD  RF_HAZARD_RATIO  GB_HAZARD_RATIO\n",
       "191   GI-514         0.829203         0.829792\n",
       "30     T-712         0.829203         0.840368\n",
       "136  TV-3322         0.829203         0.849699\n",
       "87     T-233         0.829203         0.844988\n",
       "182   N-1411         0.836906         0.843969"
      ]
     },
     "execution_count": 402,
     "metadata": {},
     "output_type": "execute_result"
    }
   ],
   "source": [
    "roadsdataset[['ROAD','RF_HAZARD_RATIO','GB_HAZARD_RATIO']].tail(5)"
   ]
  },
  {
   "cell_type": "markdown",
   "metadata": {},
   "source": [
    "Finally, let's build a histogram."
   ]
  },
  {
   "cell_type": "code",
   "execution_count": 414,
   "metadata": {},
   "outputs": [
    {
     "data": {
      "image/png": "[encoded data removed]",
      "text/plain": [
       "<Figure size 720x576 with 1 Axes>"
      ]
     },
     "metadata": {
      "needs_background": "light"
     },
     "output_type": "display_data"
    }
   ],
   "source": [
    "plt.figure(figsize=((10,8)))\n",
    "n, bins, patches = plt.hist(roadsdataset['RF_HAZARD_RATIO'], 10)\n",
    "n, bins, patches = plt.hist(roadsdataset['GB_HAZARD_RATIO'], 10, fc=(1, 0.5, 0.55, 0.5))\n",
    "plt.xlabel('Hazard ratio')\n",
    "plt.ylabel('Number of entries')\n",
    "plt.tight_layout()\n",
    "plt.show()"
   ]
  },
  {
   "cell_type": "markdown",
   "metadata": {},
   "source": [
    "### Results and Discussion <a name=\"results\"></a>"
   ]
  },
  {
   "cell_type": "markdown",
   "metadata": {},
   "source": [
    "During the work, hazard ratios were determined for various components such as road conditions, weather conditions and circumstances, based on the dataset of Road accidents in Catalonia. In the presence of a large number of features, their average contribution to the hazard ratio is approximately equal, which confirms the idea that there is no universal way to improve road safety.\n",
    "\n",
    "At the stage of machine learning, regression models were built to determine the hazard ratio based on road conditions. On average, the hazard ratio was between 0.7 and 0.9. Values less than or equal to 25% were classified as low, 25-75% as medium, and the rest as high.\n",
    "\n",
    "The most effective were random forest regression and gradient booster regression. They were used to calculate the hazard ratio of specific roads. Based on data on 221 roads, a histogram of hazard ratio values distribution was obtained. Most of the roads are classified as high hazard category.\n",
    "\n",
    "However, when calculating the hazard ratio of entries, most of the dataset was in the low hazard ratio zone. This is due to the presence of a large number of parts of the same road that have completely different conditions and, subsequently, hazard ratios. It may also be due to the fact that during the calculation of the hazard factor for the entire dataset, all features were used, and, therefore, the weather conditions too. Catalonia has good weather, so the contribution of positive weather conditions could artificially underestimate the hazard ratio.\n"
   ]
  },
  {
   "cell_type": "markdown",
   "metadata": {},
   "source": [
    "### Conclusion <a name=\"conclusion\"></a>"
   ]
  },
  {
   "cell_type": "markdown",
   "metadata": {},
   "source": [
    "The aim of this project was to build a model to determine the hazard ratio of the roads based on certain features. The results showed the need to collect similar data for all roads, and not just for actual accidents, as this way the data becomes negatively biased.\n",
    "\n",
    "In the course of further use and development of this model, in the case of the availability of suitable datasets, it is possible to generate information on the hazard ratio of all roads in a certain region. Based on the hazard ratio data, it is possible to determine which roads should be paid special attention to over what period of time, which will prevent accidents."
   ]
  },
  {
   "cell_type": "code",
   "execution_count": null,
   "metadata": {},
   "outputs": [],
   "source": []
  }
 ],
 "metadata": {
  "kernelspec": {
   "display_name": "Python 3",
   "language": "python",
   "name": "python3"
  },
  "language_info": {
   "codemirror_mode": {
    "name": "ipython",
    "version": 3
   },
   "file_extension": ".py",
   "mimetype": "text/x-python",
   "name": "python",
   "nbconvert_exporter": "python",
   "pygments_lexer": "ipython3",
   "version": "3.8.3"
  }
 },
 "nbformat": 4,
 "nbformat_minor": 4
}
